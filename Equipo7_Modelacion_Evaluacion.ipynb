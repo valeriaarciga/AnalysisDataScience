{
  "nbformat": 4,
  "nbformat_minor": 0,
  "metadata": {
    "colab": {
      "provenance": [],
      "toc_visible": true
    },
    "kernelspec": {
      "name": "python3",
      "display_name": "Python 3"
    },
    "language_info": {
      "name": "python"
    }
  },
  "cells": [
    {
      "cell_type": "markdown",
      "source": [
        "# Datos y librerías"
      ],
      "metadata": {
        "id": "nRatTSVTB38x"
      }
    },
    {
      "cell_type": "code",
      "execution_count": 3,
      "metadata": {
        "colab": {
          "base_uri": "https://localhost:8080/"
        },
        "id": "5JD5TAzzzX8S",
        "outputId": "48ed1638-8088-458f-b316-395a58361307"
      },
      "outputs": [
        {
          "output_type": "stream",
          "name": "stdout",
          "text": [
            "/usr/local/lib/python3.11/dist-packages/gdown/__main__.py:140: FutureWarning: Option `--id` was deprecated in version 4.3.1 and will be removed in 5.0. You don't need to pass it anymore to use a file ID.\n",
            "  warnings.warn(\n",
            "Downloading...\n",
            "From: https://drive.google.com/uc?id=1gzRqjQzPPlxfy2CcBmqaPgy29F_wnBkL\n",
            "To: /content/pobreza_pob.csv\n",
            "100% 517k/517k [00:00<00:00, 107MB/s]\n",
            "/usr/local/lib/python3.11/dist-packages/gdown/__main__.py:140: FutureWarning: Option `--id` was deprecated in version 4.3.1 and will be removed in 5.0. You don't need to pass it anymore to use a file ID.\n",
            "  warnings.warn(\n",
            "Downloading...\n",
            "From: https://drive.google.com/uc?id=1PNzMGvdMsMtQQ_pqdSMRQDamArfrFYsL\n",
            "To: /content/ic_sbv_pob.csv\n",
            "100% 516k/516k [00:00<00:00, 35.0MB/s]\n"
          ]
        }
      ],
      "source": [
        "!gdown --id 1gzRqjQzPPlxfy2CcBmqaPgy29F_wnBkL -O pobreza_pob.csv\n",
        "!gdown --id 1PNzMGvdMsMtQQ_pqdSMRQDamArfrFYsL -O ic_sbv_pob.csv\n",
        "import pandas as pd\n",
        "df_pobreza = pd.read_csv('pobreza_pob.csv')\n",
        "df_ic = pd.read_csv('ic_sbv_pob.csv')"
      ]
    },
    {
      "cell_type": "code",
      "source": [
        "import numpy as np\n",
        "import pandas as pd\n",
        "from sklearn.ensemble import GradientBoostingRegressor, AdaBoostRegressor, RandomForestRegressor\n",
        "from sklearn.svm import SVR\n",
        "from sklearn.linear_model import LinearRegression, BayesianRidge, Ridge\n",
        "from sklearn.tree import DecisionTreeRegressor\n",
        "from xgboost import XGBRegressor\n",
        "from sklearn.neural_network import MLPRegressor\n",
        "from sklearn.model_selection import KFold, cross_validate, train_test_split, GridSearchCV, RandomizedSearchCV, cross_val_predict\n",
        "from sklearn.metrics import make_scorer, mean_squared_error, r2_score\n"
      ],
      "metadata": {
        "id": "yLnQuuSezkvK"
      },
      "execution_count": 16,
      "outputs": []
    },
    {
      "cell_type": "markdown",
      "source": [
        "# pobreza_pob"
      ],
      "metadata": {
        "id": "Qr9smt2f0Tmw"
      }
    },
    {
      "cell_type": "markdown",
      "source": [
        "## SVR"
      ],
      "metadata": {
        "id": "y0Ie2RaOeiLU"
      }
    },
    {
      "cell_type": "markdown",
      "source": [
        "### Test Train values"
      ],
      "metadata": {
        "id": "8GDx0rKpqAL8"
      }
    },
    {
      "cell_type": "code",
      "source": [
        "X = df_pobreza.drop(columns=[\"pobreza_pob\"])\n",
        "y = df_pobreza[\"pobreza_pob\"]\n",
        "\n",
        "X_train, X_test, y_train, y_test = train_test_split(X, y, test_size=0.2, random_state=42)\n",
        "\n",
        "svr_model = SVR(kernel='rbf', C=1.0, epsilon=0.1)\n",
        "svr_model.fit(X_train, y_train)\n",
        "\n",
        "y_train_pred = svr_model.predict(X_train)\n",
        "y_test_pred = svr_model.predict(X_test)\n",
        "\n",
        "r2_train = r2_score(y_train, y_train_pred)\n",
        "mse_train = mean_squared_error(y_train, y_train_pred)\n",
        "\n",
        "r2_test = r2_score(y_test, y_test_pred)\n",
        "mse_test = mean_squared_error(y_test, y_test_pred)\n",
        "\n",
        "print(\"Métricas en el conjunto de entrenamiento:\")\n",
        "print(\"R²:\", r2_train)\n",
        "print(\"MSE:\", mse_train)\n",
        "\n",
        "print(\"\\nMétricas en el conjunto de test:\")\n",
        "print(\"R²:\", r2_test)\n",
        "print(\"MSE:\", mse_test)"
      ],
      "metadata": {
        "colab": {
          "base_uri": "https://localhost:8080/"
        },
        "id": "fx6wRpVdqJdb",
        "outputId": "315014cb-a4f1-4626-a40c-a5e543ac22ca"
      },
      "execution_count": 7,
      "outputs": [
        {
          "output_type": "stream",
          "name": "stdout",
          "text": [
            "Métricas en el conjunto de entrenamiento:\n",
            "R²: 0.6137045720553735\n",
            "MSE: 0.007067559826950046\n",
            "\n",
            "Métricas en el conjunto de test:\n",
            "R²: 0.6215445659967336\n",
            "MSE: 0.0073444865316701115\n"
          ]
        }
      ]
    },
    {
      "cell_type": "markdown",
      "source": [
        "### Cross-Validation"
      ],
      "metadata": {
        "id": "ciHn1d5GeGE1"
      }
    },
    {
      "cell_type": "code",
      "source": [
        "X = df_pobreza.drop(columns=[\"pobreza_pob\"])\n",
        "y = df_pobreza[\"pobreza_pob\"]\n",
        "\n",
        "svr_model = SVR(kernel='rbf', C=1.0, epsilon=0.1)\n",
        "\n",
        "scoring = {\n",
        "    'r2': 'r2',\n",
        "    'mse': 'neg_mean_squared_error'\n",
        "}\n",
        "\n",
        "cv_results = cross_validate(svr_model, X, y, cv=10, scoring=scoring)\n",
        "\n",
        "\n",
        "mean_r2 = np.mean(cv_results['test_r2'])\n",
        "mean_mse = -np.mean(cv_results['test_mse'])\n",
        "\n",
        "print(\"Resultados de Validación Cruzada (K = 10 folds)\")\n",
        "print(\"R² Promedio:\", mean_r2)\n",
        "print(\"MSE Promedio:\", mean_mse)\n",
        "\n"
      ],
      "metadata": {
        "colab": {
          "base_uri": "https://localhost:8080/"
        },
        "id": "DUvtibYjWuUv",
        "outputId": "d3591838-ba23-42c2-b504-1d4adaf4f47d"
      },
      "execution_count": null,
      "outputs": [
        {
          "output_type": "stream",
          "name": "stdout",
          "text": [
            "Resultados de Validación Cruzada (K = 10 folds)\n",
            "R² Promedio: 0.3395996458774929\n",
            "MSE Promedio: 0.009946062842256475\n"
          ]
        }
      ]
    },
    {
      "cell_type": "markdown",
      "source": [
        "### Ajuste de hiperparámetros"
      ],
      "metadata": {
        "id": "X9ZKJWvSfEA5"
      }
    },
    {
      "cell_type": "code",
      "source": [
        "from sklearn.model_selection import RandomizedSearchCV, GridSearchCV, cross_val_predict\n",
        "\n",
        "X = df_pobreza.drop(columns=[\"pobreza_pob\"])\n",
        "y = df_pobreza[\"pobreza_pob\"]\n",
        "\n",
        "cv = KFold(n_splits=10, shuffle=True, random_state=42)\n",
        "\n",
        "\n",
        "\n",
        "param_distributions = {\n",
        "    'C': np.logspace(-2, 2, 50),\n",
        "    'epsilon': np.linspace(0.001, 1, 50),\n",
        "    'gamma': ['scale', 'auto']\n",
        "}\n",
        "\n",
        "\n",
        "random_search = RandomizedSearchCV(\n",
        "    estimator=SVR(kernel='rbf'),\n",
        "    param_distributions=param_distributions,\n",
        "    n_iter=20,\n",
        "    scoring='neg_mean_squared_error',\n",
        "    cv=cv,\n",
        "    random_state=42,\n",
        "    n_jobs=-1\n",
        ")\n",
        "\n",
        "\n",
        "random_search.fit(X, y)\n",
        "\n",
        "print(\"=== Randomized Search ===\")\n",
        "print(\"Mejores hiperparámetros encontrados:\", random_search.best_params_)\n",
        "print(\"Mejor Score (MSE negativo):\", random_search.best_score_)\n",
        "\n",
        "\n",
        "\n",
        "\n",
        "best_params = random_search.best_params_\n",
        "\n",
        "\n",
        "C_best = best_params['C']\n",
        "epsilon_best = best_params['epsilon']\n",
        "gamma_best = best_params['gamma']\n",
        "\n",
        "param_grid = {\n",
        "    'C': [C_best * 0.5, C_best, C_best * 1.5],\n",
        "    'epsilon': [epsilon_best * 0.5, epsilon_best, epsilon_best * 1.5],\n",
        "    'gamma': [gamma_best]\n",
        "}\n",
        "\n",
        "\n",
        "grid_search = GridSearchCV(\n",
        "    estimator=SVR(kernel='rbf'),\n",
        "    param_grid=param_grid,\n",
        "    scoring='neg_mean_squared_error',\n",
        "    cv=cv,\n",
        "    n_jobs=-1\n",
        ")\n",
        "\n",
        "\n",
        "grid_search.fit(X, y)\n",
        "\n",
        "print(\"\\n=== Grid Search ===\")\n",
        "print(\"Mejores hiperparámetros encontrados:\", grid_search.best_params_)\n",
        "print(\"Mejor Score (MSE negativo):\", grid_search.best_score_)\n"
      ],
      "metadata": {
        "colab": {
          "base_uri": "https://localhost:8080/"
        },
        "id": "PjFPKvP1gCj9",
        "outputId": "ae9688b4-d007-46e7-f9af-c8e50f7f2746"
      },
      "execution_count": null,
      "outputs": [
        {
          "output_type": "stream",
          "name": "stdout",
          "text": [
            "=== Randomized Search ===\n",
            "Mejores hiperparámetros encontrados: {'gamma': 'scale', 'epsilon': 0.041775510204081635, 'C': 2.329951810515372}\n",
            "Mejor Score (MSE negativo): -0.006070625507687952\n",
            "\n",
            "=== Grid Search ===\n",
            "Mejores hiperparámetros encontrados: {'C': 3.4949277157730583, 'epsilon': 0.020887755102040818, 'gamma': 'scale'}\n",
            "Mejor Score (MSE negativo): -0.006017446275329666\n"
          ]
        }
      ]
    },
    {
      "cell_type": "markdown",
      "source": [
        "### Cross validation después del ajuste"
      ],
      "metadata": {
        "id": "sDu0s2Fsg-FP"
      }
    },
    {
      "cell_type": "code",
      "source": [
        "best_model = grid_search.best_estimator_\n",
        "\n",
        "y_pred = cross_val_predict(best_model, X, y, cv=cv)\n",
        "\n",
        "final_r2 = r2_score(y, y_pred)\n",
        "final_mse = mean_squared_error(y, y_pred)\n",
        "\n",
        "print(\"\\n=== Evaluación Final del Modelo ===\")\n",
        "print(\"R²:\", final_r2)\n",
        "print(\"MSE:\", final_mse)"
      ],
      "metadata": {
        "colab": {
          "base_uri": "https://localhost:8080/"
        },
        "id": "b-so2qxBg9PN",
        "outputId": "0d412794-11a2-4a3e-c751-d11b5474a68e"
      },
      "execution_count": null,
      "outputs": [
        {
          "output_type": "stream",
          "name": "stdout",
          "text": [
            "\n",
            "=== Evaluación Final del Modelo ===\n",
            "R²: 0.663394499822437\n",
            "MSE: 0.006017120856727691\n"
          ]
        }
      ]
    },
    {
      "cell_type": "markdown",
      "source": [
        "### Test-train después del ajuste"
      ],
      "metadata": {
        "id": "NlwVMEMZqviz"
      }
    },
    {
      "cell_type": "code",
      "source": [
        "X = df_pobreza.drop(columns=[\"pobreza_pob\"])\n",
        "y = df_pobreza[\"pobreza_pob\"]\n",
        "\n",
        "X_train, X_test, y_train, y_test = train_test_split(X, y, test_size=0.2, random_state=42)\n",
        "\n",
        "\n",
        "svr_model = SVR(kernel='rbf',\n",
        "                C=3.4949277157730583,\n",
        "                epsilon=0.020887755102040818,\n",
        "                gamma='scale')\n",
        "\n",
        "\n",
        "svr_model.fit(X_train, y_train)\n",
        "\n",
        "y_train_pred = svr_model.predict(X_train)\n",
        "y_test_pred = svr_model.predict(X_test)\n",
        "\n",
        "\n",
        "r2_train = r2_score(y_train, y_train_pred)\n",
        "mse_train = mean_squared_error(y_train, y_train_pred)\n",
        "\n",
        "r2_test = r2_score(y_test, y_test_pred)\n",
        "mse_test = mean_squared_error(y_test, y_test_pred)\n",
        "\n",
        "print(\"Métricas en el conjunto de entrenamiento:\")\n",
        "print(\"R²:\", r2_train)\n",
        "print(\"MSE:\", mse_train)\n",
        "\n",
        "print(\"\\nMétricas en el conjunto de test:\")\n",
        "print(\"R²:\", r2_test)\n",
        "print(\"MSE:\", mse_test)\n"
      ],
      "metadata": {
        "id": "x0CxV_pKqpym",
        "colab": {
          "base_uri": "https://localhost:8080/"
        },
        "outputId": "f5ca9988-7ed9-410e-9bf6-d9fb5eb99e4f"
      },
      "execution_count": null,
      "outputs": [
        {
          "output_type": "stream",
          "name": "stdout",
          "text": [
            "Métricas en el conjunto de entrenamiento:\n",
            "R²: 0.6702888100010014\n",
            "MSE: 0.0060809762595726916\n",
            "\n",
            "Métricas en el conjunto de test:\n",
            "R²: 0.7181798666730973\n",
            "MSE: 0.004396300720727193\n"
          ]
        }
      ]
    },
    {
      "cell_type": "markdown",
      "source": [
        "## Gradient Boosting"
      ],
      "metadata": {
        "id": "RGiuFX-ik4_W"
      }
    },
    {
      "cell_type": "markdown",
      "source": [
        "### Test Train values"
      ],
      "metadata": {
        "id": "682FTxx7lCLu"
      }
    },
    {
      "cell_type": "code",
      "source": [
        "\n",
        "X = df_pobreza.drop(columns=[\"pobreza_pob\"])\n",
        "y = df_pobreza[\"pobreza_pob\"]\n",
        "\n",
        "\n",
        "X_train, X_test, y_train, y_test = train_test_split(X, y, test_size=0.2, random_state=42)\n",
        "\n",
        "gb_model = GradientBoostingRegressor(random_state=42)\n",
        "gb_model.fit(X_train, y_train)\n",
        "\n",
        "y_train_pred = gb_model.predict(X_train)\n",
        "y_test_pred = gb_model.predict(X_test)\n",
        "\n",
        "r2_train = r2_score(y_train, y_train_pred)\n",
        "mse_train = mean_squared_error(y_train, y_train_pred)\n",
        "\n",
        "r2_test = r2_score(y_test, y_test_pred)\n",
        "mse_test = mean_squared_error(y_test, y_test_pred)\n",
        "\n",
        "print(\"Métricas en el conjunto de entrenamiento:\")\n",
        "print(\"R²:\", r2_train)\n",
        "print(\"MSE:\", mse_train)\n",
        "\n",
        "print(\"\\nMétricas en el conjunto de test:\")\n",
        "print(\"R²:\", r2_test)\n",
        "print(\"MSE:\", mse_test)\n"
      ],
      "metadata": {
        "id": "kf9ZsFHclbGO",
        "colab": {
          "base_uri": "https://localhost:8080/"
        },
        "outputId": "bb289b96-810b-420f-c1f1-10d6c061d1cd"
      },
      "execution_count": null,
      "outputs": [
        {
          "output_type": "stream",
          "name": "stdout",
          "text": [
            "Métricas en el conjunto de entrenamiento:\n",
            "R²: 0.9019060539616112\n",
            "MSE: 0.0018091802012211331\n",
            "\n",
            "Métricas en el conjunto de test:\n",
            "R²: 0.6566740728082154\n",
            "MSE: 0.005355770729860377\n"
          ]
        }
      ]
    },
    {
      "cell_type": "markdown",
      "source": [
        "### Cross-Validation"
      ],
      "metadata": {
        "id": "iXgw2-5Y2Bsg"
      }
    },
    {
      "cell_type": "code",
      "source": [
        "X = df_pobreza.drop(columns=[\"pobreza_pob\"])\n",
        "y = df_pobreza[\"pobreza_pob\"]\n",
        "\n",
        "gb_model = GradientBoostingRegressor(random_state=42)\n",
        "\n",
        "scoring = {\n",
        "    'r2': 'r2',\n",
        "    'mse': 'neg_mean_squared_error'\n",
        "}\n",
        "\n",
        "cv_results = cross_validate(gb_model, X, y, cv=10, scoring=scoring)\n",
        "\n",
        "mean_r2 = np.mean(cv_results['test_r2'])\n",
        "mean_mse = -np.mean(cv_results['test_mse'])\n",
        "\n",
        "print(\"Resultados de Validación Cruzada (K = 10 folds)\")\n",
        "print(\"R² Promedio:\", mean_r2)\n",
        "print(\"MSE Promedio:\", mean_mse)\n",
        "\n"
      ],
      "metadata": {
        "colab": {
          "base_uri": "https://localhost:8080/"
        },
        "id": "AUlRzICo2Axe",
        "outputId": "e3dd9cd5-3b76-49fb-c659-2b6f459d19a5"
      },
      "execution_count": null,
      "outputs": [
        {
          "output_type": "stream",
          "name": "stdout",
          "text": [
            "Resultados de Validación Cruzada (K = 10 folds)\n",
            "R² Promedio: 0.5838774026891002\n",
            "MSE Promedio: 0.006899033482949383\n"
          ]
        }
      ]
    },
    {
      "cell_type": "markdown",
      "source": [
        "### Ajuste de hiperparámetros"
      ],
      "metadata": {
        "id": "YHqDRTY53Qcc"
      }
    },
    {
      "cell_type": "code",
      "source": [
        "X = df_pobreza.drop(columns=[\"pobreza_pob\"])\n",
        "y = df_pobreza[\"pobreza_pob\"]\n",
        "\n",
        "\n",
        "cv = KFold(n_splits=5, shuffle=True, random_state=42)\n",
        "\n",
        "param_distributions = {\n",
        "    'n_estimators': [100, 200, 300],\n",
        "    'learning_rate': np.linspace(0.01, 0.3, 20),\n",
        "    'max_depth': [3, 4, 5],\n",
        "    'subsample': [0.7, 0.8, 0.9, 1.0],\n",
        "    'min_samples_split': [2, 4, 6]\n",
        "}\n",
        "\n",
        "random_search = RandomizedSearchCV(\n",
        "    estimator=GradientBoostingRegressor(random_state=42),\n",
        "    param_distributions=param_distributions,\n",
        "    n_iter=5,\n",
        "    scoring='neg_mean_squared_error',\n",
        "    cv=cv,\n",
        "    random_state=42,\n",
        "    n_jobs=-1\n",
        ")\n",
        "\n",
        "\n",
        "random_search.fit(X, y)\n",
        "\n",
        "print(\"=== Randomized Search ===\")\n",
        "print(\"Mejores hiperparámetros encontrados:\", random_search.best_params_)\n",
        "print(\"Mejor Score (MSE negativo):\", random_search.best_score_)\n",
        "\n",
        "\n",
        "\n",
        "best_params = random_search.best_params_\n",
        "\n",
        "n_estimators_best = best_params['n_estimators']\n",
        "learning_rate_best = best_params['learning_rate']\n",
        "max_depth_best = best_params['max_depth']\n",
        "subsample_best = best_params['subsample']\n",
        "min_samples_split_best = best_params['min_samples_split']\n",
        "\n",
        "param_grid = {\n",
        "    'n_estimators': [max(50, n_estimators_best - 50), n_estimators_best, n_estimators_best + 50],\n",
        "    'learning_rate': [learning_rate_best * 0.8, learning_rate_best, learning_rate_best * 1.2],\n",
        "    'max_depth': [max(1, max_depth_best - 1), max_depth_best, max_depth_best + 1],\n",
        "    'subsample': [max(0.6, subsample_best - 0.1), subsample_best, min(1.0, subsample_best + 0.1)],\n",
        "    'min_samples_split': [max(2, min_samples_split_best - 1), min_samples_split_best, min_samples_split_best + 1]\n",
        "}\n",
        "\n",
        "\n",
        "grid_search = GridSearchCV(\n",
        "    estimator=GradientBoostingRegressor(random_state=42),\n",
        "    param_grid=param_grid,\n",
        "    scoring='neg_mean_squared_error',\n",
        "    cv=cv,\n",
        "    n_jobs=-1\n",
        ")\n",
        "\n",
        "\n",
        "grid_search.fit(X, y)\n",
        "\n",
        "print(\"\\n=== Grid Search ===\")\n",
        "print(\"Mejores hiperparámetros encontrados:\", grid_search.best_params_)\n",
        "print(\"Mejor Score (MSE negativo):\", grid_search.best_score_)"
      ],
      "metadata": {
        "colab": {
          "base_uri": "https://localhost:8080/"
        },
        "id": "HSlEEvJ63VFB",
        "outputId": "2b5b775f-c31e-453f-8ae4-d072c8f4e415"
      },
      "execution_count": null,
      "outputs": [
        {
          "output_type": "stream",
          "name": "stdout",
          "text": [
            "=== Randomized Search ===\n",
            "Mejores hiperparámetros encontrados: {'subsample': 1.0, 'n_estimators': 100, 'min_samples_split': 4, 'max_depth': 3, 'learning_rate': 0.16263157894736843}\n",
            "Mejor Score (MSE negativo): -0.006869511097473124\n",
            "\n",
            "=== Grid Search ===\n",
            "Mejores hiperparámetros encontrados: {'learning_rate': 0.13010526315789475, 'max_depth': 3, 'min_samples_split': 3, 'n_estimators': 50, 'subsample': 0.9}\n",
            "Mejor Score (MSE negativo): -0.006295873981124864\n"
          ]
        }
      ]
    },
    {
      "cell_type": "markdown",
      "source": [
        "### Cross validation después del ajuste"
      ],
      "metadata": {
        "id": "WTapj1h7AP4V"
      }
    },
    {
      "cell_type": "code",
      "source": [
        "best_model = grid_search.best_estimator_\n",
        "\n",
        "\n",
        "y_pred = cross_val_predict(best_model, X, y, cv=cv)\n",
        "\n",
        "final_r2 = r2_score(y, y_pred)\n",
        "final_mse = mean_squared_error(y, y_pred)\n",
        "\n",
        "print(\"\\n=== Evaluación Final del Modelo ===\")\n",
        "print(\"R²:\", final_r2)\n",
        "print(\"MSE:\", final_mse)\n"
      ],
      "metadata": {
        "colab": {
          "base_uri": "https://localhost:8080/"
        },
        "id": "uc9XB5viAip_",
        "outputId": "fade7a38-4db6-4f8b-967c-c533270e3bd9"
      },
      "execution_count": null,
      "outputs": [
        {
          "output_type": "stream",
          "name": "stdout",
          "text": [
            "\n",
            "=== Evaluación Final del Modelo ===\n",
            "R²: 0.6477958824619011\n",
            "MSE: 0.006295959930381224\n"
          ]
        }
      ]
    },
    {
      "cell_type": "markdown",
      "source": [
        "### Test-train después del ajuste"
      ],
      "metadata": {
        "id": "kcdHqMeVBGTb"
      }
    },
    {
      "cell_type": "code",
      "source": [
        "\n",
        "X = df_pobreza.drop(columns=[\"pobreza_pob\"])\n",
        "y = df_pobreza[\"pobreza_pob\"]\n",
        "\n",
        "X_train, X_test, y_train, y_test = train_test_split(X, y, test_size=0.2, random_state=42)\n",
        "\n",
        "gb_model = GradientBoostingRegressor(n_estimators=300, learning_rate=0.1, max_depth=3, random_state=42)\n",
        "\n",
        "gb_model.fit(X_train, y_train)\n",
        "\n",
        "\n",
        "y_train_pred = gb_model.predict(X_train)\n",
        "y_test_pred = gb_model.predict(X_test)\n",
        "\n",
        "\n",
        "r2_train = r2_score(y_train, y_train_pred)\n",
        "mse_train = mean_squared_error(y_train, y_train_pred)\n",
        "\n",
        "r2_test = r2_score(y_test, y_test_pred)\n",
        "mse_test = mean_squared_error(y_test, y_test_pred)\n",
        "\n",
        "print(\"Métricas en el conjunto de entrenamiento:\")\n",
        "print(\"R²:\", r2_train)\n",
        "print(\"MSE:\", mse_train)\n",
        "\n",
        "print(\"\\nMétricas en el conjunto de test:\")\n",
        "print(\"R²:\", r2_test)\n",
        "print(\"MSE:\", mse_test)"
      ],
      "metadata": {
        "colab": {
          "base_uri": "https://localhost:8080/"
        },
        "id": "SjNGSdKlBMzY",
        "outputId": "194e8a88-4980-4dbf-cf83-fa98f5f566a0"
      },
      "execution_count": null,
      "outputs": [
        {
          "output_type": "stream",
          "name": "stdout",
          "text": [
            "Métricas en el conjunto de entrenamiento:\n",
            "R²: 0.9774696137346243\n",
            "MSE: 0.0004155356207327048\n",
            "\n",
            "Métricas en el conjunto de test:\n",
            "R²: 0.6124860145577624\n",
            "MSE: 0.006045089800292655\n"
          ]
        }
      ]
    },
    {
      "cell_type": "markdown",
      "source": [
        "## Regresión Lineal"
      ],
      "metadata": {
        "id": "OByDflh9leZY"
      }
    },
    {
      "cell_type": "markdown",
      "source": [
        "### Antes de optimización y validación cruzada"
      ],
      "metadata": {
        "id": "LKnaABe_xiIW"
      }
    },
    {
      "cell_type": "code",
      "source": [
        "X = df_pobreza.drop(columns=[\"pobreza_pob\"])\n",
        "y = df_pobreza[\"pobreza_pob\"]\n",
        "\n",
        "\n",
        "X_train, X_test, y_train, y_test = train_test_split(X, y, test_size=0.3, random_state=42)\n",
        "\n",
        "\n",
        "model = LinearRegression()\n",
        "model.fit(X_train, y_train)\n",
        "y_train_pred = model.predict(X_train)\n",
        "y_test_pred = model.predict(X_test)\n",
        "\n",
        "\n",
        "r2_train = r2_score(y_train, y_train_pred)\n",
        "mse_train = mean_squared_error(y_train, y_train_pred)\n",
        "\n",
        "\n",
        "r2_test = r2_score(y_test, y_test_pred)\n",
        "mse_test = mean_squared_error(y_test, y_test_pred)\n",
        "\n",
        "print(\"Métricas en el conjunto de entrenamiento:\")\n",
        "print(\"R²:\", r2_train)\n",
        "print(\"MSE:\", mse_train)\n",
        "\n",
        "print(\"\\nMétricas en el conjunto de test:\")\n",
        "print(\"R²:\", r2_test)\n",
        "print(\"MSE:\", mse_test)"
      ],
      "metadata": {
        "id": "quG9_gSQlizN",
        "colab": {
          "base_uri": "https://localhost:8080/"
        },
        "outputId": "9c8d8c88-151f-4b35-d85a-279ef3a75e23"
      },
      "execution_count": null,
      "outputs": [
        {
          "output_type": "stream",
          "name": "stdout",
          "text": [
            "Métricas en el conjunto de entrenamiento:\n",
            "R²: 0.6165033094655751\n",
            "MSE: 0.00729552699802785\n",
            "\n",
            "Métricas en el conjunto de test:\n",
            "R²: 0.7746701821369734\n",
            "MSE: 0.0034222693334729974\n"
          ]
        }
      ]
    },
    {
      "cell_type": "code",
      "source": [
        "import matplotlib.pyplot as plt\n",
        "\n",
        "plt.figure(figsize=(8, 6))\n",
        "plt.scatter(y_test, y_test_pred, alpha=0.5)\n",
        "\n",
        "plt.plot([y_test.min(), y_test.max()], [y_test.min(), y_test.max()], 'r--')\n",
        "plt.xlabel('Valores Reales')\n",
        "plt.ylabel('Valores Predichos')\n",
        "plt.title('Comparación: Valores Reales vs Predichos')\n",
        "plt.show()"
      ],
      "metadata": {
        "colab": {
          "base_uri": "https://localhost:8080/",
          "height": 565
        },
        "id": "oK0NG9btKiRw",
        "outputId": "7b9d1a20-af5f-4c06-8393-2e5dae1407a3"
      },
      "execution_count": null,
      "outputs": [
        {
          "output_type": "display_data",
          "data": {
            "text/plain": [
              "<Figure size 800x600 with 1 Axes>"
            ],
            "image/png": "[encoded data removed]"
          },
          "metadata": {}
        }
      ]
    },
    {
      "cell_type": "markdown",
      "source": [
        "### Validación Cruzada"
      ],
      "metadata": {
        "id": "g4zRjdPn2AKd"
      }
    },
    {
      "cell_type": "code",
      "source": [
        "X = df_pobreza.drop(columns=[\"pobreza_pob\"])\n",
        "y = df_pobreza[\"pobreza_pob\"]\n",
        "\n",
        "lr_model = LinearRegression()\n",
        "\n",
        "\n",
        "scoring = {\n",
        "    'r2': 'r2',\n",
        "    'mse': 'neg_mean_squared_error'\n",
        "}\n",
        "\n",
        "\n",
        "cv_results_train = cross_validate(lr_model, X_train, y_train, cv = 10, scoring = scoring)\n",
        "cv_results_test = cross_validate(lr_model, X_test, y_test, cv = 10, scoring = scoring)\n",
        "\n",
        "\n",
        "mean_r2_train = np.mean(cv_results_train['test_r2'])\n",
        "mean_mse_train = -np.mean(cv_results_train['test_mse'])\n",
        "\n",
        "print(\"Resultados de Validación Cruzada en conjunto de entrenamiento (K = 10 folds)\")\n",
        "print(\"R² Promedio:\", mean_r2_train)\n",
        "print(\"MSE Promedio:\", mean_mse_train)\n",
        "\n",
        "\n",
        "mean_r2_test = np.mean(cv_results_test['test_r2'])\n",
        "mean_mse_test = -np.mean(cv_results_test['test_mse'])\n",
        "\n",
        "print(\"\\nResultados de Validación Cruzada en conjunto de prueba (K = 10 folds)\")\n",
        "print(\"R² Promedio:\", mean_r2_test)\n",
        "print(\"MSE Promedio:\", mean_mse_test)"
      ],
      "metadata": {
        "colab": {
          "base_uri": "https://localhost:8080/"
        },
        "id": "BvsAU5lM1_eT",
        "outputId": "e07a257d-2ba5-49db-b139-a0bb0698e0e5"
      },
      "execution_count": null,
      "outputs": [
        {
          "output_type": "stream",
          "name": "stdout",
          "text": [
            "Resultados de Validación Cruzada en conjunto de entrenamiento (K = 10 folds)\n",
            "R² Promedio: 0.6281497319543392\n",
            "MSE Promedio: 0.007388943090936163\n",
            "\n",
            "Resultados de Validación Cruzada en conjunto de prueba (K = 10 folds)\n",
            "R² Promedio: 0.8172824576069445\n",
            "MSE Promedio: 0.0033584239195320236\n"
          ]
        }
      ]
    },
    {
      "cell_type": "markdown",
      "source": [
        "### Ajuste de Hiperparámetros"
      ],
      "metadata": {
        "id": "am_f749-4VH_"
      }
    },
    {
      "cell_type": "code",
      "source": [
        "X = df_pobreza.drop(columns=[\"pobreza_pob\"])\n",
        "y = df_pobreza[\"pobreza_pob\"]\n",
        "\n",
        "\n",
        "cv = KFold(n_splits=10, shuffle=True, random_state=42)\n",
        "\n",
        "\n",
        "param_grid = {\n",
        "    'fit_intercept': [True, False],\n",
        "    'copy_X': [True, False],\n",
        "    'positive': [True, False]\n",
        "}\n",
        "\n",
        "\n",
        "\n",
        "grid_search = GridSearchCV(\n",
        "    estimator = LinearRegression(),\n",
        "    param_grid = param_grid,\n",
        "    scoring = 'neg_mean_squared_error',\n",
        "    cv = cv,\n",
        "    n_jobs = -1\n",
        ")\n",
        "\n",
        "grid_search.fit(X, y)\n",
        "\n",
        "print(\"=== Grid Search ===\")\n",
        "print(\"Mejores hiperparámetros encontrados:\", grid_search.best_params_)\n",
        "print(\"Mejor Score (MSE negativo):\", grid_search.best_score_)"
      ],
      "metadata": {
        "id": "lROhtuhm4bUt",
        "colab": {
          "base_uri": "https://localhost:8080/"
        },
        "outputId": "10526afd-2124-43eb-f096-583a904e92aa"
      },
      "execution_count": null,
      "outputs": [
        {
          "output_type": "stream",
          "name": "stdout",
          "text": [
            "=== Grid Search ===\n",
            "Mejores hiperparámetros encontrados: {'copy_X': True, 'fit_intercept': True, 'positive': False}\n",
            "Mejor Score (MSE negativo): -0.006188310184381708\n"
          ]
        }
      ]
    },
    {
      "cell_type": "markdown",
      "source": [
        "### Validación Cruzada después del ajuste"
      ],
      "metadata": {
        "id": "xS-O_B-Vzsiy"
      }
    },
    {
      "cell_type": "code",
      "source": [
        "\n",
        "best_model = grid_search.best_estimator_\n",
        "\n",
        "\n",
        "y_train_pred = cross_val_predict(best_model, X_train, y_train, cv = cv)\n",
        "y_test_pred = cross_val_predict(best_model, X_test, y_test, cv = cv)\n",
        "\n",
        "\n",
        "final_r2_train = r2_score(y_train, y_train_pred)\n",
        "final_mse_train = mean_squared_error(y_train, y_train_pred)\n",
        "\n",
        "\n",
        "final_r2_test = r2_score(y_test, y_test_pred)\n",
        "final_mse_test = mean_squared_error(y_test, y_test_pred)\n",
        "\n",
        "print(\"=== Evaluación Final del Modelo en el conjunto de entrenamiento ===\")\n",
        "print(\"R²:\", final_r2_train)\n",
        "print(\"MSE:\", final_mse_train)\n",
        "\n",
        "print(\"\\n=== Evaluación Final del Modelo en el conjunto de prueba ===\")\n",
        "print(\"R²:\", final_r2_test)\n",
        "print(\"MSE:\", final_mse_test)"
      ],
      "metadata": {
        "colab": {
          "base_uri": "https://localhost:8080/"
        },
        "id": "4QqJlbahzr9e",
        "outputId": "83b7e303-d711-40ec-b8e8-808b200a73b0"
      },
      "execution_count": null,
      "outputs": [
        {
          "output_type": "stream",
          "name": "stdout",
          "text": [
            "=== Evaluación Final del Modelo en el conjunto de entrenamiento ===\n",
            "R²: 0.6099230823818067\n",
            "MSE: 0.00742070728126807\n",
            "\n",
            "=== Evaluación Final del Modelo en el conjunto de prueba ===\n",
            "R²: 0.7771075697171812\n",
            "MSE: 0.0033852507229373786\n"
          ]
        }
      ]
    },
    {
      "cell_type": "markdown",
      "source": [
        "## Decision Tree"
      ],
      "metadata": {
        "id": "3t2EXQYh0Q6s"
      }
    },
    {
      "cell_type": "markdown",
      "source": [
        "### Antes de ajuste y validación cruzada"
      ],
      "metadata": {
        "id": "i8_TB1Jw0jUo"
      }
    },
    {
      "cell_type": "code",
      "source": [
        "X = df_pobreza.drop(columns=[\"pobreza_pob\"])\n",
        "y = df_pobreza[\"pobreza_pob\"]\n",
        "\n",
        "\n",
        "X_train, X_test, y_train, y_test = train_test_split(X, y, test_size=0.2, random_state=42)\n",
        "\n",
        "\n",
        "model = DecisionTreeRegressor()\n",
        "model.fit(X_train, y_train)\n",
        "y_train_pred = model.predict(X_train)\n",
        "y_test_pred = model.predict(X_test)\n",
        "\n",
        "\n",
        "r2_train = r2_score(y_train, y_train_pred)\n",
        "mse_train = mean_squared_error(y_train, y_train_pred)\n",
        "\n",
        "r2_test = r2_score(y_test, y_test_pred)\n",
        "mse_test = mean_squared_error(y_test, y_test_pred)\n",
        "\n",
        "print(\"Métricas en el conjunto de entrenamiento:\")\n",
        "print(\"R²:\", r2_train)\n",
        "print(\"MSE:\", mse_train)\n",
        "\n",
        "print(\"\\nMétricas en el conjunto de test:\")\n",
        "print(\"R²:\", r2_test)\n",
        "print(\"MSE:\", mse_test)"
      ],
      "metadata": {
        "colab": {
          "base_uri": "https://localhost:8080/"
        },
        "id": "shL2aPmg0U4Y",
        "outputId": "5e37c057-7996-41fb-d045-f8989fc30535"
      },
      "execution_count": null,
      "outputs": [
        {
          "output_type": "stream",
          "name": "stdout",
          "text": [
            "Métricas en el conjunto de entrenamiento:\n",
            "R²: 1.0\n",
            "MSE: 0.0\n",
            "\n",
            "Métricas en el conjunto de test:\n",
            "R²: 0.5442620507522558\n",
            "MSE: 0.007109361034956724\n"
          ]
        }
      ]
    },
    {
      "cell_type": "markdown",
      "source": [
        "### Validación Cruzada"
      ],
      "metadata": {
        "id": "1KfKUoEr0_cY"
      }
    },
    {
      "cell_type": "code",
      "source": [
        "X = df_pobreza.drop(columns=[\"pobreza_pob\"])\n",
        "y = df_pobreza[\"pobreza_pob\"]\n",
        "\n",
        "dt_model = DecisionTreeRegressor()\n",
        "\n",
        "\n",
        "scoring = {\n",
        "    'r2': 'r2',\n",
        "    'mse': 'neg_mean_squared_error'\n",
        "}\n",
        "\n",
        "\n",
        "cv_results_train = cross_validate(dt_model, X_train, y_train, cv = 10, scoring = scoring)\n",
        "cv_results_test = cross_validate(dt_model, X_test, y_test, cv = 10, scoring = scoring)\n",
        "\n",
        "\n",
        "mean_r2_train = np.mean(cv_results_train['test_r2'])\n",
        "mean_mse_train = -np.mean(cv_results_train['test_mse'])\n",
        "\n",
        "print(\"Resultados de Validación Cruzada en conjunto de entrenamiento (K = 10 folds)\")\n",
        "print(\"R² Promedio:\", mean_r2_train)\n",
        "print(\"MSE Promedio:\", mean_mse_train)\n",
        "\n",
        "\n",
        "mean_r2_test = np.mean(cv_results_test['test_r2'])\n",
        "mean_mse_test = -np.mean(cv_results_test['test_mse'])\n",
        "\n",
        "print(\"\\nResultados de Validación Cruzada en conjunto de prueba (K = 10 folds)\")\n",
        "print(\"R² Promedio:\", mean_r2_test)\n",
        "print(\"MSE Promedio:\", mean_mse_test)"
      ],
      "metadata": {
        "colab": {
          "base_uri": "https://localhost:8080/"
        },
        "id": "as3UYmkI1FbF",
        "outputId": "6601de88-c92a-461f-c4eb-bde62a092492"
      },
      "execution_count": null,
      "outputs": [
        {
          "output_type": "stream",
          "name": "stdout",
          "text": [
            "Resultados de Validación Cruzada en conjunto de entrenamiento (K = 10 folds)\n",
            "R² Promedio: 0.5958908240919676\n",
            "MSE Promedio: 0.00831350765367318\n",
            "\n",
            "Resultados de Validación Cruzada en conjunto de prueba (K = 10 folds)\n",
            "R² Promedio: 0.3489336777709399\n",
            "MSE Promedio: 0.009088853958655078\n"
          ]
        }
      ]
    },
    {
      "cell_type": "markdown",
      "source": [
        "### Ajuste de Hiperparámetros"
      ],
      "metadata": {
        "id": "mXOUAU0L1TeK"
      }
    },
    {
      "cell_type": "code",
      "source": [
        "X = df_pobreza.drop(columns=[\"pobreza_pob\"])\n",
        "y = df_pobreza[\"pobreza_pob\"]\n",
        "\n",
        "cv = KFold(n_splits = 10, shuffle = True, random_state = 42)\n",
        "\n",
        "\n",
        "param_distributions = {\n",
        "    'max_depth': [3, 5, 10, None],\n",
        "    'min_samples_split': [2, 5, 10],\n",
        "    'min_samples_leaf': [1, 2, 4],\n",
        "    'max_features': ['auto', 'sqrt', 'log2', None],\n",
        "    'criterion': ['squared_error', 'friedman_mse', 'absolute_error'],\n",
        "    'splitter': ['best', 'random']\n",
        "}\n",
        "\n",
        "random_search = RandomizedSearchCV(\n",
        "    estimator = DecisionTreeRegressor(random_state = 42),\n",
        "    param_distributions = param_distributions,\n",
        "    n_iter = 10,\n",
        "    scoring = 'neg_mean_squared_error',\n",
        "    cv = cv,\n",
        "    random_state = 42,\n",
        "    n_jobs = -1\n",
        ")\n",
        "\n",
        "random_search.fit(X, y)\n",
        "\n",
        "print(\"=== Randomized Search ===\")\n",
        "print(\"Mejores hiperparámetros encontrados:\", random_search.best_params_)\n",
        "print(\"Mejor Score (MSE negativo):\", random_search.best_score_)\n",
        "\n",
        "\n",
        "best_params = random_search.best_params_\n",
        "\n",
        "max_depth_best = best_params['max_depth']\n",
        "min_samples_split_best = best_params['min_samples_split']\n",
        "min_samples_leaf_best = best_params['min_samples_leaf']\n",
        "max_features_best = best_params['max_features']\n",
        "criterion_best = best_params['criterion']\n",
        "splitter_best = best_params['splitter']\n",
        "\n",
        "param_grid = {\n",
        "    'max_depth': [max(1, max_depth_best - 1), max_depth_best, max_depth_best + 1],\n",
        "    'min_samples_split': [max(2, min_samples_split_best - 1), min_samples_split_best, min_samples_split_best + 1],\n",
        "    'min_samples_leaf': [max(1, min_samples_leaf_best - 1), min_samples_leaf_best, min_samples_leaf_best + 1],\n",
        "    'max_features': [max_features_best, 'sqrt', 'log2', None],\n",
        "    'criterion': [criterion_best, 'squared_error', 'friedman_mse'],\n",
        "    'splitter': [splitter_best, 'best', 'random']\n",
        "}\n",
        "\n",
        "grid_search = GridSearchCV(\n",
        "    estimator = DecisionTreeRegressor(random_state = 42),\n",
        "    param_grid = param_grid,\n",
        "    scoring = 'neg_mean_squared_error',\n",
        "    cv = cv,\n",
        "    n_jobs = -1\n",
        ")\n",
        "\n",
        "grid_search.fit(X, y)\n",
        "\n",
        "print(\"\\n=== Grid Search ===\")\n",
        "print(\"Mejores hiperparámetros encontrados:\", grid_search.best_params_)\n",
        "print(\"Mejor Score (MSE negativo):\", grid_search.best_score_)"
      ],
      "metadata": {
        "colab": {
          "base_uri": "https://localhost:8080/"
        },
        "id": "vqNcmW0p1WsY",
        "outputId": "0c38e774-13d8-4694-dd8c-f6e99212d10c"
      },
      "execution_count": null,
      "outputs": [
        {
          "output_type": "stream",
          "name": "stderr",
          "text": [
            "/usr/local/lib/python3.11/dist-packages/sklearn/model_selection/_validation.py:528: FitFailedWarning: \n",
            "40 fits failed out of a total of 100.\n",
            "The score on these train-test partitions for these parameters will be set to nan.\n",
            "If these failures are not expected, you can try to debug them by setting error_score='raise'.\n",
            "\n",
            "Below are more details about the failures:\n",
            "--------------------------------------------------------------------------------\n",
            "40 fits failed with the following error:\n",
            "Traceback (most recent call last):\n",
            "  File \"/usr/local/lib/python3.11/dist-packages/sklearn/model_selection/_validation.py\", line 866, in _fit_and_score\n",
            "    estimator.fit(X_train, y_train, **fit_params)\n",
            "  File \"/usr/local/lib/python3.11/dist-packages/sklearn/base.py\", line 1382, in wrapper\n",
            "    estimator._validate_params()\n",
            "  File \"/usr/local/lib/python3.11/dist-packages/sklearn/base.py\", line 436, in _validate_params\n",
            "    validate_parameter_constraints(\n",
            "  File \"/usr/local/lib/python3.11/dist-packages/sklearn/utils/_param_validation.py\", line 98, in validate_parameter_constraints\n",
            "    raise InvalidParameterError(\n",
            "sklearn.utils._param_validation.InvalidParameterError: The 'max_features' parameter of DecisionTreeRegressor must be an int in the range [1, inf), a float in the range (0.0, 1.0], a str among {'sqrt', 'log2'} or None. Got 'auto' instead.\n",
            "\n",
            "  warnings.warn(some_fits_failed_message, FitFailedWarning)\n",
            "/usr/local/lib/python3.11/dist-packages/sklearn/model_selection/_search.py:1108: UserWarning: One or more of the test scores are non-finite: [-0.01436619         nan -0.00706327 -0.0083472  -0.0083472          nan\n",
            "         nan         nan -0.00701567 -0.0084487 ]\n",
            "  warnings.warn(\n"
          ]
        },
        {
          "output_type": "stream",
          "name": "stdout",
          "text": [
            "=== Randomized Search ===\n",
            "Mejores hiperparámetros encontrados: {'splitter': 'random', 'min_samples_split': 10, 'min_samples_leaf': 4, 'max_features': 'log2', 'max_depth': 10, 'criterion': 'friedman_mse'}\n",
            "Mejor Score (MSE negativo): -0.007015669102696751\n",
            "\n",
            "=== Grid Search ===\n",
            "Mejores hiperparámetros encontrados: {'criterion': 'friedman_mse', 'max_depth': 10, 'max_features': 'log2', 'min_samples_leaf': 4, 'min_samples_split': 11, 'splitter': 'random'}\n",
            "Mejor Score (MSE negativo): -0.006803850624363608\n"
          ]
        }
      ]
    },
    {
      "cell_type": "markdown",
      "source": [
        "### Validación Cruzada después del ajuste"
      ],
      "metadata": {
        "id": "WgENUuST4G3o"
      }
    },
    {
      "cell_type": "code",
      "source": [
        "\n",
        "best_model = grid_search.best_estimator_\n",
        "\n",
        "\n",
        "y_train_pred = cross_val_predict(best_model, X_train, y_train, cv = cv)\n",
        "y_test_pred = cross_val_predict(best_model, X_test, y_test, cv = cv)\n",
        "\n",
        "\n",
        "final_r2_train = r2_score(y_train, y_train_pred)\n",
        "final_mse_train = mean_squared_error(y_train, y_train_pred)\n",
        "\n",
        "\n",
        "final_r2_test = r2_score(y_test, y_test_pred)\n",
        "final_mse_test = mean_squared_error(y_test, y_test_pred)\n",
        "\n",
        "print(\"=== Evaluación Final del Modelo en el conjunto de entrenamiento ===\")\n",
        "print(\"R²:\", r2_train)\n",
        "print(\"MSE:\", mse_train)\n",
        "\n",
        "print(\"\\n=== Evaluación Final del Modelo en el conjunto de prueba ===\")\n",
        "print(\"R²:\", r2_test)\n",
        "print(\"MSE:\", mse_test)"
      ],
      "metadata": {
        "colab": {
          "base_uri": "https://localhost:8080/"
        },
        "id": "Y58LuiS34KDI",
        "outputId": "23b0afca-717f-4c0b-d71d-4cab7632de6c"
      },
      "execution_count": null,
      "outputs": [
        {
          "output_type": "stream",
          "name": "stdout",
          "text": [
            "=== Evaluación Final del Modelo en el conjunto de entrenamiento ===\n",
            "R²: 1.0\n",
            "MSE: 0.0\n",
            "\n",
            "=== Evaluación Final del Modelo en el conjunto de prueba ===\n",
            "R²: 0.5442620507522558\n",
            "MSE: 0.007109361034956724\n"
          ]
        }
      ]
    },
    {
      "cell_type": "markdown",
      "source": [
        "## AdaBoost"
      ],
      "metadata": {
        "id": "2eFZqckh7EHR"
      }
    },
    {
      "cell_type": "markdown",
      "source": [
        "### Test Train values"
      ],
      "metadata": {
        "id": "vjnnXKR47Oi4"
      }
    },
    {
      "cell_type": "code",
      "source": [
        "X = df_pobreza.drop(columns=[\"pobreza_pob\"])\n",
        "y = df_pobreza[\"pobreza_pob\"]\n",
        "\n",
        "X_train, X_test, y_train, y_test = train_test_split(X, y, test_size=0.2, random_state=42)\n",
        "\n",
        "adaboost_model = AdaBoostRegressor(n_estimators=50, learning_rate=1.0, random_state=42)\n",
        "adaboost_model.fit(X_train, y_train)\n",
        "\n",
        "y_train_pred = adaboost_model.predict(X_train)\n",
        "y_test_pred = adaboost_model.predict(X_test)\n",
        "\n",
        "\n",
        "r2_train = r2_score(y_train, y_train_pred)\n",
        "mse_train = mean_squared_error(y_train, y_train_pred)\n",
        "\n",
        "r2_test = r2_score(y_test, y_test_pred)\n",
        "mse_test = mean_squared_error(y_test, y_test_pred)\n",
        "\n",
        "print(\"Métricas en el conjunto de entrenamiento:\")\n",
        "print(\"R²:\", r2_train)\n",
        "print(\"MSE:\", mse_train)\n",
        "\n",
        "print(\"\\nMétricas en el conjunto de test:\")\n",
        "print(\"R²:\", r2_test)\n",
        "print(\"MSE:\", mse_test)"
      ],
      "metadata": {
        "colab": {
          "base_uri": "https://localhost:8080/"
        },
        "id": "M5f2s4ZC9ADr",
        "outputId": "07cf95bb-1761-4dca-8370-9b315f5aabb0"
      },
      "execution_count": 11,
      "outputs": [
        {
          "output_type": "stream",
          "name": "stdout",
          "text": [
            "Métricas en el conjunto de entrenamiento:\n",
            "R²: 0.614189184873227\n",
            "MSE: 0.007058693477945319\n",
            "\n",
            "Métricas en el conjunto de test:\n",
            "R²: 0.605576191660522\n",
            "MSE: 0.007654376414884104\n"
          ]
        }
      ]
    },
    {
      "cell_type": "markdown",
      "source": [
        "### Cross-Validation"
      ],
      "metadata": {
        "id": "gKxfV_IC7Sg-"
      }
    },
    {
      "cell_type": "code",
      "source": [
        "X = df_pobreza.drop(columns=[\"pobreza_pob\"])\n",
        "y = df_pobreza[\"pobreza_pob\"]\n",
        "\n",
        "adaboost_model = AdaBoostRegressor(n_estimators=50, learning_rate=1.0, random_state=42)\n",
        "\n",
        "scoring = {\n",
        "    'r2': 'r2',\n",
        "    'mse': 'neg_mean_squared_error'\n",
        "}\n",
        "\n",
        "cv_results = cross_validate(adaboost_model, X, y, cv=10, scoring=scoring)\n",
        "\n",
        "mean_r2 = np.mean(cv_results['test_r2'])\n",
        "mean_mse = -np.mean(cv_results['test_mse'])\n",
        "\n",
        "print(\"Resultados de Validación Cruzada (K = 10 folds)\")\n",
        "print(\"R² Promedio:\", mean_r2)\n",
        "print(\"MSE Promedio:\", mean_mse)"
      ],
      "metadata": {
        "colab": {
          "base_uri": "https://localhost:8080/"
        },
        "id": "hFRS08AB9F11",
        "outputId": "aa4880e4-625d-4ac4-8102-c3a599c7fc44"
      },
      "execution_count": 12,
      "outputs": [
        {
          "output_type": "stream",
          "name": "stdout",
          "text": [
            "Resultados de Validación Cruzada (K = 10 folds)\n",
            "R² Promedio: 0.5306451190586456\n",
            "MSE Promedio: 0.007720202361108075\n"
          ]
        }
      ]
    },
    {
      "cell_type": "markdown",
      "source": [
        "### Ajuste de hiperparámetros"
      ],
      "metadata": {
        "id": "-u4lH3EM7UPm"
      }
    },
    {
      "cell_type": "code",
      "source": [
        "from sklearn.model_selection import RandomizedSearchCV, GridSearchCV, KFold\n",
        "X = df_pobreza.drop(columns=[\"pobreza_pob\"])\n",
        "y = df_pobreza[\"pobreza_pob\"]\n",
        "\n",
        "cv = KFold(n_splits=10, shuffle=True, random_state=42)\n",
        "\n",
        "\n",
        "param_distributions = {\n",
        "    'n_estimators': np.arange(50, 501, 50),\n",
        "    'learning_rate': np.linspace(0.01, 2, 50),\n",
        "    'loss': ['linear', 'square', 'exponential']\n",
        "}\n",
        "\n",
        "random_search = RandomizedSearchCV(\n",
        "    estimator=AdaBoostRegressor(random_state=42),\n",
        "    param_distributions=param_distributions,\n",
        "    n_iter=20,\n",
        "    scoring='neg_mean_squared_error',\n",
        "    cv=cv,\n",
        "    random_state=42,\n",
        "    n_jobs=-1\n",
        ")\n",
        "\n",
        "random_search.fit(X, y)\n",
        "\n",
        "print(\"=== Randomized Search ===\")\n",
        "print(\"Mejores hiperparámetros encontrados:\", random_search.best_params_)\n",
        "print(\"Mejor Score (MSE negativo):\", random_search.best_score_)\n",
        "\n",
        "best_params = random_search.best_params_\n",
        "n_estimators_best = best_params['n_estimators']\n",
        "learning_rate_best = best_params['learning_rate']\n",
        "loss_best = best_params['loss']\n",
        "\n",
        "param_grid = {\n",
        "    'n_estimators': [max(1, int(n_estimators_best * 0.5)), n_estimators_best, int(n_estimators_best * 1.5)],\n",
        "    'learning_rate': [learning_rate_best * 0.5, learning_rate_best, learning_rate_best * 1.5],\n",
        "    'loss': [loss_best]\n",
        "}\n",
        "\n",
        "grid_search = GridSearchCV(\n",
        "    estimator=AdaBoostRegressor(random_state=42),\n",
        "    param_grid=param_grid,\n",
        "    scoring='neg_mean_squared_error',\n",
        "    cv=cv,\n",
        "    n_jobs=-1\n",
        ")\n",
        "\n",
        "grid_search.fit(X, y)\n",
        "\n",
        "print(\"\\n=== Grid Search ===\")\n",
        "print(\"Mejores hiperparámetros encontrados:\", grid_search.best_params_)\n",
        "print(\"Mejor Score (MSE negativo):\", grid_search.best_score_)"
      ],
      "metadata": {
        "colab": {
          "base_uri": "https://localhost:8080/",
          "height": 356
        },
        "id": "0A9znNNM9NeI",
        "outputId": "e7e30be6-28d6-48d0-e9b2-2693f22182f8"
      },
      "execution_count": 14,
      "outputs": [
        {
          "output_type": "error",
          "ename": "KeyboardInterrupt",
          "evalue": "",
          "traceback": [
            "\u001b[0;31m---------------------------------------------------------------------------\u001b[0m",
            "\u001b[0;31mKeyboardInterrupt\u001b[0m                         Traceback (most recent call last)",
            "\u001b[0;32m<ipython-input-14-1afd961ad2ea>\u001b[0m in \u001b[0;36m<cell line: 0>\u001b[0;34m()\u001b[0m\n\u001b[1;32m     22\u001b[0m )\n\u001b[1;32m     23\u001b[0m \u001b[0;34m\u001b[0m\u001b[0m\n\u001b[0;32m---> 24\u001b[0;31m \u001b[0mrandom_search\u001b[0m\u001b[0;34m.\u001b[0m\u001b[0mfit\u001b[0m\u001b[0;34m(\u001b[0m\u001b[0mX\u001b[0m\u001b[0;34m,\u001b[0m \u001b[0my\u001b[0m\u001b[0;34m)\u001b[0m\u001b[0;34m\u001b[0m\u001b[0;34m\u001b[0m\u001b[0m\n\u001b[0m\u001b[1;32m     25\u001b[0m \u001b[0;34m\u001b[0m\u001b[0m\n\u001b[1;32m     26\u001b[0m \u001b[0mprint\u001b[0m\u001b[0;34m(\u001b[0m\u001b[0;34m\"=== Randomized Search ===\"\u001b[0m\u001b[0;34m)\u001b[0m\u001b[0;34m\u001b[0m\u001b[0;34m\u001b[0m\u001b[0m\n",
            "\u001b[0;32m/usr/local/lib/python3.11/dist-packages/sklearn/base.py\u001b[0m in \u001b[0;36mwrapper\u001b[0;34m(estimator, *args, **kwargs)\u001b[0m\n\u001b[1;32m   1387\u001b[0m                 )\n\u001b[1;32m   1388\u001b[0m             ):\n\u001b[0;32m-> 1389\u001b[0;31m                 \u001b[0;32mreturn\u001b[0m \u001b[0mfit_method\u001b[0m\u001b[0;34m(\u001b[0m\u001b[0mestimator\u001b[0m\u001b[0;34m,\u001b[0m \u001b[0;34m*\u001b[0m\u001b[0margs\u001b[0m\u001b[0;34m,\u001b[0m \u001b[0;34m**\u001b[0m\u001b[0mkwargs\u001b[0m\u001b[0;34m)\u001b[0m\u001b[0;34m\u001b[0m\u001b[0;34m\u001b[0m\u001b[0m\n\u001b[0m\u001b[1;32m   1390\u001b[0m \u001b[0;34m\u001b[0m\u001b[0m\n\u001b[1;32m   1391\u001b[0m         \u001b[0;32mreturn\u001b[0m \u001b[0mwrapper\u001b[0m\u001b[0;34m\u001b[0m\u001b[0;34m\u001b[0m\u001b[0m\n",
            "\u001b[0;32m/usr/local/lib/python3.11/dist-packages/sklearn/model_selection/_search.py\u001b[0m in \u001b[0;36mfit\u001b[0;34m(self, X, y, **params)\u001b[0m\n\u001b[1;32m   1022\u001b[0m                 \u001b[0;32mreturn\u001b[0m \u001b[0mresults\u001b[0m\u001b[0;34m\u001b[0m\u001b[0;34m\u001b[0m\u001b[0m\n\u001b[1;32m   1023\u001b[0m \u001b[0;34m\u001b[0m\u001b[0m\n\u001b[0;32m-> 1024\u001b[0;31m             \u001b[0mself\u001b[0m\u001b[0;34m.\u001b[0m\u001b[0m_run_search\u001b[0m\u001b[0;34m(\u001b[0m\u001b[0mevaluate_candidates\u001b[0m\u001b[0;34m)\u001b[0m\u001b[0;34m\u001b[0m\u001b[0;34m\u001b[0m\u001b[0m\n\u001b[0m\u001b[1;32m   1025\u001b[0m \u001b[0;34m\u001b[0m\u001b[0m\n\u001b[1;32m   1026\u001b[0m             \u001b[0;31m# multimetric is determined here because in the case of a callable\u001b[0m\u001b[0;34m\u001b[0m\u001b[0;34m\u001b[0m\u001b[0m\n",
            "\u001b[0;32m/usr/local/lib/python3.11/dist-packages/sklearn/model_selection/_search.py\u001b[0m in \u001b[0;36m_run_search\u001b[0;34m(self, evaluate_candidates)\u001b[0m\n\u001b[1;32m   1949\u001b[0m     \u001b[0;32mdef\u001b[0m \u001b[0m_run_search\u001b[0m\u001b[0;34m(\u001b[0m\u001b[0mself\u001b[0m\u001b[0;34m,\u001b[0m \u001b[0mevaluate_candidates\u001b[0m\u001b[0;34m)\u001b[0m\u001b[0;34m:\u001b[0m\u001b[0;34m\u001b[0m\u001b[0;34m\u001b[0m\u001b[0m\n\u001b[1;32m   1950\u001b[0m         \u001b[0;34m\"\"\"Search n_iter candidates from param_distributions\"\"\"\u001b[0m\u001b[0;34m\u001b[0m\u001b[0;34m\u001b[0m\u001b[0m\n\u001b[0;32m-> 1951\u001b[0;31m         evaluate_candidates(\n\u001b[0m\u001b[1;32m   1952\u001b[0m             ParameterSampler(\n\u001b[1;32m   1953\u001b[0m                 \u001b[0mself\u001b[0m\u001b[0;34m.\u001b[0m\u001b[0mparam_distributions\u001b[0m\u001b[0;34m,\u001b[0m \u001b[0mself\u001b[0m\u001b[0;34m.\u001b[0m\u001b[0mn_iter\u001b[0m\u001b[0;34m,\u001b[0m \u001b[0mrandom_state\u001b[0m\u001b[0;34m=\u001b[0m\u001b[0mself\u001b[0m\u001b[0;34m.\u001b[0m\u001b[0mrandom_state\u001b[0m\u001b[0;34m\u001b[0m\u001b[0;34m\u001b[0m\u001b[0m\n",
            "\u001b[0;32m/usr/local/lib/python3.11/dist-packages/sklearn/model_selection/_search.py\u001b[0m in \u001b[0;36mevaluate_candidates\u001b[0;34m(candidate_params, cv, more_results)\u001b[0m\n\u001b[1;32m    968\u001b[0m                     )\n\u001b[1;32m    969\u001b[0m \u001b[0;34m\u001b[0m\u001b[0m\n\u001b[0;32m--> 970\u001b[0;31m                 out = parallel(\n\u001b[0m\u001b[1;32m    971\u001b[0m                     delayed(_fit_and_score)(\n\u001b[1;32m    972\u001b[0m                         \u001b[0mclone\u001b[0m\u001b[0;34m(\u001b[0m\u001b[0mbase_estimator\u001b[0m\u001b[0;34m)\u001b[0m\u001b[0;34m,\u001b[0m\u001b[0;34m\u001b[0m\u001b[0;34m\u001b[0m\u001b[0m\n",
            "\u001b[0;32m/usr/local/lib/python3.11/dist-packages/sklearn/utils/parallel.py\u001b[0m in \u001b[0;36m__call__\u001b[0;34m(self, iterable)\u001b[0m\n\u001b[1;32m     75\u001b[0m             \u001b[0;32mfor\u001b[0m \u001b[0mdelayed_func\u001b[0m\u001b[0;34m,\u001b[0m \u001b[0margs\u001b[0m\u001b[0;34m,\u001b[0m \u001b[0mkwargs\u001b[0m \u001b[0;32min\u001b[0m \u001b[0miterable\u001b[0m\u001b[0;34m\u001b[0m\u001b[0;34m\u001b[0m\u001b[0m\n\u001b[1;32m     76\u001b[0m         )\n\u001b[0;32m---> 77\u001b[0;31m         \u001b[0;32mreturn\u001b[0m \u001b[0msuper\u001b[0m\u001b[0;34m(\u001b[0m\u001b[0;34m)\u001b[0m\u001b[0;34m.\u001b[0m\u001b[0m__call__\u001b[0m\u001b[0;34m(\u001b[0m\u001b[0miterable_with_config\u001b[0m\u001b[0;34m)\u001b[0m\u001b[0;34m\u001b[0m\u001b[0;34m\u001b[0m\u001b[0m\n\u001b[0m\u001b[1;32m     78\u001b[0m \u001b[0;34m\u001b[0m\u001b[0m\n\u001b[1;32m     79\u001b[0m \u001b[0;34m\u001b[0m\u001b[0m\n",
            "\u001b[0;32m/usr/local/lib/python3.11/dist-packages/joblib/parallel.py\u001b[0m in \u001b[0;36m__call__\u001b[0;34m(self, iterable)\u001b[0m\n\u001b[1;32m   2005\u001b[0m         \u001b[0mnext\u001b[0m\u001b[0;34m(\u001b[0m\u001b[0moutput\u001b[0m\u001b[0;34m)\u001b[0m\u001b[0;34m\u001b[0m\u001b[0;34m\u001b[0m\u001b[0m\n\u001b[1;32m   2006\u001b[0m \u001b[0;34m\u001b[0m\u001b[0m\n\u001b[0;32m-> 2007\u001b[0;31m         \u001b[0;32mreturn\u001b[0m \u001b[0moutput\u001b[0m \u001b[0;32mif\u001b[0m \u001b[0mself\u001b[0m\u001b[0;34m.\u001b[0m\u001b[0mreturn_generator\u001b[0m \u001b[0;32melse\u001b[0m \u001b[0mlist\u001b[0m\u001b[0;34m(\u001b[0m\u001b[0moutput\u001b[0m\u001b[0;34m)\u001b[0m\u001b[0;34m\u001b[0m\u001b[0;34m\u001b[0m\u001b[0m\n\u001b[0m\u001b[1;32m   2008\u001b[0m \u001b[0;34m\u001b[0m\u001b[0m\n\u001b[1;32m   2009\u001b[0m     \u001b[0;32mdef\u001b[0m \u001b[0m__repr__\u001b[0m\u001b[0;34m(\u001b[0m\u001b[0mself\u001b[0m\u001b[0;34m)\u001b[0m\u001b[0;34m:\u001b[0m\u001b[0;34m\u001b[0m\u001b[0;34m\u001b[0m\u001b[0m\n",
            "\u001b[0;32m/usr/local/lib/python3.11/dist-packages/joblib/parallel.py\u001b[0m in \u001b[0;36m_get_outputs\u001b[0;34m(self, iterator, pre_dispatch)\u001b[0m\n\u001b[1;32m   1648\u001b[0m \u001b[0;34m\u001b[0m\u001b[0m\n\u001b[1;32m   1649\u001b[0m             \u001b[0;32mwith\u001b[0m \u001b[0mself\u001b[0m\u001b[0;34m.\u001b[0m\u001b[0m_backend\u001b[0m\u001b[0;34m.\u001b[0m\u001b[0mretrieval_context\u001b[0m\u001b[0;34m(\u001b[0m\u001b[0;34m)\u001b[0m\u001b[0;34m:\u001b[0m\u001b[0;34m\u001b[0m\u001b[0;34m\u001b[0m\u001b[0m\n\u001b[0;32m-> 1650\u001b[0;31m                 \u001b[0;32myield\u001b[0m \u001b[0;32mfrom\u001b[0m \u001b[0mself\u001b[0m\u001b[0;34m.\u001b[0m\u001b[0m_retrieve\u001b[0m\u001b[0;34m(\u001b[0m\u001b[0;34m)\u001b[0m\u001b[0;34m\u001b[0m\u001b[0;34m\u001b[0m\u001b[0m\n\u001b[0m\u001b[1;32m   1651\u001b[0m \u001b[0;34m\u001b[0m\u001b[0m\n\u001b[1;32m   1652\u001b[0m         \u001b[0;32mexcept\u001b[0m \u001b[0mGeneratorExit\u001b[0m\u001b[0;34m:\u001b[0m\u001b[0;34m\u001b[0m\u001b[0;34m\u001b[0m\u001b[0m\n",
            "\u001b[0;32m/usr/local/lib/python3.11/dist-packages/joblib/parallel.py\u001b[0m in \u001b[0;36m_retrieve\u001b[0;34m(self)\u001b[0m\n\u001b[1;32m   1760\u001b[0m                 (self._jobs[0].get_status(\n\u001b[1;32m   1761\u001b[0m                     timeout=self.timeout) == TASK_PENDING)):\n\u001b[0;32m-> 1762\u001b[0;31m                 \u001b[0mtime\u001b[0m\u001b[0;34m.\u001b[0m\u001b[0msleep\u001b[0m\u001b[0;34m(\u001b[0m\u001b[0;36m0.01\u001b[0m\u001b[0;34m)\u001b[0m\u001b[0;34m\u001b[0m\u001b[0;34m\u001b[0m\u001b[0m\n\u001b[0m\u001b[1;32m   1763\u001b[0m                 \u001b[0;32mcontinue\u001b[0m\u001b[0;34m\u001b[0m\u001b[0;34m\u001b[0m\u001b[0m\n\u001b[1;32m   1764\u001b[0m \u001b[0;34m\u001b[0m\u001b[0m\n",
            "\u001b[0;31mKeyboardInterrupt\u001b[0m: "
          ]
        }
      ]
    },
    {
      "cell_type": "markdown",
      "source": [
        "### Cross validation después del ajuste"
      ],
      "metadata": {
        "id": "SRhEWpka7WLt"
      }
    },
    {
      "cell_type": "code",
      "source": [
        "from sklearn.model_selection import cross_val_predict\n",
        "from sklearn.metrics import r2_score, mean_squared_error\n",
        "\n",
        "best_model = grid_search.best_estimator_\n",
        "\n",
        "y_pred = cross_val_predict(best_model, X, y, cv=cv)\n",
        "\n",
        "final_r2 = r2_score(y, y_pred)\n",
        "final_mse = mean_squared_error(y, y_pred)\n",
        "\n",
        "print(\"\\n=== Evaluación Final del Modelo ===\")\n",
        "print(\"R²:\", final_r2)\n",
        "print(\"MSE:\", final_mse)"
      ],
      "metadata": {
        "id": "H8RRULgO9WbW"
      },
      "execution_count": null,
      "outputs": []
    },
    {
      "cell_type": "markdown",
      "source": [
        "### Test-train después del ajuste"
      ],
      "metadata": {
        "id": "zNbGzST97YCg"
      }
    },
    {
      "cell_type": "code",
      "source": [
        "X = df_pobreza.drop(columns=[\"pobreza_pob\"])\n",
        "y = df_pobreza[\"pobreza_pob\"]\n",
        "\n",
        "\n",
        "X_train, X_test, y_train, y_test = train_test_split(X, y, test_size=0.2, random_state=42)\n",
        "\n",
        "adaboost_model = AdaBoostRegressor(\n",
        "    n_estimators=grid_search.best_params_['n_estimators'],\n",
        "    learning_rate=grid_search.best_params_['learning_rate'],\n",
        "    loss=grid_search.best_params_['loss'],\n",
        "    random_state=42\n",
        ")\n",
        "\n",
        "\n",
        "adaboost_model.fit(X_train, y_train)\n",
        "\n",
        "y_train_pred = adaboost_model.predict(X_train)\n",
        "y_test_pred = adaboost_model.predict(X_test)\n",
        "\n",
        "r2_train = r2_score(y_train, y_train_pred)\n",
        "mse_train = mean_squared_error(y_train, y_train_pred)\n",
        "\n",
        "r2_test = r2_score(y_test, y_test_pred)\n",
        "mse_test = mean_squared_error(y_test, y_test_pred)\n",
        "\n",
        "print(\"Métricas en el conjunto de entrenamiento:\")\n",
        "print(\"R²:\", r2_train)\n",
        "print(\"MSE:\", mse_train)\n",
        "\n",
        "print(\"\\nMétricas en el conjunto de test:\")\n",
        "print(\"R²:\", r2_test)\n",
        "print(\"MSE:\", mse_test)"
      ],
      "metadata": {
        "id": "11xSuBjy9h6v"
      },
      "execution_count": null,
      "outputs": []
    },
    {
      "cell_type": "markdown",
      "source": [
        "## Bayesian Ridge"
      ],
      "metadata": {
        "id": "dzMh25b77Zpw"
      }
    },
    {
      "cell_type": "markdown",
      "source": [
        "### Test Train values"
      ],
      "metadata": {
        "id": "O5lVqHCO7Zpx"
      }
    },
    {
      "cell_type": "code",
      "source": [
        "X = df_pobreza.drop(columns=[\"pobreza_pob\"])\n",
        "y = df_pobreza[\"pobreza_pob\"]\n",
        "\n",
        "X_train, X_test, y_train, y_test = train_test_split(X, y, test_size=0.2, random_state=42)\n",
        "\n",
        "bayes_model = BayesianRidge()\n",
        "bayes_model.fit(X_train, y_train)\n",
        "\n",
        "y_train_pred = bayes_model.predict(X_train)\n",
        "y_test_pred = bayes_model.predict(X_test)\n",
        "\n",
        "r2_train = r2_score(y_train, y_train_pred)\n",
        "mse_train = mean_squared_error(y_train, y_train_pred)\n",
        "r2_test = r2_score(y_test, y_test_pred)\n",
        "mse_test = mean_squared_error(y_test, y_test_pred)\n",
        "\n",
        "print(\"Métricas en el conjunto de entrenamiento:\")\n",
        "print(\"R²:\", r2_train)\n",
        "print(\"MSE:\", mse_train)\n",
        "print(\"\\nMétricas en el conjunto de test:\")\n",
        "print(\"R²:\", r2_test)\n",
        "print(\"MSE:\", mse_test)"
      ],
      "metadata": {
        "id": "k6e0j8y6-C9_"
      },
      "execution_count": null,
      "outputs": []
    },
    {
      "cell_type": "markdown",
      "source": [
        "### Cross-Validation"
      ],
      "metadata": {
        "id": "Q7gCysmX7Zpx"
      }
    },
    {
      "cell_type": "code",
      "source": [
        "X = df_pobreza.drop(columns=[\"pobreza_pob\"])\n",
        "y = df_pobreza[\"pobreza_pob\"]\n",
        "\n",
        "bayes_model = BayesianRidge()\n",
        "\n",
        "scoring = {'r2': 'r2', 'mse': 'neg_mean_squared_error'}\n",
        "\n",
        "cv_results = cross_validate(bayes_model, X, y, cv=10, scoring=scoring)\n",
        "\n",
        "mean_r2 = np.mean(cv_results['test_r2'])\n",
        "mean_mse = -np.mean(cv_results['test_mse'])\n",
        "\n",
        "print(\"Resultados de Validación Cruzada (K = 10 folds)\")\n",
        "print(\"R² Promedio:\", mean_r2)\n",
        "print(\"MSE Promedio:\", mean_mse)"
      ],
      "metadata": {
        "id": "AhUwal93-KMF"
      },
      "execution_count": null,
      "outputs": []
    },
    {
      "cell_type": "markdown",
      "source": [
        "### Ajuste de hiperparámetros"
      ],
      "metadata": {
        "id": "oKCNC0pj7Zpx"
      }
    },
    {
      "cell_type": "code",
      "source": [
        "from sklearn.model_selection import RandomizedSearchCV, GridSearchCV, KFold\n",
        "from sklearn.linear_model import BayesianRidge\n",
        "import numpy as np\n",
        "\n",
        "X = df_pobreza.drop(columns=[\"pobreza_pob\"])\n",
        "y = df_pobreza[\"pobreza_pob\"]\n",
        "\n",
        "cv = KFold(n_splits=10, shuffle=True, random_state=42)\n",
        "\n",
        "param_distributions = {\n",
        "    'alpha_1': np.linspace(1e-7, 1e-5, 50),\n",
        "    'alpha_2': np.linspace(1e-7, 1e-5, 50),\n",
        "    'lambda_1': np.linspace(1e-7, 1e-5, 50),\n",
        "    'lambda_2': np.linspace(1e-7, 1e-5, 50)\n",
        "}\n",
        "\n",
        "random_search = RandomizedSearchCV(\n",
        "    estimator=BayesianRidge(),\n",
        "    param_distributions=param_distributions,\n",
        "    n_iter=20,\n",
        "    scoring='neg_mean_squared_error',\n",
        "    cv=cv,\n",
        "    random_state=42,\n",
        "    n_jobs=-1\n",
        ")\n",
        "\n",
        "random_search.fit(X, y)\n",
        "\n",
        "print(\"=== Randomized Search ===\")\n",
        "print(\"Mejores hiperparámetros encontrados:\", random_search.best_params_)\n",
        "print(\"Mejor Score (MSE negativo):\", random_search.best_score_)\n",
        "\n",
        "best_params = random_search.best_params_\n",
        "alpha_1_best = best_params['alpha_1']\n",
        "alpha_2_best = best_params['alpha_2']\n",
        "lambda_1_best = best_params['lambda_1']\n",
        "lambda_2_best = best_params['lambda_2']\n",
        "\n",
        "param_grid = {\n",
        "    'alpha_1': [alpha_1_best * 0.5, alpha_1_best, alpha_1_best * 1.5],\n",
        "    'alpha_2': [alpha_2_best * 0.5, alpha_2_best, alpha_2_best * 1.5],\n",
        "    'lambda_1': [lambda_1_best * 0.5, lambda_1_best, lambda_1_best * 1.5],\n",
        "    'lambda_2': [lambda_2_best * 0.5, lambda_2_best, lambda_2_best * 1.5]\n",
        "}\n",
        "\n",
        "grid_search = GridSearchCV(\n",
        "    estimator=BayesianRidge(),\n",
        "    param_grid=param_grid,\n",
        "    scoring='neg_mean_squared_error',\n",
        "    cv=cv,\n",
        "    n_jobs=-1\n",
        ")\n",
        "\n",
        "grid_search.fit(X, y)\n",
        "\n",
        "print(\"\\n=== Grid Search ===\")\n",
        "print(\"Mejores hiperparámetros encontrados:\", grid_search.best_params_)\n",
        "print(\"Mejor Score (MSE negativo):\", grid_search.best_score_)\n"
      ],
      "metadata": {
        "id": "ceEFpRav-MSW"
      },
      "execution_count": null,
      "outputs": []
    },
    {
      "cell_type": "markdown",
      "source": [
        "### Cross validation después del ajuste"
      ],
      "metadata": {
        "id": "rL6F8c9a7Zpx"
      }
    },
    {
      "cell_type": "code",
      "source": [
        "best_model = grid_search.best_estimator_\n",
        "\n",
        "y_pred = cross_val_predict(best_model, X, y, cv=cv)\n",
        "\n",
        "final_r2 = r2_score(y, y_pred)\n",
        "final_mse = mean_squared_error(y, y_pred)\n",
        "\n",
        "print(\"\\n=== Evaluación Final del Modelo ===\")\n",
        "print(\"R²:\", final_r2)\n",
        "print(\"MSE:\", final_mse)\n"
      ],
      "metadata": {
        "id": "0HQrrAIe-Pgu"
      },
      "execution_count": null,
      "outputs": []
    },
    {
      "cell_type": "markdown",
      "source": [
        "### Test-train después del ajuste"
      ],
      "metadata": {
        "id": "YIiqNPD27Zpx"
      }
    },
    {
      "cell_type": "code",
      "source": [
        "X = df_pobreza.drop(columns=[\"pobreza_pob\"])\n",
        "y = df_pobreza[\"pobreza_pob\"]\n",
        "\n",
        "X_train, X_test, y_train, y_test = train_test_split(X, y, test_size=0.2, random_state=42)\n",
        "\n",
        "bayes_model = BayesianRidge(\n",
        "    alpha_1=grid_search.best_params_['alpha_1'],\n",
        "    alpha_2=grid_search.best_params_['alpha_2'],\n",
        "    lambda_1=grid_search.best_params_['lambda_1'],\n",
        "    lambda_2=grid_search.best_params_['lambda_2']\n",
        ")\n",
        "\n",
        "bayes_model.fit(X_train, y_train)\n",
        "\n",
        "y_train_pred = bayes_model.predict(X_train)\n",
        "y_test_pred = bayes_model.predict(X_test)\n",
        "\n",
        "r2_train = r2_score(y_train, y_train_pred)\n",
        "mse_train = mean_squared_error(y_train, y_train_pred)\n",
        "r2_test = r2_score(y_test, y_test_pred)\n",
        "mse_test = mean_squared_error(y_test, y_test_pred)\n",
        "\n",
        "print(\"Métricas en el conjunto de entrenamiento:\")\n",
        "print(\"R²:\", r2_train)\n",
        "print(\"MSE:\", mse_train)\n",
        "print(\"\\nMétricas en el conjunto de test:\")\n",
        "print(\"R²:\", r2_test)\n",
        "print(\"MSE:\", mse_test)\n"
      ],
      "metadata": {
        "id": "2un67-7h-a85"
      },
      "execution_count": null,
      "outputs": []
    },
    {
      "cell_type": "markdown",
      "source": [
        "## XG Boost"
      ],
      "metadata": {
        "id": "w00DwA_a72V8"
      }
    },
    {
      "cell_type": "markdown",
      "source": [
        "### Test Train values"
      ],
      "metadata": {
        "id": "eqPMAmWR72V9"
      }
    },
    {
      "cell_type": "code",
      "source": [
        "X = df_pobreza.drop(columns=[\"pobreza_pob\"])\n",
        "y = df_pobreza[\"pobreza_pob\"]\n",
        "\n",
        "X_train, X_test, y_train, y_test = train_test_split(X, y, test_size=0.2, random_state=42)\n",
        "xgb_model = XGBRegressor(random_state=42)\n",
        "xgb_model.fit(X_train, y_train)\n",
        "\n",
        "y_train_pred = xgb_model.predict(X_train)\n",
        "y_test_pred = xgb_model.predict(X_test)\n",
        "\n",
        "r2_train = r2_score(y_train, y_train_pred)\n",
        "mse_train = mean_squared_error(y_train, y_train_pred)\n",
        "r2_test = r2_score(y_test, y_test_pred)\n",
        "mse_test = mean_squared_error(y_test, y_test_pred)\n",
        "\n",
        "print(\"Métricas en el conjunto de entrenamiento:\")\n",
        "print(\"R²:\", r2_train)\n",
        "print(\"MSE:\", mse_train)\n",
        "print(\"\\nMétricas en el conjunto de test:\")\n",
        "print(\"R²:\", r2_test)\n",
        "print(\"MSE:\", mse_test)\n"
      ],
      "metadata": {
        "id": "-F5bDpME-grn"
      },
      "execution_count": null,
      "outputs": []
    },
    {
      "cell_type": "markdown",
      "source": [
        "### Cross-Validation"
      ],
      "metadata": {
        "id": "4hFjvvQJ72V9"
      }
    },
    {
      "cell_type": "code",
      "source": [
        "X = df_pobreza.drop(columns=[\"pobreza_pob\"])\n",
        "y = df_pobreza[\"pobreza_pob\"]\n",
        "\n",
        "xgb_model = XGBRegressor(random_state=42)\n",
        "scoring = {'r2': 'r2', 'mse': 'neg_mean_squared_error'}\n",
        "cv_results = cross_validate(xgb_model, X, y, cv=10, scoring=scoring)\n",
        "\n",
        "mean_r2 = np.mean(cv_results['test_r2'])\n",
        "mean_mse = -np.mean(cv_results['test_mse'])\n",
        "\n",
        "print(\"Resultados de Validación Cruzada (K = 10 folds)\")\n",
        "print(\"R² Promedio:\", mean_r2)\n",
        "print(\"MSE Promedio:\", mean_mse)\n"
      ],
      "metadata": {
        "id": "PcSNrG-X-oSw"
      },
      "execution_count": null,
      "outputs": []
    },
    {
      "cell_type": "markdown",
      "source": [
        "### Ajuste de hiperparámetros"
      ],
      "metadata": {
        "id": "S2ufFp0U72V9"
      }
    },
    {
      "cell_type": "code",
      "source": [
        "X = df_pobreza.drop(columns=[\"pobreza_pob\"])\n",
        "y = df_pobreza[\"pobreza_pob\"]\n",
        "\n",
        "cv = KFold(n_splits=10, shuffle=True, random_state=42)\n",
        "\n",
        "param_distributions = {\n",
        "    'n_estimators': np.arange(50, 501, 50),\n",
        "    'learning_rate': np.linspace(0.01, 0.3, 50),\n",
        "    'max_depth': np.arange(3, 11)\n",
        "}\n",
        "\n",
        "random_search = RandomizedSearchCV(\n",
        "    estimator=XGBRegressor(random_state=42),\n",
        "    param_distributions=param_distributions,\n",
        "    n_iter=20,\n",
        "    scoring='neg_mean_squared_error',\n",
        "    cv=cv,\n",
        "    random_state=42,\n",
        "    n_jobs=-1\n",
        ")\n",
        "random_search.fit(X, y)\n",
        "\n",
        "print(\"=== Randomized Search ===\")\n",
        "print(\"Mejores hiperparámetros encontrados:\", random_search.best_params_)\n",
        "print(\"Mejor Score (MSE negativo):\", random_search.best_score_)\n",
        "\n",
        "best_params = random_search.best_params_\n",
        "n_estimators_best = best_params['n_estimators']\n",
        "learning_rate_best = best_params['learning_rate']\n",
        "max_depth_best = best_params['max_depth']\n",
        "\n",
        "param_grid = {\n",
        "    'n_estimators': [int(n_estimators_best * 0.5), n_estimators_best, int(n_estimators_best * 1.5)],\n",
        "    'learning_rate': [learning_rate_best * 0.5, learning_rate_best, learning_rate_best * 1.5],\n",
        "    'max_depth': [max(1, max_depth_best - 1), max_depth_best, max_depth_best + 1]\n",
        "}\n",
        "\n",
        "grid_search = GridSearchCV(\n",
        "    estimator=XGBRegressor(random_state=42),\n",
        "    param_grid=param_grid,\n",
        "    scoring='neg_mean_squared_error',\n",
        "    cv=cv,\n",
        "    n_jobs=-1\n",
        ")\n",
        "grid_search.fit(X, y)\n",
        "\n",
        "print(\"\\n=== Grid Search ===\")\n",
        "print(\"Mejores hiperparámetros encontrados:\", grid_search.best_params_)\n",
        "print(\"Mejor Score (MSE negativo):\", grid_search.best_score_)\n"
      ],
      "metadata": {
        "id": "LzcfpwfF-qtX"
      },
      "execution_count": null,
      "outputs": []
    },
    {
      "cell_type": "markdown",
      "source": [
        "### Cross validation después del ajuste"
      ],
      "metadata": {
        "id": "m5SoKJro72V9"
      }
    },
    {
      "cell_type": "code",
      "source": [
        "best_model = grid_search.best_estimator_\n",
        "y_pred = cross_val_predict(best_model, X, y, cv=cv)\n",
        "final_r2 = r2_score(y, y_pred)\n",
        "final_mse = mean_squared_error(y, y_pred)\n",
        "\n",
        "print(\"\\n=== Evaluación Final del Modelo ===\")\n",
        "print(\"R²:\", final_r2)\n",
        "print(\"MSE:\", final_mse)\n"
      ],
      "metadata": {
        "id": "Y9sBdb78-tuB"
      },
      "execution_count": null,
      "outputs": []
    },
    {
      "cell_type": "markdown",
      "source": [
        "### Test-train después del ajuste"
      ],
      "metadata": {
        "id": "lQPlnAbK72V9"
      }
    },
    {
      "cell_type": "code",
      "source": [
        "X = df_pobreza.drop(columns=[\"pobreza_pob\"])\n",
        "y = df_pobreza[\"pobreza_pob\"]\n",
        "\n",
        "X_train, X_test, y_train, y_test = train_test_split(X, y, test_size=0.2, random_state=42)\n",
        "xgb_model = XGBRegressor(\n",
        "    n_estimators=grid_search.best_params_['n_estimators'],\n",
        "    learning_rate=grid_search.best_params_['learning_rate'],\n",
        "    max_depth=grid_search.best_params_['max_depth'],\n",
        "    random_state=42\n",
        ")\n",
        "xgb_model.fit(X_train, y_train)\n",
        "\n",
        "y_train_pred = xgb_model.predict(X_train)\n",
        "y_test_pred = xgb_model.predict(X_test)\n",
        "\n",
        "r2_train = r2_score(y_train, y_train_pred)\n",
        "mse_train = mean_squared_error(y_train, y_train_pred)\n",
        "r2_test = r2_score(y_test, y_test_pred)\n",
        "mse_test = mean_squared_error(y_test, y_test_pred)\n",
        "\n",
        "print(\"Métricas en el conjunto de entrenamiento:\")\n",
        "print(\"R²:\", r2_train)\n",
        "print(\"MSE:\", mse_train)\n",
        "print(\"\\nMétricas en el conjunto de test:\")\n",
        "print(\"R²:\", r2_test)\n",
        "print(\"MSE:\", mse_test)\n"
      ],
      "metadata": {
        "id": "7TXJS4BH-uRo"
      },
      "execution_count": null,
      "outputs": []
    },
    {
      "cell_type": "markdown",
      "source": [
        "## Neural Network"
      ],
      "metadata": {
        "id": "vaXHdSf_8GYu"
      }
    },
    {
      "cell_type": "markdown",
      "source": [
        "### Test Train values"
      ],
      "metadata": {
        "id": "RFTnJoCO8GYv"
      }
    },
    {
      "cell_type": "code",
      "source": [
        "X = df_pobreza.drop(columns=[\"pobreza_pob\"])\n",
        "y = df_pobreza[\"pobreza_pob\"]\n",
        "\n",
        "X_train, X_test, y_train, y_test = train_test_split(X, y, test_size=0.2, random_state=42)\n",
        "mlp_model = MLPRegressor(hidden_layer_sizes=(100,), activation='relu', solver='adam', max_iter=500, random_state=42)\n",
        "mlp_model.fit(X_train, y_train)\n",
        "\n",
        "y_train_pred = mlp_model.predict(X_train)\n",
        "y_test_pred = mlp_model.predict(X_test)\n",
        "\n",
        "r2_train = r2_score(y_train, y_train_pred)\n",
        "mse_train = mean_squared_error(y_train, y_train_pred)\n",
        "r2_test = r2_score(y_test, y_test_pred)\n",
        "mse_test = mean_squared_error(y_test, y_test_pred)\n",
        "\n",
        "print(\"Métricas en el conjunto de entrenamiento:\")\n",
        "print(\"R²:\", r2_train)\n",
        "print(\"MSE:\", mse_train)\n",
        "print(\"\\nMétricas en el conjunto de test:\")\n",
        "print(\"R²:\", r2_test)\n",
        "print(\"MSE:\", mse_test)\n"
      ],
      "metadata": {
        "id": "FfKINp-S-1a7"
      },
      "execution_count": null,
      "outputs": []
    },
    {
      "cell_type": "markdown",
      "source": [
        "### Cross-Validation"
      ],
      "metadata": {
        "id": "gxoh5vib8GYv"
      }
    },
    {
      "cell_type": "code",
      "source": [
        "X = df_pobreza.drop(columns=[\"pobreza_pob\"])\n",
        "y = df_pobreza[\"pobreza_pob\"]\n",
        "\n",
        "mlp_model = MLPRegressor(hidden_layer_sizes=(100,), activation='relu', solver='adam', max_iter=500, random_state=42)\n",
        "scoring = {'r2': 'r2', 'mse': 'neg_mean_squared_error'}\n",
        "cv_results = cross_validate(mlp_model, X, y, cv=10, scoring=scoring)\n",
        "\n",
        "mean_r2 = np.mean(cv_results['test_r2'])\n",
        "mean_mse = -np.mean(cv_results['test_mse'])\n",
        "\n",
        "print(\"Resultados de Validación Cruzada (K = 10 folds)\")\n",
        "print(\"R² Promedio:\", mean_r2)\n",
        "print(\"MSE Promedio:\", mean_mse)\n"
      ],
      "metadata": {
        "id": "SP7n5d-P-1rM"
      },
      "execution_count": null,
      "outputs": []
    },
    {
      "cell_type": "markdown",
      "source": [
        "### Ajuste de hiperparámetros"
      ],
      "metadata": {
        "id": "CZjn8w5Y8GYv"
      }
    },
    {
      "cell_type": "code",
      "source": [
        "X = df_pobreza.drop(columns=[\"pobreza_pob\"])\n",
        "y = df_pobreza[\"pobreza_pob\"]\n",
        "\n",
        "cv = KFold(n_splits=10, shuffle=True, random_state=42)\n",
        "\n",
        "param_distributions = {\n",
        "    'hidden_layer_sizes': [(50,), (100,), (50,50), (100,50)],\n",
        "    'alpha': np.linspace(1e-5, 1e-1, 50),\n",
        "    'learning_rate_init': np.linspace(0.0001, 0.01, 50),\n",
        "    'activation': ['relu', 'tanh']\n",
        "}\n",
        "\n",
        "random_search = RandomizedSearchCV(\n",
        "    estimator=MLPRegressor(max_iter=500, solver='adam', random_state=42),\n",
        "    param_distributions=param_distributions,\n",
        "    n_iter=20,\n",
        "    scoring='neg_mean_squared_error',\n",
        "    cv=cv,\n",
        "    random_state=42,\n",
        "    n_jobs=-1\n",
        ")\n",
        "random_search.fit(X, y)\n",
        "\n",
        "print(\"=== Randomized Search ===\")\n",
        "print(\"Mejores hiperparámetros encontrados:\", random_search.best_params_)\n",
        "print(\"Mejor Score (MSE negativo):\", random_search.best_score_)\n",
        "\n",
        "best_params = random_search.best_params_\n",
        "hidden_layer = best_params['hidden_layer_sizes']\n",
        "alpha_best = best_params['alpha']\n",
        "lr_best = best_params['learning_rate_init']\n",
        "activation_best = best_params['activation']\n",
        "\n",
        "hl_scaled_down = tuple(max(1, int(x * 0.5)) for x in hidden_layer)\n",
        "hl_scaled_up = tuple(max(1, int(x * 1.5)) for x in hidden_layer)\n",
        "\n",
        "param_grid = {\n",
        "    'hidden_layer_sizes': [hl_scaled_down, hidden_layer, hl_scaled_up],\n",
        "    'alpha': [alpha_best * 0.5, alpha_best, alpha_best * 1.5],\n",
        "    'learning_rate_init': [lr_best * 0.5, lr_best, lr_best * 1.5],\n",
        "    'activation': [activation_best]\n",
        "}\n",
        "\n",
        "grid_search = GridSearchCV(\n",
        "    estimator=MLPRegressor(max_iter=500, solver='adam', random_state=42),\n",
        "    param_grid=param_grid,\n",
        "    scoring='neg_mean_squared_error',\n",
        "    cv=cv,\n",
        "    n_jobs=-1\n",
        ")\n",
        "grid_search.fit(X, y)\n",
        "\n",
        "print(\"\\n=== Grid Search ===\")\n",
        "print(\"Mejores hiperparámetros encontrados:\", grid_search.best_params_)\n",
        "print(\"Mejor Score (MSE negativo):\", grid_search.best_score_)\n"
      ],
      "metadata": {
        "id": "P8v7DZXE-18x"
      },
      "execution_count": null,
      "outputs": []
    },
    {
      "cell_type": "markdown",
      "source": [
        "### Cross validation después del ajuste"
      ],
      "metadata": {
        "id": "On9tCs9y8GYv"
      }
    },
    {
      "cell_type": "code",
      "source": [
        "best_model = grid_search.best_estimator_\n",
        "y_pred = cross_val_predict(best_model, X, y, cv=cv)\n",
        "final_r2 = r2_score(y, y_pred)\n",
        "final_mse = mean_squared_error(y, y_pred)\n",
        "\n",
        "print(\"\\n=== Evaluación Final del Modelo ===\")\n",
        "print(\"R²:\", final_r2)\n",
        "print(\"MSE:\", final_mse)\n"
      ],
      "metadata": {
        "id": "LdtgXFIr-2NT"
      },
      "execution_count": null,
      "outputs": []
    },
    {
      "cell_type": "markdown",
      "source": [
        "### Test-train después del ajuste"
      ],
      "metadata": {
        "id": "Bke24dUG8GYv"
      }
    },
    {
      "cell_type": "code",
      "source": [
        "X = df_pobreza.drop(columns=[\"pobreza_pob\"])\n",
        "y = df_pobreza[\"pobreza_pob\"]\n",
        "\n",
        "X_train, X_test, y_train, y_test = train_test_split(X, y, test_size=0.2, random_state=42)\n",
        "mlp_model = MLPRegressor(\n",
        "    hidden_layer_sizes=grid_search.best_params_['hidden_layer_sizes'],\n",
        "    alpha=grid_search.best_params_['alpha'],\n",
        "    learning_rate_init=grid_search.best_params_['learning_rate_init'],\n",
        "    activation=grid_search.best_params_['activation'],\n",
        "    max_iter=500,\n",
        "    solver='adam',\n",
        "    random_state=42\n",
        ")\n",
        "mlp_model.fit(X_train, y_train)\n",
        "\n",
        "y_train_pred = mlp_model.predict(X_train)\n",
        "y_test_pred = mlp_model.predict(X_test)\n",
        "\n",
        "r2_train = r2_score(y_train, y_train_pred)\n",
        "mse_train = mean_squared_error(y_train, y_train_pred)\n",
        "r2_test = r2_score(y_test, y_test_pred)\n",
        "mse_test = mean_squared_error(y_test, y_test_pred)\n",
        "\n",
        "print(\"Métricas en el conjunto de entrenamiento:\")\n",
        "print(\"R²:\", r2_train)\n",
        "print(\"MSE:\", mse_train)\n",
        "print(\"\\nMétricas en el conjunto de test:\")\n",
        "print(\"R²:\", r2_test)\n",
        "print(\"MSE:\", mse_test)\n"
      ],
      "metadata": {
        "id": "4sEDJW_i_bcq"
      },
      "execution_count": null,
      "outputs": []
    },
    {
      "cell_type": "markdown",
      "source": [
        "## Ridge Regression"
      ],
      "metadata": {
        "id": "TMro6T9F70mo"
      }
    },
    {
      "cell_type": "markdown",
      "source": [
        "### Test Train values"
      ],
      "metadata": {
        "id": "NtOFLBQN70mp"
      }
    },
    {
      "cell_type": "code",
      "source": [
        "X = df_pobreza.drop(columns=[\"pobreza_pob\"])\n",
        "y = df_pobreza[\"pobreza_pob\"]\n",
        "\n",
        "X_train, X_test, y_train, y_test = train_test_split(X, y, test_size=0.2, random_state=42)\n",
        "ridge_model = Ridge(alpha=1.0, random_state=42)\n",
        "ridge_model.fit(X_train, y_train)\n",
        "\n",
        "y_train_pred = ridge_model.predict(X_train)\n",
        "y_test_pred = ridge_model.predict(X_test)\n",
        "\n",
        "r2_train = r2_score(y_train, y_train_pred)\n",
        "mse_train = mean_squared_error(y_train, y_train_pred)\n",
        "r2_test = r2_score(y_test, y_test_pred)\n",
        "mse_test = mean_squared_error(y_test, y_test_pred)\n",
        "\n",
        "print(\"Métricas en el conjunto de entrenamiento:\")\n",
        "print(\"R²:\", r2_train)\n",
        "print(\"MSE:\", mse_train)\n",
        "print(\"\\nMétricas en el conjunto de test:\")\n",
        "print(\"R²:\", r2_test)\n",
        "print(\"MSE:\", mse_test)\n"
      ],
      "metadata": {
        "id": "iv_CW4f__d44"
      },
      "execution_count": null,
      "outputs": []
    },
    {
      "cell_type": "markdown",
      "source": [
        "### Cross-Validation"
      ],
      "metadata": {
        "id": "FWmNSQKB70mp"
      }
    },
    {
      "cell_type": "code",
      "source": [
        "X = df_pobreza.drop(columns=[\"pobreza_pob\"])\n",
        "y = df_pobreza[\"pobreza_pob\"]\n",
        "\n",
        "ridge_model = Ridge(random_state=42)\n",
        "scoring = {'r2': 'r2', 'mse': 'neg_mean_squared_error'}\n",
        "cv_results = cross_validate(ridge_model, X, y, cv=10, scoring=scoring)\n",
        "\n",
        "mean_r2 = np.mean(cv_results['test_r2'])\n",
        "mean_mse = -np.mean(cv_results['test_mse'])\n",
        "\n",
        "print(\"Resultados de Validación Cruzada (K = 10 folds)\")\n",
        "print(\"R² Promedio:\", mean_r2)\n",
        "print(\"MSE Promedio:\", mean_mse)\n"
      ],
      "metadata": {
        "id": "d0fI-Jhr_eLk"
      },
      "execution_count": null,
      "outputs": []
    },
    {
      "cell_type": "markdown",
      "source": [
        "### Ajuste de hiperparámetros"
      ],
      "metadata": {
        "id": "-2LZGo4C70mp"
      }
    },
    {
      "cell_type": "code",
      "source": [
        "X = df_pobreza.drop(columns=[\"pobreza_pob\"])\n",
        "y = df_pobreza[\"pobreza_pob\"]\n",
        "\n",
        "cv = KFold(n_splits=10, shuffle=True, random_state=42)\n",
        "param_distributions = {\n",
        "    'alpha': np.logspace(-3, 3, 50),\n",
        "    'solver': ['auto', 'svd', 'cholesky', 'lsqr', 'sparse_cg', 'sag', 'saga']\n",
        "}\n",
        "\n",
        "random_search = RandomizedSearchCV(\n",
        "    estimator=Ridge(random_state=42),\n",
        "    param_distributions=param_distributions,\n",
        "    n_iter=20,\n",
        "    scoring='neg_mean_squared_error',\n",
        "    cv=cv,\n",
        "    random_state=42,\n",
        "    n_jobs=-1\n",
        ")\n",
        "random_search.fit(X, y)\n",
        "\n",
        "print(\"=== Randomized Search ===\")\n",
        "print(\"Mejores hiperparámetros encontrados:\", random_search.best_params_)\n",
        "print(\"Mejor Score (MSE negativo):\", random_search.best_score_)\n",
        "\n",
        "best_params = random_search.best_params_\n",
        "alpha_best = best_params['alpha']\n",
        "solver_best = best_params['solver']\n",
        "\n",
        "param_grid = {\n",
        "    'alpha': [alpha_best * 0.5, alpha_best, alpha_best * 1.5],\n",
        "    'solver': [solver_best]\n",
        "}\n",
        "\n",
        "grid_search = GridSearchCV(\n",
        "    estimator=Ridge(random_state=42),\n",
        "    param_grid=param_grid,\n",
        "    scoring='neg_mean_squared_error',\n",
        "    cv=cv,\n",
        "    n_jobs=-1\n",
        ")\n",
        "grid_search.fit(X, y)\n",
        "\n",
        "print(\"\\n=== Grid Search ===\")\n",
        "print(\"Mejores hiperparámetros encontrados:\", grid_search.best_params_)\n",
        "print(\"Mejor Score (MSE negativo):\", grid_search.best_score_)\n"
      ],
      "metadata": {
        "id": "kKCxF_3G_egV"
      },
      "execution_count": null,
      "outputs": []
    },
    {
      "cell_type": "markdown",
      "source": [
        "### Cross validation después del ajuste"
      ],
      "metadata": {
        "id": "qSwqYIl370mp"
      }
    },
    {
      "cell_type": "code",
      "source": [
        "from sklearn.model_selection import cross_val_predict\n",
        "from sklearn.metrics import r2_score, mean_squared_error\n",
        "\n",
        "best_model = grid_search.best_estimator_\n",
        "y_pred = cross_val_predict(best_model, X, y, cv=cv)\n",
        "final_r2 = r2_score(y, y_pred)\n",
        "final_mse = mean_squared_error(y, y_pred)\n",
        "\n",
        "print(\"\\n=== Evaluación Final del Modelo ===\")\n",
        "print(\"R²:\", final_r2)\n",
        "print(\"MSE:\", final_mse)\n"
      ],
      "metadata": {
        "id": "FTaKg6K8_ev8"
      },
      "execution_count": null,
      "outputs": []
    },
    {
      "cell_type": "markdown",
      "source": [
        "### Test-train después del ajuste"
      ],
      "metadata": {
        "id": "vxd8qlqG70mp"
      }
    },
    {
      "cell_type": "code",
      "source": [
        "X = df_pobreza.drop(columns=[\"pobreza_pob\"])\n",
        "y = df_pobreza[\"pobreza_pob\"]\n",
        "\n",
        "X_train, X_test, y_train, y_test = train_test_split(X, y, test_size=0.2, random_state=42)\n",
        "ridge_model = Ridge(\n",
        "    alpha=grid_search.best_params_['alpha'],\n",
        "    solver=grid_search.best_params_['solver'],\n",
        "    random_state=42\n",
        ")\n",
        "ridge_model.fit(X_train, y_train)\n",
        "\n",
        "y_train_pred = ridge_model.predict(X_train)\n",
        "y_test_pred = ridge_model.predict(X_test)\n",
        "\n",
        "r2_train = r2_score(y_train, y_train_pred)\n",
        "mse_train = mean_squared_error(y_train, y_train_pred)\n",
        "r2_test = r2_score(y_test, y_test_pred)\n",
        "mse_test = mean_squared_error(y_test, y_test_pred)\n",
        "\n",
        "print(\"Métricas en el conjunto de entrenamiento:\")\n",
        "print(\"R²:\", r2_train)\n",
        "print(\"MSE:\", mse_train)\n",
        "print(\"\\nMétricas en el conjunto de test:\")\n",
        "print(\"R²:\", r2_test)\n",
        "print(\"MSE:\", mse_test)\n"
      ],
      "metadata": {
        "id": "64CqoG5l_fFf"
      },
      "execution_count": null,
      "outputs": []
    },
    {
      "cell_type": "markdown",
      "source": [
        "## Random Forest"
      ],
      "metadata": {
        "id": "cF4EAte38wqC"
      }
    },
    {
      "cell_type": "markdown",
      "source": [
        "### Test Train values"
      ],
      "metadata": {
        "id": "P-zMkOH18wqD"
      }
    },
    {
      "cell_type": "code",
      "source": [
        "X = df_pobreza.drop(columns=[\"pobreza_pob\"])\n",
        "y = df_pobreza[\"pobreza_pob\"]\n",
        "\n",
        "X_train, X_test, y_train, y_test = train_test_split(X, y, test_size=0.2, random_state=42)\n",
        "rf_model = RandomForestRegressor(random_state=42)\n",
        "rf_model.fit(X_train, y_train)\n",
        "\n",
        "y_train_pred = rf_model.predict(X_train)\n",
        "y_test_pred = rf_model.predict(X_test)\n",
        "\n",
        "r2_train = r2_score(y_train, y_train_pred)\n",
        "mse_train = mean_squared_error(y_train, y_train_pred)\n",
        "r2_test = r2_score(y_test, y_test_pred)\n",
        "mse_test = mean_squared_error(y_test, y_test_pred)\n",
        "\n",
        "print(\"Métricas en el conjunto de entrenamiento:\")\n",
        "print(\"R²:\", r2_train)\n",
        "print(\"MSE:\", mse_train)\n",
        "print(\"\\nMétricas en el conjunto de test:\")\n",
        "print(\"R²:\", r2_test)\n",
        "print(\"MSE:\", mse_test)\n"
      ],
      "metadata": {
        "id": "39i_ZQDo_fbs"
      },
      "execution_count": null,
      "outputs": []
    },
    {
      "cell_type": "markdown",
      "source": [
        "### Cross-Validation"
      ],
      "metadata": {
        "id": "Ub3ctskQ8wqD"
      }
    },
    {
      "cell_type": "code",
      "source": [
        "X = df_pobreza.drop(columns=[\"pobreza_pob\"])\n",
        "y = df_pobreza[\"pobreza_pob\"]\n",
        "\n",
        "rf_model = RandomForestRegressor(random_state=42)\n",
        "scoring = {'r2': 'r2', 'mse': 'neg_mean_squared_error'}\n",
        "cv_results = cross_validate(rf_model, X, y, cv=10, scoring=scoring)\n",
        "\n",
        "mean_r2 = np.mean(cv_results['test_r2'])\n",
        "mean_mse = -np.mean(cv_results['test_mse'])\n",
        "\n",
        "print(\"Resultados de Validación Cruzada (K = 10 folds)\")\n",
        "print(\"R² Promedio:\", mean_r2)\n",
        "print(\"MSE Promedio:\", mean_mse)\n"
      ],
      "metadata": {
        "id": "tnvVipIL_fr4"
      },
      "execution_count": null,
      "outputs": []
    },
    {
      "cell_type": "markdown",
      "source": [
        "### Ajuste de hiperparámetros"
      ],
      "metadata": {
        "id": "vwBiW9fJ8wqD"
      }
    },
    {
      "cell_type": "code",
      "source": [
        "from sklearn.model_selection import RandomizedSearchCV, GridSearchCV, KFold\n",
        "from sklearn.ensemble import RandomForestRegressor\n",
        "import numpy as np\n",
        "\n",
        "X = df_pobreza.drop(columns=[\"pobreza_pob\"])\n",
        "y = df_pobreza[\"pobreza_pob\"]\n",
        "\n",
        "cv = KFold(n_splits=10, shuffle=True, random_state=42)\n",
        "param_distributions = {\n",
        "    'n_estimators': np.arange(50, 501, 50),\n",
        "    'max_depth': [None] + list(np.arange(5, 21, 5)),\n",
        "    'min_samples_split': np.arange(2, 11, 1),\n",
        "    'min_samples_leaf': np.arange(1, 11, 1)\n",
        "}\n",
        "\n",
        "random_search = RandomizedSearchCV(\n",
        "    estimator=RandomForestRegressor(random_state=42),\n",
        "    param_distributions=param_distributions,\n",
        "    n_iter=20,\n",
        "    scoring='neg_mean_squared_error',\n",
        "    cv=cv,\n",
        "    random_state=42,\n",
        "    n_jobs=-1\n",
        ")\n",
        "random_search.fit(X, y)\n",
        "\n",
        "print(\"=== Randomized Search ===\")\n",
        "print(\"Mejores hiperparámetros encontrados:\", random_search.best_params_)\n",
        "print(\"Mejor Score (MSE negativo):\", random_search.best_score_)\n",
        "\n",
        "best_params = random_search.best_params_\n",
        "n_estimators_best = best_params['n_estimators']\n",
        "max_depth_best = best_params['max_depth']\n",
        "min_samples_split_best = best_params['min_samples_split']\n",
        "min_samples_leaf_best = best_params['min_samples_leaf']\n",
        "\n",
        "param_grid = {\n",
        "    'n_estimators': [int(n_estimators_best * 0.5), n_estimators_best, int(n_estimators_best * 1.5)],\n",
        "    'max_depth': [max_depth_best, max_depth_best + 5] if max_depth_best is not None else [None],\n",
        "    'min_samples_split': [max(2, int(min_samples_split_best * 0.8)), min_samples_split_best, int(min_samples_split_best * 1.2)],\n",
        "    'min_samples_leaf': [max(1, int(min_samples_leaf_best * 0.8)), min_samples_leaf_best, int(min_samples_leaf_best * 1.2)]\n",
        "}\n",
        "\n",
        "grid_search = GridSearchCV(\n",
        "    estimator=RandomForestRegressor(random_state=42),\n",
        "    param_grid=param_grid,\n",
        "    scoring='neg_mean_squared_error',\n",
        "    cv=cv,\n",
        "    n_jobs=-1\n",
        ")\n",
        "grid_search.fit(X, y)\n",
        "\n",
        "print(\"\\n=== Grid Search ===\")\n",
        "print(\"Mejores hiperparámetros encontrados:\", grid_search.best_params_)\n",
        "print(\"Mejor Score (MSE negativo):\", grid_search.best_score_)\n"
      ],
      "metadata": {
        "id": "UwVJgAvU_gAY"
      },
      "execution_count": null,
      "outputs": []
    },
    {
      "cell_type": "markdown",
      "source": [
        "### Cross validation después del ajuste"
      ],
      "metadata": {
        "id": "kvEQH-OV8wqD"
      }
    },
    {
      "cell_type": "code",
      "source": [
        "from sklearn.model_selection import cross_val_predict\n",
        "from sklearn.metrics import r2_score, mean_squared_error\n",
        "\n",
        "best_model = grid_search.best_estimator_\n",
        "y_pred = cross_val_predict(best_model, X, y, cv=cv)\n",
        "final_r2 = r2_score(y, y_pred)\n",
        "final_mse = mean_squared_error(y, y_pred)\n",
        "\n",
        "print(\"\\n=== Evaluación Final del Modelo ===\")\n",
        "print(\"R²:\", final_r2)\n",
        "print(\"MSE:\", final_mse)\n"
      ],
      "metadata": {
        "id": "2viTwdWgBmwL"
      },
      "execution_count": null,
      "outputs": []
    },
    {
      "cell_type": "markdown",
      "source": [
        "### Test-train después del ajuste"
      ],
      "metadata": {
        "id": "6W4ULZqG8wqD"
      }
    },
    {
      "cell_type": "markdown",
      "source": [
        "# ic_sbv_pob"
      ],
      "metadata": {
        "id": "qGepZlJDCM7Y"
      }
    },
    {
      "cell_type": "markdown",
      "source": [
        "## SVR"
      ],
      "metadata": {
        "id": "SdW5_uNjCM7Y"
      }
    },
    {
      "cell_type": "markdown",
      "source": [
        "### Test Train values"
      ],
      "metadata": {
        "id": "r1USSKQ1CM7Y"
      }
    },
    {
      "cell_type": "code",
      "source": [
        "X = df_ic.drop(columns=[\"ic_sbv_pob\"])\n",
        "y = df_ic[\"ic_sbv_pob\"]\n",
        "\n",
        "X_train, X_test, y_train, y_test = train_test_split(X, y, test_size=0.2, random_state=42)\n",
        "\n",
        "svr_model = SVR(kernel='rbf', C=1.0, epsilon=0.1)\n",
        "svr_model.fit(X_train, y_train)\n",
        "\n",
        "y_train_pred = svr_model.predict(X_train)\n",
        "y_test_pred = svr_model.predict(X_test)\n",
        "\n",
        "r2_train = r2_score(y_train, y_train_pred)\n",
        "mse_train = mean_squared_error(y_train, y_train_pred)\n",
        "\n",
        "r2_test = r2_score(y_test, y_test_pred)\n",
        "mse_test = mean_squared_error(y_test, y_test_pred)\n",
        "\n",
        "print(\"Métricas en el conjunto de entrenamiento:\")\n",
        "print(\"R²:\", r2_train)\n",
        "print(\"MSE:\", mse_train)\n",
        "\n",
        "print(\"\\nMétricas en el conjunto de test:\")\n",
        "print(\"R²:\", r2_test)\n",
        "print(\"MSE:\", mse_test)"
      ],
      "metadata": {
        "colab": {
          "base_uri": "https://localhost:8080/"
        },
        "outputId": "e86ab862-c29a-41ab-af61-433637d186a3",
        "id": "SejdOLZ2CM7Y"
      },
      "execution_count": 18,
      "outputs": [
        {
          "output_type": "stream",
          "name": "stdout",
          "text": [
            "Métricas en el conjunto de entrenamiento:\n",
            "R²: 0.6111796164149187\n",
            "MSE: 0.004951611157982096\n",
            "\n",
            "Métricas en el conjunto de test:\n",
            "R²: 0.6199744419339279\n",
            "MSE: 0.005565374718363212\n"
          ]
        }
      ]
    },
    {
      "cell_type": "markdown",
      "source": [
        "### Cross-Validation"
      ],
      "metadata": {
        "id": "Uukw2k2ECM7Y"
      }
    },
    {
      "cell_type": "code",
      "source": [
        "X = df_ic.drop(columns=[\"ic_sbv_pob\"])\n",
        "y = df_ic[\"ic_sbv_pob\"]\n",
        "\n",
        "svr_model = SVR(kernel='rbf', C=1.0, epsilon=0.1)\n",
        "\n",
        "scoring = {\n",
        "    'r2': 'r2',\n",
        "    'mse': 'neg_mean_squared_error'\n",
        "}\n",
        "\n",
        "cv_results = cross_validate(svr_model, X, y, cv=10, scoring=scoring)\n",
        "\n",
        "\n",
        "mean_r2 = np.mean(cv_results['test_r2'])\n",
        "mean_mse = -np.mean(cv_results['test_mse'])\n",
        "\n",
        "print(\"Resultados de Validación Cruzada (K = 10 folds)\")\n",
        "print(\"R² Promedio:\", mean_r2)\n",
        "print(\"MSE Promedio:\", mean_mse)\n",
        "\n"
      ],
      "metadata": {
        "colab": {
          "base_uri": "https://localhost:8080/"
        },
        "outputId": "d3591838-ba23-42c2-b504-1d4adaf4f47d",
        "id": "m8vTN_yXCM7Y"
      },
      "execution_count": null,
      "outputs": [
        {
          "output_type": "stream",
          "name": "stdout",
          "text": [
            "Resultados de Validación Cruzada (K = 10 folds)\n",
            "R² Promedio: 0.3395996458774929\n",
            "MSE Promedio: 0.009946062842256475\n"
          ]
        }
      ]
    },
    {
      "cell_type": "markdown",
      "source": [
        "### Ajuste de hiperparámetros"
      ],
      "metadata": {
        "id": "NaSdKHojCM7Y"
      }
    },
    {
      "cell_type": "code",
      "source": [
        "from sklearn.model_selection import RandomizedSearchCV, GridSearchCV, cross_val_predict\n",
        "\n",
        "X = df_ic.drop(columns=[\"ic_sbv_pob\"])\n",
        "y = df_ic[\"ic_sbv_pob\"]\n",
        "\n",
        "cv = KFold(n_splits=10, shuffle=True, random_state=42)\n",
        "\n",
        "\n",
        "\n",
        "param_distributions = {\n",
        "    'C': np.logspace(-2, 2, 50),\n",
        "    'epsilon': np.linspace(0.001, 1, 50),\n",
        "    'gamma': ['scale', 'auto']\n",
        "}\n",
        "\n",
        "\n",
        "random_search = RandomizedSearchCV(\n",
        "    estimator=SVR(kernel='rbf'),\n",
        "    param_distributions=param_distributions,\n",
        "    n_iter=20,\n",
        "    scoring='neg_mean_squared_error',\n",
        "    cv=cv,\n",
        "    random_state=42,\n",
        "    n_jobs=-1\n",
        ")\n",
        "\n",
        "\n",
        "random_search.fit(X, y)\n",
        "\n",
        "print(\"=== Randomized Search ===\")\n",
        "print(\"Mejores hiperparámetros encontrados:\", random_search.best_params_)\n",
        "print(\"Mejor Score (MSE negativo):\", random_search.best_score_)\n",
        "\n",
        "\n",
        "\n",
        "\n",
        "best_params = random_search.best_params_\n",
        "\n",
        "\n",
        "C_best = best_params['C']\n",
        "epsilon_best = best_params['epsilon']\n",
        "gamma_best = best_params['gamma']\n",
        "\n",
        "param_grid = {\n",
        "    'C': [C_best * 0.5, C_best, C_best * 1.5],\n",
        "    'epsilon': [epsilon_best * 0.5, epsilon_best, epsilon_best * 1.5],\n",
        "    'gamma': [gamma_best]\n",
        "}\n",
        "\n",
        "\n",
        "grid_search = GridSearchCV(\n",
        "    estimator=SVR(kernel='rbf'),\n",
        "    param_grid=param_grid,\n",
        "    scoring='neg_mean_squared_error',\n",
        "    cv=cv,\n",
        "    n_jobs=-1\n",
        ")\n",
        "\n",
        "\n",
        "grid_search.fit(X, y)\n",
        "\n",
        "print(\"\\n=== Grid Search ===\")\n",
        "print(\"Mejores hiperparámetros encontrados:\", grid_search.best_params_)\n",
        "print(\"Mejor Score (MSE negativo):\", grid_search.best_score_)\n"
      ],
      "metadata": {
        "colab": {
          "base_uri": "https://localhost:8080/"
        },
        "outputId": "ae9688b4-d007-46e7-f9af-c8e50f7f2746",
        "id": "AbR0cD1CCM7Y"
      },
      "execution_count": null,
      "outputs": [
        {
          "output_type": "stream",
          "name": "stdout",
          "text": [
            "=== Randomized Search ===\n",
            "Mejores hiperparámetros encontrados: {'gamma': 'scale', 'epsilon': 0.041775510204081635, 'C': 2.329951810515372}\n",
            "Mejor Score (MSE negativo): -0.006070625507687952\n",
            "\n",
            "=== Grid Search ===\n",
            "Mejores hiperparámetros encontrados: {'C': 3.4949277157730583, 'epsilon': 0.020887755102040818, 'gamma': 'scale'}\n",
            "Mejor Score (MSE negativo): -0.006017446275329666\n"
          ]
        }
      ]
    },
    {
      "cell_type": "markdown",
      "source": [
        "### Cross validation después del ajuste"
      ],
      "metadata": {
        "id": "Ajapk-zTCM7Z"
      }
    },
    {
      "cell_type": "code",
      "source": [
        "best_model = grid_search.best_estimator_\n",
        "\n",
        "y_pred = cross_val_predict(best_model, X, y, cv=cv)\n",
        "\n",
        "final_r2 = r2_score(y, y_pred)\n",
        "final_mse = mean_squared_error(y, y_pred)\n",
        "\n",
        "print(\"\\n=== Evaluación Final del Modelo ===\")\n",
        "print(\"R²:\", final_r2)\n",
        "print(\"MSE:\", final_mse)"
      ],
      "metadata": {
        "colab": {
          "base_uri": "https://localhost:8080/"
        },
        "outputId": "0d412794-11a2-4a3e-c751-d11b5474a68e",
        "id": "zm0r4_cqCM7Z"
      },
      "execution_count": null,
      "outputs": [
        {
          "output_type": "stream",
          "name": "stdout",
          "text": [
            "\n",
            "=== Evaluación Final del Modelo ===\n",
            "R²: 0.663394499822437\n",
            "MSE: 0.006017120856727691\n"
          ]
        }
      ]
    },
    {
      "cell_type": "markdown",
      "source": [
        "### Test-train después del ajuste"
      ],
      "metadata": {
        "id": "S5kQ3hBxCM7Z"
      }
    },
    {
      "cell_type": "code",
      "source": [
        "X = df_ic.drop(columns=[\"ic_sbv_pob\"])\n",
        "y = df_ic[\"ic_sbv_pob\"]\n",
        "\n",
        "X_train, X_test, y_train, y_test = train_test_split(X, y, test_size=0.2, random_state=42)\n",
        "\n",
        "\n",
        "svr_model = SVR(kernel='rbf',\n",
        "                C=3.4949277157730583,\n",
        "                epsilon=0.020887755102040818,\n",
        "                gamma='scale')\n",
        "\n",
        "\n",
        "svr_model.fit(X_train, y_train)\n",
        "\n",
        "y_train_pred = svr_model.predict(X_train)\n",
        "y_test_pred = svr_model.predict(X_test)\n",
        "\n",
        "\n",
        "r2_train = r2_score(y_train, y_train_pred)\n",
        "mse_train = mean_squared_error(y_train, y_train_pred)\n",
        "\n",
        "r2_test = r2_score(y_test, y_test_pred)\n",
        "mse_test = mean_squared_error(y_test, y_test_pred)\n",
        "\n",
        "print(\"Métricas en el conjunto de entrenamiento:\")\n",
        "print(\"R²:\", r2_train)\n",
        "print(\"MSE:\", mse_train)\n",
        "\n",
        "print(\"\\nMétricas en el conjunto de test:\")\n",
        "print(\"R²:\", r2_test)\n",
        "print(\"MSE:\", mse_test)\n"
      ],
      "metadata": {
        "colab": {
          "base_uri": "https://localhost:8080/"
        },
        "outputId": "f5ca9988-7ed9-410e-9bf6-d9fb5eb99e4f",
        "id": "v2i6AOwSCM7Z"
      },
      "execution_count": null,
      "outputs": [
        {
          "output_type": "stream",
          "name": "stdout",
          "text": [
            "Métricas en el conjunto de entrenamiento:\n",
            "R²: 0.6702888100010014\n",
            "MSE: 0.0060809762595726916\n",
            "\n",
            "Métricas en el conjunto de test:\n",
            "R²: 0.7181798666730973\n",
            "MSE: 0.004396300720727193\n"
          ]
        }
      ]
    },
    {
      "cell_type": "markdown",
      "source": [
        "## Gradient Boosting"
      ],
      "metadata": {
        "id": "7_UKN5onCM7Z"
      }
    },
    {
      "cell_type": "markdown",
      "source": [
        "### Test Train values"
      ],
      "metadata": {
        "id": "wXe7vW3BCM7Z"
      }
    },
    {
      "cell_type": "code",
      "source": [
        "\n",
        "X = df_ic.drop(columns=[\"ic_sbv_pob\"])\n",
        "y = df_ic[\"ic_sbv_pob\"]\n",
        "\n",
        "\n",
        "X_train, X_test, y_train, y_test = train_test_split(X, y, test_size=0.2, random_state=42)\n",
        "\n",
        "gb_model = GradientBoostingRegressor(random_state=42)\n",
        "gb_model.fit(X_train, y_train)\n",
        "\n",
        "y_train_pred = gb_model.predict(X_train)\n",
        "y_test_pred = gb_model.predict(X_test)\n",
        "\n",
        "r2_train = r2_score(y_train, y_train_pred)\n",
        "mse_train = mean_squared_error(y_train, y_train_pred)\n",
        "\n",
        "r2_test = r2_score(y_test, y_test_pred)\n",
        "mse_test = mean_squared_error(y_test, y_test_pred)\n",
        "\n",
        "print(\"Métricas en el conjunto de entrenamiento:\")\n",
        "print(\"R²:\", r2_train)\n",
        "print(\"MSE:\", mse_train)\n",
        "\n",
        "print(\"\\nMétricas en el conjunto de test:\")\n",
        "print(\"R²:\", r2_test)\n",
        "print(\"MSE:\", mse_test)\n"
      ],
      "metadata": {
        "colab": {
          "base_uri": "https://localhost:8080/"
        },
        "outputId": "bb289b96-810b-420f-c1f1-10d6c061d1cd",
        "id": "zrtvfg1NCM7Z"
      },
      "execution_count": null,
      "outputs": [
        {
          "output_type": "stream",
          "name": "stdout",
          "text": [
            "Métricas en el conjunto de entrenamiento:\n",
            "R²: 0.9019060539616112\n",
            "MSE: 0.0018091802012211331\n",
            "\n",
            "Métricas en el conjunto de test:\n",
            "R²: 0.6566740728082154\n",
            "MSE: 0.005355770729860377\n"
          ]
        }
      ]
    },
    {
      "cell_type": "markdown",
      "source": [
        "### Cross-Validation"
      ],
      "metadata": {
        "id": "NGpwQn0sCM7Z"
      }
    },
    {
      "cell_type": "code",
      "source": [
        "X = df_ic.drop(columns=[\"ic_sbv_pob\"])\n",
        "y = df_ic[\"ic_sbv_pob\"]\n",
        "\n",
        "gb_model = GradientBoostingRegressor(random_state=42)\n",
        "\n",
        "scoring = {\n",
        "    'r2': 'r2',\n",
        "    'mse': 'neg_mean_squared_error'\n",
        "}\n",
        "\n",
        "cv_results = cross_validate(gb_model, X, y, cv=10, scoring=scoring)\n",
        "\n",
        "mean_r2 = np.mean(cv_results['test_r2'])\n",
        "mean_mse = -np.mean(cv_results['test_mse'])\n",
        "\n",
        "print(\"Resultados de Validación Cruzada (K = 10 folds)\")\n",
        "print(\"R² Promedio:\", mean_r2)\n",
        "print(\"MSE Promedio:\", mean_mse)\n",
        "\n"
      ],
      "metadata": {
        "colab": {
          "base_uri": "https://localhost:8080/"
        },
        "outputId": "e3dd9cd5-3b76-49fb-c659-2b6f459d19a5",
        "id": "LL_i7me6CM7Z"
      },
      "execution_count": null,
      "outputs": [
        {
          "output_type": "stream",
          "name": "stdout",
          "text": [
            "Resultados de Validación Cruzada (K = 10 folds)\n",
            "R² Promedio: 0.5838774026891002\n",
            "MSE Promedio: 0.006899033482949383\n"
          ]
        }
      ]
    },
    {
      "cell_type": "markdown",
      "source": [
        "### Ajuste de hiperparámetros"
      ],
      "metadata": {
        "id": "i0JzDaB_CM7Z"
      }
    },
    {
      "cell_type": "code",
      "source": [
        "X = df_ic.drop(columns=[\"ic_sbv_pob\"])\n",
        "y = df_ic[\"ic_sbv_pob\"]\n",
        "\n",
        "\n",
        "cv = KFold(n_splits=5, shuffle=True, random_state=42)\n",
        "\n",
        "param_distributions = {\n",
        "    'n_estimators': [100, 200, 300],\n",
        "    'learning_rate': np.linspace(0.01, 0.3, 20),\n",
        "    'max_depth': [3, 4, 5],\n",
        "    'subsample': [0.7, 0.8, 0.9, 1.0],\n",
        "    'min_samples_split': [2, 4, 6]\n",
        "}\n",
        "\n",
        "random_search = RandomizedSearchCV(\n",
        "    estimator=GradientBoostingRegressor(random_state=42),\n",
        "    param_distributions=param_distributions,\n",
        "    n_iter=5,\n",
        "    scoring='neg_mean_squared_error',\n",
        "    cv=cv,\n",
        "    random_state=42,\n",
        "    n_jobs=-1\n",
        ")\n",
        "\n",
        "\n",
        "random_search.fit(X, y)\n",
        "\n",
        "print(\"=== Randomized Search ===\")\n",
        "print(\"Mejores hiperparámetros encontrados:\", random_search.best_params_)\n",
        "print(\"Mejor Score (MSE negativo):\", random_search.best_score_)\n",
        "\n",
        "\n",
        "\n",
        "best_params = random_search.best_params_\n",
        "\n",
        "n_estimators_best = best_params['n_estimators']\n",
        "learning_rate_best = best_params['learning_rate']\n",
        "max_depth_best = best_params['max_depth']\n",
        "subsample_best = best_params['subsample']\n",
        "min_samples_split_best = best_params['min_samples_split']\n",
        "\n",
        "param_grid = {\n",
        "    'n_estimators': [max(50, n_estimators_best - 50), n_estimators_best, n_estimators_best + 50],\n",
        "    'learning_rate': [learning_rate_best * 0.8, learning_rate_best, learning_rate_best * 1.2],\n",
        "    'max_depth': [max(1, max_depth_best - 1), max_depth_best, max_depth_best + 1],\n",
        "    'subsample': [max(0.6, subsample_best - 0.1), subsample_best, min(1.0, subsample_best + 0.1)],\n",
        "    'min_samples_split': [max(2, min_samples_split_best - 1), min_samples_split_best, min_samples_split_best + 1]\n",
        "}\n",
        "\n",
        "\n",
        "grid_search = GridSearchCV(\n",
        "    estimator=GradientBoostingRegressor(random_state=42),\n",
        "    param_grid=param_grid,\n",
        "    scoring='neg_mean_squared_error',\n",
        "    cv=cv,\n",
        "    n_jobs=-1\n",
        ")\n",
        "\n",
        "\n",
        "grid_search.fit(X, y)\n",
        "\n",
        "print(\"\\n=== Grid Search ===\")\n",
        "print(\"Mejores hiperparámetros encontrados:\", grid_search.best_params_)\n",
        "print(\"Mejor Score (MSE negativo):\", grid_search.best_score_)"
      ],
      "metadata": {
        "colab": {
          "base_uri": "https://localhost:8080/"
        },
        "outputId": "2b5b775f-c31e-453f-8ae4-d072c8f4e415",
        "id": "Mw7g2IFfCM7Z"
      },
      "execution_count": null,
      "outputs": [
        {
          "output_type": "stream",
          "name": "stdout",
          "text": [
            "=== Randomized Search ===\n",
            "Mejores hiperparámetros encontrados: {'subsample': 1.0, 'n_estimators': 100, 'min_samples_split': 4, 'max_depth': 3, 'learning_rate': 0.16263157894736843}\n",
            "Mejor Score (MSE negativo): -0.006869511097473124\n",
            "\n",
            "=== Grid Search ===\n",
            "Mejores hiperparámetros encontrados: {'learning_rate': 0.13010526315789475, 'max_depth': 3, 'min_samples_split': 3, 'n_estimators': 50, 'subsample': 0.9}\n",
            "Mejor Score (MSE negativo): -0.006295873981124864\n"
          ]
        }
      ]
    },
    {
      "cell_type": "markdown",
      "source": [
        "### Cross validation después del ajuste"
      ],
      "metadata": {
        "id": "OrRsMcwmCM7Z"
      }
    },
    {
      "cell_type": "code",
      "source": [
        "best_model = grid_search.best_estimator_\n",
        "\n",
        "\n",
        "y_pred = cross_val_predict(best_model, X, y, cv=cv)\n",
        "\n",
        "final_r2 = r2_score(y, y_pred)\n",
        "final_mse = mean_squared_error(y, y_pred)\n",
        "\n",
        "print(\"\\n=== Evaluación Final del Modelo ===\")\n",
        "print(\"R²:\", final_r2)\n",
        "print(\"MSE:\", final_mse)\n"
      ],
      "metadata": {
        "colab": {
          "base_uri": "https://localhost:8080/"
        },
        "outputId": "fade7a38-4db6-4f8b-967c-c533270e3bd9",
        "id": "CgMj9S0uCM7Z"
      },
      "execution_count": null,
      "outputs": [
        {
          "output_type": "stream",
          "name": "stdout",
          "text": [
            "\n",
            "=== Evaluación Final del Modelo ===\n",
            "R²: 0.6477958824619011\n",
            "MSE: 0.006295959930381224\n"
          ]
        }
      ]
    },
    {
      "cell_type": "markdown",
      "source": [
        "### Test-train después del ajuste"
      ],
      "metadata": {
        "id": "zH1Lvz_cCM7Z"
      }
    },
    {
      "cell_type": "code",
      "source": [
        "\n",
        "X = df_ic.drop(columns=[\"ic_sbv_pob\"])\n",
        "y = df_ic[\"ic_sbv_pob\"]\n",
        "\n",
        "X_train, X_test, y_train, y_test = train_test_split(X, y, test_size=0.2, random_state=42)\n",
        "\n",
        "gb_model = GradientBoostingRegressor(n_estimators=300, learning_rate=0.1, max_depth=3, random_state=42)\n",
        "\n",
        "gb_model.fit(X_train, y_train)\n",
        "\n",
        "\n",
        "y_train_pred = gb_model.predict(X_train)\n",
        "y_test_pred = gb_model.predict(X_test)\n",
        "\n",
        "\n",
        "r2_train = r2_score(y_train, y_train_pred)\n",
        "mse_train = mean_squared_error(y_train, y_train_pred)\n",
        "\n",
        "r2_test = r2_score(y_test, y_test_pred)\n",
        "mse_test = mean_squared_error(y_test, y_test_pred)\n",
        "\n",
        "print(\"Métricas en el conjunto de entrenamiento:\")\n",
        "print(\"R²:\", r2_train)\n",
        "print(\"MSE:\", mse_train)\n",
        "\n",
        "print(\"\\nMétricas en el conjunto de test:\")\n",
        "print(\"R²:\", r2_test)\n",
        "print(\"MSE:\", mse_test)"
      ],
      "metadata": {
        "colab": {
          "base_uri": "https://localhost:8080/"
        },
        "outputId": "194e8a88-4980-4dbf-cf83-fa98f5f566a0",
        "id": "9abr3BgwCM7Z"
      },
      "execution_count": null,
      "outputs": [
        {
          "output_type": "stream",
          "name": "stdout",
          "text": [
            "Métricas en el conjunto de entrenamiento:\n",
            "R²: 0.9774696137346243\n",
            "MSE: 0.0004155356207327048\n",
            "\n",
            "Métricas en el conjunto de test:\n",
            "R²: 0.6124860145577624\n",
            "MSE: 0.006045089800292655\n"
          ]
        }
      ]
    },
    {
      "cell_type": "markdown",
      "source": [
        "## Regresión Lineal"
      ],
      "metadata": {
        "id": "tr78m7iLCM7Z"
      }
    },
    {
      "cell_type": "markdown",
      "source": [
        "### Antes de optimización y validación cruzada"
      ],
      "metadata": {
        "id": "SVrtcAnBCM7a"
      }
    },
    {
      "cell_type": "code",
      "source": [
        "X = df_ic.drop(columns=[\"ic_sbv_pob\"])\n",
        "y = df_ic[\"ic_sbv_pob\"]\n",
        "\n",
        "\n",
        "X_train, X_test, y_train, y_test = train_test_split(X, y, test_size=0.3, random_state=42)\n",
        "\n",
        "\n",
        "model = LinearRegression()\n",
        "model.fit(X_train, y_train)\n",
        "y_train_pred = model.predict(X_train)\n",
        "y_test_pred = model.predict(X_test)\n",
        "\n",
        "\n",
        "r2_train = r2_score(y_train, y_train_pred)\n",
        "mse_train = mean_squared_error(y_train, y_train_pred)\n",
        "\n",
        "\n",
        "r2_test = r2_score(y_test, y_test_pred)\n",
        "mse_test = mean_squared_error(y_test, y_test_pred)\n",
        "\n",
        "print(\"Métricas en el conjunto de entrenamiento:\")\n",
        "print(\"R²:\", r2_train)\n",
        "print(\"MSE:\", mse_train)\n",
        "\n",
        "print(\"\\nMétricas en el conjunto de test:\")\n",
        "print(\"R²:\", r2_test)\n",
        "print(\"MSE:\", mse_test)"
      ],
      "metadata": {
        "colab": {
          "base_uri": "https://localhost:8080/"
        },
        "outputId": "9c8d8c88-151f-4b35-d85a-279ef3a75e23",
        "id": "PumrvqyzCM7a"
      },
      "execution_count": null,
      "outputs": [
        {
          "output_type": "stream",
          "name": "stdout",
          "text": [
            "Métricas en el conjunto de entrenamiento:\n",
            "R²: 0.6165033094655751\n",
            "MSE: 0.00729552699802785\n",
            "\n",
            "Métricas en el conjunto de test:\n",
            "R²: 0.7746701821369734\n",
            "MSE: 0.0034222693334729974\n"
          ]
        }
      ]
    },
    {
      "cell_type": "code",
      "source": [
        "import matplotlib.pyplot as plt\n",
        "\n",
        "plt.figure(figsize=(8, 6))\n",
        "plt.scatter(y_test, y_test_pred, alpha=0.5)\n",
        "\n",
        "plt.plot([y_test.min(), y_test.max()], [y_test.min(), y_test.max()], 'r--')\n",
        "plt.xlabel('Valores Reales')\n",
        "plt.ylabel('Valores Predichos')\n",
        "plt.title('Comparación: Valores Reales vs Predichos')\n",
        "plt.show()"
      ],
      "metadata": {
        "colab": {
          "base_uri": "https://localhost:8080/",
          "height": 565
        },
        "outputId": "7b9d1a20-af5f-4c06-8393-2e5dae1407a3",
        "id": "q5jvZMvgCM7a"
      },
      "execution_count": null,
      "outputs": [
        {
          "output_type": "display_data",
          "data": {
            "text/plain": [
              "<Figure size 800x600 with 1 Axes>"
            ],
            "image/png": "[encoded data removed]"
          },
          "metadata": {}
        }
      ]
    },
    {
      "cell_type": "markdown",
      "source": [
        "### Validación Cruzada"
      ],
      "metadata": {
        "id": "mTRFEggnCM7a"
      }
    },
    {
      "cell_type": "code",
      "source": [
        "X = df_ic.drop(columns=[\"ic_sbv_pob\"])\n",
        "y = df_ic[\"ic_sbv_pob\"]\n",
        "\n",
        "lr_model = LinearRegression()\n",
        "\n",
        "\n",
        "scoring = {\n",
        "    'r2': 'r2',\n",
        "    'mse': 'neg_mean_squared_error'\n",
        "}\n",
        "\n",
        "\n",
        "cv_results_train = cross_validate(lr_model, X_train, y_train, cv = 10, scoring = scoring)\n",
        "cv_results_test = cross_validate(lr_model, X_test, y_test, cv = 10, scoring = scoring)\n",
        "\n",
        "\n",
        "mean_r2_train = np.mean(cv_results_train['test_r2'])\n",
        "mean_mse_train = -np.mean(cv_results_train['test_mse'])\n",
        "\n",
        "print(\"Resultados de Validación Cruzada en conjunto de entrenamiento (K = 10 folds)\")\n",
        "print(\"R² Promedio:\", mean_r2_train)\n",
        "print(\"MSE Promedio:\", mean_mse_train)\n",
        "\n",
        "\n",
        "mean_r2_test = np.mean(cv_results_test['test_r2'])\n",
        "mean_mse_test = -np.mean(cv_results_test['test_mse'])\n",
        "\n",
        "print(\"\\nResultados de Validación Cruzada en conjunto de prueba (K = 10 folds)\")\n",
        "print(\"R² Promedio:\", mean_r2_test)\n",
        "print(\"MSE Promedio:\", mean_mse_test)"
      ],
      "metadata": {
        "colab": {
          "base_uri": "https://localhost:8080/"
        },
        "outputId": "e07a257d-2ba5-49db-b139-a0bb0698e0e5",
        "id": "ckWNC2DoCM7a"
      },
      "execution_count": null,
      "outputs": [
        {
          "output_type": "stream",
          "name": "stdout",
          "text": [
            "Resultados de Validación Cruzada en conjunto de entrenamiento (K = 10 folds)\n",
            "R² Promedio: 0.6281497319543392\n",
            "MSE Promedio: 0.007388943090936163\n",
            "\n",
            "Resultados de Validación Cruzada en conjunto de prueba (K = 10 folds)\n",
            "R² Promedio: 0.8172824576069445\n",
            "MSE Promedio: 0.0033584239195320236\n"
          ]
        }
      ]
    },
    {
      "cell_type": "markdown",
      "source": [
        "### Ajuste de Hiperparámetros"
      ],
      "metadata": {
        "id": "ZdJsemcQCM7a"
      }
    },
    {
      "cell_type": "code",
      "source": [
        "X = df_ic.drop(columns=[\"ic_sbv_pob\"])\n",
        "y = df_ic[\"ic_sbv_pob\"]\n",
        "\n",
        "\n",
        "cv = KFold(n_splits=10, shuffle=True, random_state=42)\n",
        "\n",
        "\n",
        "param_grid = {\n",
        "    'fit_intercept': [True, False],\n",
        "    'copy_X': [True, False],\n",
        "    'positive': [True, False]\n",
        "}\n",
        "\n",
        "\n",
        "\n",
        "grid_search = GridSearchCV(\n",
        "    estimator = LinearRegression(),\n",
        "    param_grid = param_grid,\n",
        "    scoring = 'neg_mean_squared_error',\n",
        "    cv = cv,\n",
        "    n_jobs = -1\n",
        ")\n",
        "\n",
        "grid_search.fit(X, y)\n",
        "\n",
        "print(\"=== Grid Search ===\")\n",
        "print(\"Mejores hiperparámetros encontrados:\", grid_search.best_params_)\n",
        "print(\"Mejor Score (MSE negativo):\", grid_search.best_score_)"
      ],
      "metadata": {
        "colab": {
          "base_uri": "https://localhost:8080/"
        },
        "outputId": "10526afd-2124-43eb-f096-583a904e92aa",
        "id": "KAdEeDDbCM7a"
      },
      "execution_count": null,
      "outputs": [
        {
          "output_type": "stream",
          "name": "stdout",
          "text": [
            "=== Grid Search ===\n",
            "Mejores hiperparámetros encontrados: {'copy_X': True, 'fit_intercept': True, 'positive': False}\n",
            "Mejor Score (MSE negativo): -0.006188310184381708\n"
          ]
        }
      ]
    },
    {
      "cell_type": "markdown",
      "source": [
        "### Validación Cruzada después del ajuste"
      ],
      "metadata": {
        "id": "ySCgfopaCM7a"
      }
    },
    {
      "cell_type": "code",
      "source": [
        "\n",
        "best_model = grid_search.best_estimator_\n",
        "\n",
        "\n",
        "y_train_pred = cross_val_predict(best_model, X_train, y_train, cv = cv)\n",
        "y_test_pred = cross_val_predict(best_model, X_test, y_test, cv = cv)\n",
        "\n",
        "\n",
        "final_r2_train = r2_score(y_train, y_train_pred)\n",
        "final_mse_train = mean_squared_error(y_train, y_train_pred)\n",
        "\n",
        "\n",
        "final_r2_test = r2_score(y_test, y_test_pred)\n",
        "final_mse_test = mean_squared_error(y_test, y_test_pred)\n",
        "\n",
        "print(\"=== Evaluación Final del Modelo en el conjunto de entrenamiento ===\")\n",
        "print(\"R²:\", final_r2_train)\n",
        "print(\"MSE:\", final_mse_train)\n",
        "\n",
        "print(\"\\n=== Evaluación Final del Modelo en el conjunto de prueba ===\")\n",
        "print(\"R²:\", final_r2_test)\n",
        "print(\"MSE:\", final_mse_test)"
      ],
      "metadata": {
        "colab": {
          "base_uri": "https://localhost:8080/"
        },
        "outputId": "83b7e303-d711-40ec-b8e8-808b200a73b0",
        "id": "QQF9ATcTCM7a"
      },
      "execution_count": null,
      "outputs": [
        {
          "output_type": "stream",
          "name": "stdout",
          "text": [
            "=== Evaluación Final del Modelo en el conjunto de entrenamiento ===\n",
            "R²: 0.6099230823818067\n",
            "MSE: 0.00742070728126807\n",
            "\n",
            "=== Evaluación Final del Modelo en el conjunto de prueba ===\n",
            "R²: 0.7771075697171812\n",
            "MSE: 0.0033852507229373786\n"
          ]
        }
      ]
    },
    {
      "cell_type": "markdown",
      "source": [
        "## Decision Tree"
      ],
      "metadata": {
        "id": "gl3b1pS-CM7a"
      }
    },
    {
      "cell_type": "markdown",
      "source": [
        "### Antes de ajuste y validación cruzada"
      ],
      "metadata": {
        "id": "g9L-8I0jCM7a"
      }
    },
    {
      "cell_type": "code",
      "source": [
        "X = df_ic.drop(columns=[\"ic_sbv_pob\"])\n",
        "y = df_ic[\"ic_sbv_pob\"]\n",
        "\n",
        "X_train, X_test, y_train, y_test = train_test_split(X, y, test_size=0.2, random_state=42)\n",
        "\n",
        "\n",
        "model = DecisionTreeRegressor()\n",
        "model.fit(X_train, y_train)\n",
        "y_train_pred = model.predict(X_train)\n",
        "y_test_pred = model.predict(X_test)\n",
        "\n",
        "\n",
        "r2_train = r2_score(y_train, y_train_pred)\n",
        "mse_train = mean_squared_error(y_train, y_train_pred)\n",
        "\n",
        "r2_test = r2_score(y_test, y_test_pred)\n",
        "mse_test = mean_squared_error(y_test, y_test_pred)\n",
        "\n",
        "print(\"Métricas en el conjunto de entrenamiento:\")\n",
        "print(\"R²:\", r2_train)\n",
        "print(\"MSE:\", mse_train)\n",
        "\n",
        "print(\"\\nMétricas en el conjunto de test:\")\n",
        "print(\"R²:\", r2_test)\n",
        "print(\"MSE:\", mse_test)"
      ],
      "metadata": {
        "colab": {
          "base_uri": "https://localhost:8080/"
        },
        "outputId": "5e37c057-7996-41fb-d045-f8989fc30535",
        "id": "LVopXX2BCM7a"
      },
      "execution_count": null,
      "outputs": [
        {
          "output_type": "stream",
          "name": "stdout",
          "text": [
            "Métricas en el conjunto de entrenamiento:\n",
            "R²: 1.0\n",
            "MSE: 0.0\n",
            "\n",
            "Métricas en el conjunto de test:\n",
            "R²: 0.5442620507522558\n",
            "MSE: 0.007109361034956724\n"
          ]
        }
      ]
    },
    {
      "cell_type": "markdown",
      "source": [
        "### Validación Cruzada"
      ],
      "metadata": {
        "id": "36EvDEsKCM7a"
      }
    },
    {
      "cell_type": "code",
      "source": [
        "X = df_ic.drop(columns=[\"ic_sbv_pob\"])\n",
        "y = df_ic[\"ic_sbv_pob\"]\n",
        "\n",
        "dt_model = DecisionTreeRegressor()\n",
        "\n",
        "\n",
        "scoring = {\n",
        "    'r2': 'r2',\n",
        "    'mse': 'neg_mean_squared_error'\n",
        "}\n",
        "\n",
        "\n",
        "cv_results_train = cross_validate(dt_model, X_train, y_train, cv = 10, scoring = scoring)\n",
        "cv_results_test = cross_validate(dt_model, X_test, y_test, cv = 10, scoring = scoring)\n",
        "\n",
        "\n",
        "mean_r2_train = np.mean(cv_results_train['test_r2'])\n",
        "mean_mse_train = -np.mean(cv_results_train['test_mse'])\n",
        "\n",
        "print(\"Resultados de Validación Cruzada en conjunto de entrenamiento (K = 10 folds)\")\n",
        "print(\"R² Promedio:\", mean_r2_train)\n",
        "print(\"MSE Promedio:\", mean_mse_train)\n",
        "\n",
        "\n",
        "mean_r2_test = np.mean(cv_results_test['test_r2'])\n",
        "mean_mse_test = -np.mean(cv_results_test['test_mse'])\n",
        "\n",
        "print(\"\\nResultados de Validación Cruzada en conjunto de prueba (K = 10 folds)\")\n",
        "print(\"R² Promedio:\", mean_r2_test)\n",
        "print(\"MSE Promedio:\", mean_mse_test)"
      ],
      "metadata": {
        "colab": {
          "base_uri": "https://localhost:8080/"
        },
        "outputId": "6601de88-c92a-461f-c4eb-bde62a092492",
        "id": "aEZuhBKECM7a"
      },
      "execution_count": null,
      "outputs": [
        {
          "output_type": "stream",
          "name": "stdout",
          "text": [
            "Resultados de Validación Cruzada en conjunto de entrenamiento (K = 10 folds)\n",
            "R² Promedio: 0.5958908240919676\n",
            "MSE Promedio: 0.00831350765367318\n",
            "\n",
            "Resultados de Validación Cruzada en conjunto de prueba (K = 10 folds)\n",
            "R² Promedio: 0.3489336777709399\n",
            "MSE Promedio: 0.009088853958655078\n"
          ]
        }
      ]
    },
    {
      "cell_type": "markdown",
      "source": [
        "### Ajuste de Hiperparámetros"
      ],
      "metadata": {
        "id": "2Se4c1qgCM7b"
      }
    },
    {
      "cell_type": "code",
      "source": [
        "X = df_ic.drop(columns=[\"ic_sbv_pob\"])\n",
        "y = df_ic[\"ic_sbv_pob\"]\n",
        "\n",
        "cv = KFold(n_splits = 10, shuffle = True, random_state = 42)\n",
        "\n",
        "\n",
        "param_distributions = {\n",
        "    'max_depth': [3, 5, 10, None],\n",
        "    'min_samples_split': [2, 5, 10],\n",
        "    'min_samples_leaf': [1, 2, 4],\n",
        "    'max_features': ['auto', 'sqrt', 'log2', None],\n",
        "    'criterion': ['squared_error', 'friedman_mse', 'absolute_error'],\n",
        "    'splitter': ['best', 'random']\n",
        "}\n",
        "\n",
        "random_search = RandomizedSearchCV(\n",
        "    estimator = DecisionTreeRegressor(random_state = 42),\n",
        "    param_distributions = param_distributions,\n",
        "    n_iter = 10,\n",
        "    scoring = 'neg_mean_squared_error',\n",
        "    cv = cv,\n",
        "    random_state = 42,\n",
        "    n_jobs = -1\n",
        ")\n",
        "\n",
        "random_search.fit(X, y)\n",
        "\n",
        "print(\"=== Randomized Search ===\")\n",
        "print(\"Mejores hiperparámetros encontrados:\", random_search.best_params_)\n",
        "print(\"Mejor Score (MSE negativo):\", random_search.best_score_)\n",
        "\n",
        "\n",
        "best_params = random_search.best_params_\n",
        "\n",
        "max_depth_best = best_params['max_depth']\n",
        "min_samples_split_best = best_params['min_samples_split']\n",
        "min_samples_leaf_best = best_params['min_samples_leaf']\n",
        "max_features_best = best_params['max_features']\n",
        "criterion_best = best_params['criterion']\n",
        "splitter_best = best_params['splitter']\n",
        "\n",
        "param_grid = {\n",
        "    'max_depth': [max(1, max_depth_best - 1), max_depth_best, max_depth_best + 1],\n",
        "    'min_samples_split': [max(2, min_samples_split_best - 1), min_samples_split_best, min_samples_split_best + 1],\n",
        "    'min_samples_leaf': [max(1, min_samples_leaf_best - 1), min_samples_leaf_best, min_samples_leaf_best + 1],\n",
        "    'max_features': [max_features_best, 'sqrt', 'log2', None],\n",
        "    'criterion': [criterion_best, 'squared_error', 'friedman_mse'],\n",
        "    'splitter': [splitter_best, 'best', 'random']\n",
        "}\n",
        "\n",
        "grid_search = GridSearchCV(\n",
        "    estimator = DecisionTreeRegressor(random_state = 42),\n",
        "    param_grid = param_grid,\n",
        "    scoring = 'neg_mean_squared_error',\n",
        "    cv = cv,\n",
        "    n_jobs = -1\n",
        ")\n",
        "\n",
        "grid_search.fit(X, y)\n",
        "\n",
        "print(\"\\n=== Grid Search ===\")\n",
        "print(\"Mejores hiperparámetros encontrados:\", grid_search.best_params_)\n",
        "print(\"Mejor Score (MSE negativo):\", grid_search.best_score_)"
      ],
      "metadata": {
        "colab": {
          "base_uri": "https://localhost:8080/"
        },
        "outputId": "0c38e774-13d8-4694-dd8c-f6e99212d10c",
        "id": "L-C3vPoFCM7b"
      },
      "execution_count": null,
      "outputs": [
        {
          "output_type": "stream",
          "name": "stderr",
          "text": [
            "/usr/local/lib/python3.11/dist-packages/sklearn/model_selection/_validation.py:528: FitFailedWarning: \n",
            "40 fits failed out of a total of 100.\n",
            "The score on these train-test partitions for these parameters will be set to nan.\n",
            "If these failures are not expected, you can try to debug them by setting error_score='raise'.\n",
            "\n",
            "Below are more details about the failures:\n",
            "--------------------------------------------------------------------------------\n",
            "40 fits failed with the following error:\n",
            "Traceback (most recent call last):\n",
            "  File \"/usr/local/lib/python3.11/dist-packages/sklearn/model_selection/_validation.py\", line 866, in _fit_and_score\n",
            "    estimator.fit(X_train, y_train, **fit_params)\n",
            "  File \"/usr/local/lib/python3.11/dist-packages/sklearn/base.py\", line 1382, in wrapper\n",
            "    estimator._validate_params()\n",
            "  File \"/usr/local/lib/python3.11/dist-packages/sklearn/base.py\", line 436, in _validate_params\n",
            "    validate_parameter_constraints(\n",
            "  File \"/usr/local/lib/python3.11/dist-packages/sklearn/utils/_param_validation.py\", line 98, in validate_parameter_constraints\n",
            "    raise InvalidParameterError(\n",
            "sklearn.utils._param_validation.InvalidParameterError: The 'max_features' parameter of DecisionTreeRegressor must be an int in the range [1, inf), a float in the range (0.0, 1.0], a str among {'sqrt', 'log2'} or None. Got 'auto' instead.\n",
            "\n",
            "  warnings.warn(some_fits_failed_message, FitFailedWarning)\n",
            "/usr/local/lib/python3.11/dist-packages/sklearn/model_selection/_search.py:1108: UserWarning: One or more of the test scores are non-finite: [-0.01436619         nan -0.00706327 -0.0083472  -0.0083472          nan\n",
            "         nan         nan -0.00701567 -0.0084487 ]\n",
            "  warnings.warn(\n"
          ]
        },
        {
          "output_type": "stream",
          "name": "stdout",
          "text": [
            "=== Randomized Search ===\n",
            "Mejores hiperparámetros encontrados: {'splitter': 'random', 'min_samples_split': 10, 'min_samples_leaf': 4, 'max_features': 'log2', 'max_depth': 10, 'criterion': 'friedman_mse'}\n",
            "Mejor Score (MSE negativo): -0.007015669102696751\n",
            "\n",
            "=== Grid Search ===\n",
            "Mejores hiperparámetros encontrados: {'criterion': 'friedman_mse', 'max_depth': 10, 'max_features': 'log2', 'min_samples_leaf': 4, 'min_samples_split': 11, 'splitter': 'random'}\n",
            "Mejor Score (MSE negativo): -0.006803850624363608\n"
          ]
        }
      ]
    },
    {
      "cell_type": "markdown",
      "source": [
        "### Validación Cruzada después del ajuste"
      ],
      "metadata": {
        "id": "46dbuVPaCM7b"
      }
    },
    {
      "cell_type": "code",
      "source": [
        "\n",
        "best_model = grid_search.best_estimator_\n",
        "\n",
        "\n",
        "y_train_pred = cross_val_predict(best_model, X_train, y_train, cv = cv)\n",
        "y_test_pred = cross_val_predict(best_model, X_test, y_test, cv = cv)\n",
        "\n",
        "\n",
        "final_r2_train = r2_score(y_train, y_train_pred)\n",
        "final_mse_train = mean_squared_error(y_train, y_train_pred)\n",
        "\n",
        "\n",
        "final_r2_test = r2_score(y_test, y_test_pred)\n",
        "final_mse_test = mean_squared_error(y_test, y_test_pred)\n",
        "\n",
        "print(\"=== Evaluación Final del Modelo en el conjunto de entrenamiento ===\")\n",
        "print(\"R²:\", r2_train)\n",
        "print(\"MSE:\", mse_train)\n",
        "\n",
        "print(\"\\n=== Evaluación Final del Modelo en el conjunto de prueba ===\")\n",
        "print(\"R²:\", r2_test)\n",
        "print(\"MSE:\", mse_test)"
      ],
      "metadata": {
        "colab": {
          "base_uri": "https://localhost:8080/"
        },
        "outputId": "23b0afca-717f-4c0b-d71d-4cab7632de6c",
        "id": "Kw-ZZe-7CM7b"
      },
      "execution_count": null,
      "outputs": [
        {
          "output_type": "stream",
          "name": "stdout",
          "text": [
            "=== Evaluación Final del Modelo en el conjunto de entrenamiento ===\n",
            "R²: 1.0\n",
            "MSE: 0.0\n",
            "\n",
            "=== Evaluación Final del Modelo en el conjunto de prueba ===\n",
            "R²: 0.5442620507522558\n",
            "MSE: 0.007109361034956724\n"
          ]
        }
      ]
    },
    {
      "cell_type": "markdown",
      "source": [
        "## AdaBoost"
      ],
      "metadata": {
        "id": "Z1iF5jPoCM7b"
      }
    },
    {
      "cell_type": "markdown",
      "source": [
        "### Test Train values"
      ],
      "metadata": {
        "id": "igLvzjVsCM7b"
      }
    },
    {
      "cell_type": "code",
      "source": [
        "X = df_ic.drop(columns=[\"ic_sbv_pob\"])\n",
        "y = df_ic[\"ic_sbv_pob\"]\n",
        "X_train, X_test, y_train, y_test = train_test_split(X, y, test_size=0.2, random_state=42)\n",
        "\n",
        "adaboost_model = AdaBoostRegressor(n_estimators=50, learning_rate=1.0, random_state=42)\n",
        "adaboost_model.fit(X_train, y_train)\n",
        "\n",
        "y_train_pred = adaboost_model.predict(X_train)\n",
        "y_test_pred = adaboost_model.predict(X_test)\n",
        "\n",
        "\n",
        "r2_train = r2_score(y_train, y_train_pred)\n",
        "mse_train = mean_squared_error(y_train, y_train_pred)\n",
        "\n",
        "r2_test = r2_score(y_test, y_test_pred)\n",
        "mse_test = mean_squared_error(y_test, y_test_pred)\n",
        "\n",
        "print(\"Métricas en el conjunto de entrenamiento:\")\n",
        "print(\"R²:\", r2_train)\n",
        "print(\"MSE:\", mse_train)\n",
        "\n",
        "print(\"\\nMétricas en el conjunto de test:\")\n",
        "print(\"R²:\", r2_test)\n",
        "print(\"MSE:\", mse_test)"
      ],
      "metadata": {
        "colab": {
          "base_uri": "https://localhost:8080/"
        },
        "outputId": "07cf95bb-1761-4dca-8370-9b315f5aabb0",
        "id": "mOqwPmC6CM7b"
      },
      "execution_count": null,
      "outputs": [
        {
          "output_type": "stream",
          "name": "stdout",
          "text": [
            "Métricas en el conjunto de entrenamiento:\n",
            "R²: 0.614189184873227\n",
            "MSE: 0.007058693477945319\n",
            "\n",
            "Métricas en el conjunto de test:\n",
            "R²: 0.605576191660522\n",
            "MSE: 0.007654376414884104\n"
          ]
        }
      ]
    },
    {
      "cell_type": "markdown",
      "source": [
        "### Cross-Validation"
      ],
      "metadata": {
        "id": "joTnGBVtCM7b"
      }
    },
    {
      "cell_type": "code",
      "source": [
        "X = df_ic.drop(columns=[\"ic_sbv_pob\"])\n",
        "y = df_ic[\"ic_sbv_pob\"]\n",
        "\n",
        "adaboost_model = AdaBoostRegressor(n_estimators=50, learning_rate=1.0, random_state=42)\n",
        "\n",
        "scoring = {\n",
        "    'r2': 'r2',\n",
        "    'mse': 'neg_mean_squared_error'\n",
        "}\n",
        "\n",
        "cv_results = cross_validate(adaboost_model, X, y, cv=10, scoring=scoring)\n",
        "\n",
        "mean_r2 = np.mean(cv_results['test_r2'])\n",
        "mean_mse = -np.mean(cv_results['test_mse'])\n",
        "\n",
        "print(\"Resultados de Validación Cruzada (K = 10 folds)\")\n",
        "print(\"R² Promedio:\", mean_r2)\n",
        "print(\"MSE Promedio:\", mean_mse)"
      ],
      "metadata": {
        "colab": {
          "base_uri": "https://localhost:8080/"
        },
        "outputId": "aa4880e4-625d-4ac4-8102-c3a599c7fc44",
        "id": "HwJapE4OCM7b"
      },
      "execution_count": null,
      "outputs": [
        {
          "output_type": "stream",
          "name": "stdout",
          "text": [
            "Resultados de Validación Cruzada (K = 10 folds)\n",
            "R² Promedio: 0.5306451190586456\n",
            "MSE Promedio: 0.007720202361108075\n"
          ]
        }
      ]
    },
    {
      "cell_type": "markdown",
      "source": [
        "### Ajuste de hiperparámetros"
      ],
      "metadata": {
        "id": "7NxY5bSjCM7b"
      }
    },
    {
      "cell_type": "code",
      "source": [
        "from sklearn.model_selection import RandomizedSearchCV, GridSearchCV, KFold\n",
        "X = df_ic.drop(columns=[\"ic_sbv_pob\"])\n",
        "y = df_ic[\"ic_sbv_pob\"]\n",
        "cv = KFold(n_splits=10, shuffle=True, random_state=42)\n",
        "\n",
        "\n",
        "param_distributions = {\n",
        "    'n_estimators': np.arange(50, 501, 50),\n",
        "    'learning_rate': np.linspace(0.01, 2, 50),\n",
        "    'loss': ['linear', 'square', 'exponential']\n",
        "}\n",
        "\n",
        "random_search = RandomizedSearchCV(\n",
        "    estimator=AdaBoostRegressor(random_state=42),\n",
        "    param_distributions=param_distributions,\n",
        "    n_iter=20,\n",
        "    scoring='neg_mean_squared_error',\n",
        "    cv=cv,\n",
        "    random_state=42,\n",
        "    n_jobs=-1\n",
        ")\n",
        "\n",
        "random_search.fit(X, y)\n",
        "\n",
        "print(\"=== Randomized Search ===\")\n",
        "print(\"Mejores hiperparámetros encontrados:\", random_search.best_params_)\n",
        "print(\"Mejor Score (MSE negativo):\", random_search.best_score_)\n",
        "\n",
        "best_params = random_search.best_params_\n",
        "n_estimators_best = best_params['n_estimators']\n",
        "learning_rate_best = best_params['learning_rate']\n",
        "loss_best = best_params['loss']\n",
        "\n",
        "param_grid = {\n",
        "    'n_estimators': [max(1, int(n_estimators_best * 0.5)), n_estimators_best, int(n_estimators_best * 1.5)],\n",
        "    'learning_rate': [learning_rate_best * 0.5, learning_rate_best, learning_rate_best * 1.5],\n",
        "    'loss': [loss_best]\n",
        "}\n",
        "\n",
        "grid_search = GridSearchCV(\n",
        "    estimator=AdaBoostRegressor(random_state=42),\n",
        "    param_grid=param_grid,\n",
        "    scoring='neg_mean_squared_error',\n",
        "    cv=cv,\n",
        "    n_jobs=-1\n",
        ")\n",
        "\n",
        "grid_search.fit(X, y)\n",
        "\n",
        "print(\"\\n=== Grid Search ===\")\n",
        "print(\"Mejores hiperparámetros encontrados:\", grid_search.best_params_)\n",
        "print(\"Mejor Score (MSE negativo):\", grid_search.best_score_)"
      ],
      "metadata": {
        "colab": {
          "base_uri": "https://localhost:8080/",
          "height": 356
        },
        "outputId": "e7e30be6-28d6-48d0-e9b2-2693f22182f8",
        "id": "-FQRUN8CCM7b"
      },
      "execution_count": null,
      "outputs": [
        {
          "output_type": "error",
          "ename": "KeyboardInterrupt",
          "evalue": "",
          "traceback": [
            "\u001b[0;31m---------------------------------------------------------------------------\u001b[0m",
            "\u001b[0;31mKeyboardInterrupt\u001b[0m                         Traceback (most recent call last)",
            "\u001b[0;32m<ipython-input-14-1afd961ad2ea>\u001b[0m in \u001b[0;36m<cell line: 0>\u001b[0;34m()\u001b[0m\n\u001b[1;32m     22\u001b[0m )\n\u001b[1;32m     23\u001b[0m \u001b[0;34m\u001b[0m\u001b[0m\n\u001b[0;32m---> 24\u001b[0;31m \u001b[0mrandom_search\u001b[0m\u001b[0;34m.\u001b[0m\u001b[0mfit\u001b[0m\u001b[0;34m(\u001b[0m\u001b[0mX\u001b[0m\u001b[0;34m,\u001b[0m \u001b[0my\u001b[0m\u001b[0;34m)\u001b[0m\u001b[0;34m\u001b[0m\u001b[0;34m\u001b[0m\u001b[0m\n\u001b[0m\u001b[1;32m     25\u001b[0m \u001b[0;34m\u001b[0m\u001b[0m\n\u001b[1;32m     26\u001b[0m \u001b[0mprint\u001b[0m\u001b[0;34m(\u001b[0m\u001b[0;34m\"=== Randomized Search ===\"\u001b[0m\u001b[0;34m)\u001b[0m\u001b[0;34m\u001b[0m\u001b[0;34m\u001b[0m\u001b[0m\n",
            "\u001b[0;32m/usr/local/lib/python3.11/dist-packages/sklearn/base.py\u001b[0m in \u001b[0;36mwrapper\u001b[0;34m(estimator, *args, **kwargs)\u001b[0m\n\u001b[1;32m   1387\u001b[0m                 )\n\u001b[1;32m   1388\u001b[0m             ):\n\u001b[0;32m-> 1389\u001b[0;31m                 \u001b[0;32mreturn\u001b[0m \u001b[0mfit_method\u001b[0m\u001b[0;34m(\u001b[0m\u001b[0mestimator\u001b[0m\u001b[0;34m,\u001b[0m \u001b[0;34m*\u001b[0m\u001b[0margs\u001b[0m\u001b[0;34m,\u001b[0m \u001b[0;34m**\u001b[0m\u001b[0mkwargs\u001b[0m\u001b[0;34m)\u001b[0m\u001b[0;34m\u001b[0m\u001b[0;34m\u001b[0m\u001b[0m\n\u001b[0m\u001b[1;32m   1390\u001b[0m \u001b[0;34m\u001b[0m\u001b[0m\n\u001b[1;32m   1391\u001b[0m         \u001b[0;32mreturn\u001b[0m \u001b[0mwrapper\u001b[0m\u001b[0;34m\u001b[0m\u001b[0;34m\u001b[0m\u001b[0m\n",
            "\u001b[0;32m/usr/local/lib/python3.11/dist-packages/sklearn/model_selection/_search.py\u001b[0m in \u001b[0;36mfit\u001b[0;34m(self, X, y, **params)\u001b[0m\n\u001b[1;32m   1022\u001b[0m                 \u001b[0;32mreturn\u001b[0m \u001b[0mresults\u001b[0m\u001b[0;34m\u001b[0m\u001b[0;34m\u001b[0m\u001b[0m\n\u001b[1;32m   1023\u001b[0m \u001b[0;34m\u001b[0m\u001b[0m\n\u001b[0;32m-> 1024\u001b[0;31m             \u001b[0mself\u001b[0m\u001b[0;34m.\u001b[0m\u001b[0m_run_search\u001b[0m\u001b[0;34m(\u001b[0m\u001b[0mevaluate_candidates\u001b[0m\u001b[0;34m)\u001b[0m\u001b[0;34m\u001b[0m\u001b[0;34m\u001b[0m\u001b[0m\n\u001b[0m\u001b[1;32m   1025\u001b[0m \u001b[0;34m\u001b[0m\u001b[0m\n\u001b[1;32m   1026\u001b[0m             \u001b[0;31m# multimetric is determined here because in the case of a callable\u001b[0m\u001b[0;34m\u001b[0m\u001b[0;34m\u001b[0m\u001b[0m\n",
            "\u001b[0;32m/usr/local/lib/python3.11/dist-packages/sklearn/model_selection/_search.py\u001b[0m in \u001b[0;36m_run_search\u001b[0;34m(self, evaluate_candidates)\u001b[0m\n\u001b[1;32m   1949\u001b[0m     \u001b[0;32mdef\u001b[0m \u001b[0m_run_search\u001b[0m\u001b[0;34m(\u001b[0m\u001b[0mself\u001b[0m\u001b[0;34m,\u001b[0m \u001b[0mevaluate_candidates\u001b[0m\u001b[0;34m)\u001b[0m\u001b[0;34m:\u001b[0m\u001b[0;34m\u001b[0m\u001b[0;34m\u001b[0m\u001b[0m\n\u001b[1;32m   1950\u001b[0m         \u001b[0;34m\"\"\"Search n_iter candidates from param_distributions\"\"\"\u001b[0m\u001b[0;34m\u001b[0m\u001b[0;34m\u001b[0m\u001b[0m\n\u001b[0;32m-> 1951\u001b[0;31m         evaluate_candidates(\n\u001b[0m\u001b[1;32m   1952\u001b[0m             ParameterSampler(\n\u001b[1;32m   1953\u001b[0m                 \u001b[0mself\u001b[0m\u001b[0;34m.\u001b[0m\u001b[0mparam_distributions\u001b[0m\u001b[0;34m,\u001b[0m \u001b[0mself\u001b[0m\u001b[0;34m.\u001b[0m\u001b[0mn_iter\u001b[0m\u001b[0;34m,\u001b[0m \u001b[0mrandom_state\u001b[0m\u001b[0;34m=\u001b[0m\u001b[0mself\u001b[0m\u001b[0;34m.\u001b[0m\u001b[0mrandom_state\u001b[0m\u001b[0;34m\u001b[0m\u001b[0;34m\u001b[0m\u001b[0m\n",
            "\u001b[0;32m/usr/local/lib/python3.11/dist-packages/sklearn/model_selection/_search.py\u001b[0m in \u001b[0;36mevaluate_candidates\u001b[0;34m(candidate_params, cv, more_results)\u001b[0m\n\u001b[1;32m    968\u001b[0m                     )\n\u001b[1;32m    969\u001b[0m \u001b[0;34m\u001b[0m\u001b[0m\n\u001b[0;32m--> 970\u001b[0;31m                 out = parallel(\n\u001b[0m\u001b[1;32m    971\u001b[0m                     delayed(_fit_and_score)(\n\u001b[1;32m    972\u001b[0m                         \u001b[0mclone\u001b[0m\u001b[0;34m(\u001b[0m\u001b[0mbase_estimator\u001b[0m\u001b[0;34m)\u001b[0m\u001b[0;34m,\u001b[0m\u001b[0;34m\u001b[0m\u001b[0;34m\u001b[0m\u001b[0m\n",
            "\u001b[0;32m/usr/local/lib/python3.11/dist-packages/sklearn/utils/parallel.py\u001b[0m in \u001b[0;36m__call__\u001b[0;34m(self, iterable)\u001b[0m\n\u001b[1;32m     75\u001b[0m             \u001b[0;32mfor\u001b[0m \u001b[0mdelayed_func\u001b[0m\u001b[0;34m,\u001b[0m \u001b[0margs\u001b[0m\u001b[0;34m,\u001b[0m \u001b[0mkwargs\u001b[0m \u001b[0;32min\u001b[0m \u001b[0miterable\u001b[0m\u001b[0;34m\u001b[0m\u001b[0;34m\u001b[0m\u001b[0m\n\u001b[1;32m     76\u001b[0m         )\n\u001b[0;32m---> 77\u001b[0;31m         \u001b[0;32mreturn\u001b[0m \u001b[0msuper\u001b[0m\u001b[0;34m(\u001b[0m\u001b[0;34m)\u001b[0m\u001b[0;34m.\u001b[0m\u001b[0m__call__\u001b[0m\u001b[0;34m(\u001b[0m\u001b[0miterable_with_config\u001b[0m\u001b[0;34m)\u001b[0m\u001b[0;34m\u001b[0m\u001b[0;34m\u001b[0m\u001b[0m\n\u001b[0m\u001b[1;32m     78\u001b[0m \u001b[0;34m\u001b[0m\u001b[0m\n\u001b[1;32m     79\u001b[0m \u001b[0;34m\u001b[0m\u001b[0m\n",
            "\u001b[0;32m/usr/local/lib/python3.11/dist-packages/joblib/parallel.py\u001b[0m in \u001b[0;36m__call__\u001b[0;34m(self, iterable)\u001b[0m\n\u001b[1;32m   2005\u001b[0m         \u001b[0mnext\u001b[0m\u001b[0;34m(\u001b[0m\u001b[0moutput\u001b[0m\u001b[0;34m)\u001b[0m\u001b[0;34m\u001b[0m\u001b[0;34m\u001b[0m\u001b[0m\n\u001b[1;32m   2006\u001b[0m \u001b[0;34m\u001b[0m\u001b[0m\n\u001b[0;32m-> 2007\u001b[0;31m         \u001b[0;32mreturn\u001b[0m \u001b[0moutput\u001b[0m \u001b[0;32mif\u001b[0m \u001b[0mself\u001b[0m\u001b[0;34m.\u001b[0m\u001b[0mreturn_generator\u001b[0m \u001b[0;32melse\u001b[0m \u001b[0mlist\u001b[0m\u001b[0;34m(\u001b[0m\u001b[0moutput\u001b[0m\u001b[0;34m)\u001b[0m\u001b[0;34m\u001b[0m\u001b[0;34m\u001b[0m\u001b[0m\n\u001b[0m\u001b[1;32m   2008\u001b[0m \u001b[0;34m\u001b[0m\u001b[0m\n\u001b[1;32m   2009\u001b[0m     \u001b[0;32mdef\u001b[0m \u001b[0m__repr__\u001b[0m\u001b[0;34m(\u001b[0m\u001b[0mself\u001b[0m\u001b[0;34m)\u001b[0m\u001b[0;34m:\u001b[0m\u001b[0;34m\u001b[0m\u001b[0;34m\u001b[0m\u001b[0m\n",
            "\u001b[0;32m/usr/local/lib/python3.11/dist-packages/joblib/parallel.py\u001b[0m in \u001b[0;36m_get_outputs\u001b[0;34m(self, iterator, pre_dispatch)\u001b[0m\n\u001b[1;32m   1648\u001b[0m \u001b[0;34m\u001b[0m\u001b[0m\n\u001b[1;32m   1649\u001b[0m             \u001b[0;32mwith\u001b[0m \u001b[0mself\u001b[0m\u001b[0;34m.\u001b[0m\u001b[0m_backend\u001b[0m\u001b[0;34m.\u001b[0m\u001b[0mretrieval_context\u001b[0m\u001b[0;34m(\u001b[0m\u001b[0;34m)\u001b[0m\u001b[0;34m:\u001b[0m\u001b[0;34m\u001b[0m\u001b[0;34m\u001b[0m\u001b[0m\n\u001b[0;32m-> 1650\u001b[0;31m                 \u001b[0;32myield\u001b[0m \u001b[0;32mfrom\u001b[0m \u001b[0mself\u001b[0m\u001b[0;34m.\u001b[0m\u001b[0m_retrieve\u001b[0m\u001b[0;34m(\u001b[0m\u001b[0;34m)\u001b[0m\u001b[0;34m\u001b[0m\u001b[0;34m\u001b[0m\u001b[0m\n\u001b[0m\u001b[1;32m   1651\u001b[0m \u001b[0;34m\u001b[0m\u001b[0m\n\u001b[1;32m   1652\u001b[0m         \u001b[0;32mexcept\u001b[0m \u001b[0mGeneratorExit\u001b[0m\u001b[0;34m:\u001b[0m\u001b[0;34m\u001b[0m\u001b[0;34m\u001b[0m\u001b[0m\n",
            "\u001b[0;32m/usr/local/lib/python3.11/dist-packages/joblib/parallel.py\u001b[0m in \u001b[0;36m_retrieve\u001b[0;34m(self)\u001b[0m\n\u001b[1;32m   1760\u001b[0m                 (self._jobs[0].get_status(\n\u001b[1;32m   1761\u001b[0m                     timeout=self.timeout) == TASK_PENDING)):\n\u001b[0;32m-> 1762\u001b[0;31m                 \u001b[0mtime\u001b[0m\u001b[0;34m.\u001b[0m\u001b[0msleep\u001b[0m\u001b[0;34m(\u001b[0m\u001b[0;36m0.01\u001b[0m\u001b[0;34m)\u001b[0m\u001b[0;34m\u001b[0m\u001b[0;34m\u001b[0m\u001b[0m\n\u001b[0m\u001b[1;32m   1763\u001b[0m                 \u001b[0;32mcontinue\u001b[0m\u001b[0;34m\u001b[0m\u001b[0;34m\u001b[0m\u001b[0m\n\u001b[1;32m   1764\u001b[0m \u001b[0;34m\u001b[0m\u001b[0m\n",
            "\u001b[0;31mKeyboardInterrupt\u001b[0m: "
          ]
        }
      ]
    },
    {
      "cell_type": "markdown",
      "source": [
        "### Cross validation después del ajuste"
      ],
      "metadata": {
        "id": "UOVLgkFZCM7b"
      }
    },
    {
      "cell_type": "code",
      "source": [
        "from sklearn.model_selection import cross_val_predict\n",
        "from sklearn.metrics import r2_score, mean_squared_error\n",
        "\n",
        "best_model = grid_search.best_estimator_\n",
        "\n",
        "y_pred = cross_val_predict(best_model, X, y, cv=cv)\n",
        "\n",
        "final_r2 = r2_score(y, y_pred)\n",
        "final_mse = mean_squared_error(y, y_pred)\n",
        "\n",
        "print(\"\\n=== Evaluación Final del Modelo ===\")\n",
        "print(\"R²:\", final_r2)\n",
        "print(\"MSE:\", final_mse)"
      ],
      "metadata": {
        "id": "j_6RN8laCM7c"
      },
      "execution_count": null,
      "outputs": []
    },
    {
      "cell_type": "markdown",
      "source": [
        "### Test-train después del ajuste"
      ],
      "metadata": {
        "id": "IAj3sL-zCM7c"
      }
    },
    {
      "cell_type": "code",
      "source": [
        "X = df_ic.drop(columns=[\"ic_sbv_pob\"])\n",
        "y = df_ic[\"ic_sbv_pob\"]\n",
        "\n",
        "\n",
        "X_train, X_test, y_train, y_test = train_test_split(X, y, test_size=0.2, random_state=42)\n",
        "\n",
        "adaboost_model = AdaBoostRegressor(\n",
        "    n_estimators=grid_search.best_params_['n_estimators'],\n",
        "    learning_rate=grid_search.best_params_['learning_rate'],\n",
        "    loss=grid_search.best_params_['loss'],\n",
        "    random_state=42\n",
        ")\n",
        "\n",
        "\n",
        "adaboost_model.fit(X_train, y_train)\n",
        "\n",
        "y_train_pred = adaboost_model.predict(X_train)\n",
        "y_test_pred = adaboost_model.predict(X_test)\n",
        "\n",
        "r2_train = r2_score(y_train, y_train_pred)\n",
        "mse_train = mean_squared_error(y_train, y_train_pred)\n",
        "\n",
        "r2_test = r2_score(y_test, y_test_pred)\n",
        "mse_test = mean_squared_error(y_test, y_test_pred)\n",
        "\n",
        "print(\"Métricas en el conjunto de entrenamiento:\")\n",
        "print(\"R²:\", r2_train)\n",
        "print(\"MSE:\", mse_train)\n",
        "\n",
        "print(\"\\nMétricas en el conjunto de test:\")\n",
        "print(\"R²:\", r2_test)\n",
        "print(\"MSE:\", mse_test)"
      ],
      "metadata": {
        "id": "72EFfd7GCM7d"
      },
      "execution_count": null,
      "outputs": []
    },
    {
      "cell_type": "markdown",
      "source": [
        "## Bayesian Ridge"
      ],
      "metadata": {
        "id": "GqmdTrwsCM7d"
      }
    },
    {
      "cell_type": "markdown",
      "source": [
        "### Test Train values"
      ],
      "metadata": {
        "id": "H4dkldOeCM7d"
      }
    },
    {
      "cell_type": "code",
      "source": [
        "X = df_ic.drop(columns=[\"ic_sbv_pob\"])\n",
        "y = df_ic[\"ic_sbv_pob\"]\n",
        "\n",
        "X_train, X_test, y_train, y_test = train_test_split(X, y, test_size=0.2, random_state=42)\n",
        "\n",
        "bayes_model = BayesianRidge()\n",
        "bayes_model.fit(X_train, y_train)\n",
        "\n",
        "y_train_pred = bayes_model.predict(X_train)\n",
        "y_test_pred = bayes_model.predict(X_test)\n",
        "\n",
        "r2_train = r2_score(y_train, y_train_pred)\n",
        "mse_train = mean_squared_error(y_train, y_train_pred)\n",
        "r2_test = r2_score(y_test, y_test_pred)\n",
        "mse_test = mean_squared_error(y_test, y_test_pred)\n",
        "\n",
        "print(\"Métricas en el conjunto de entrenamiento:\")\n",
        "print(\"R²:\", r2_train)\n",
        "print(\"MSE:\", mse_train)\n",
        "print(\"\\nMétricas en el conjunto de test:\")\n",
        "print(\"R²:\", r2_test)\n",
        "print(\"MSE:\", mse_test)"
      ],
      "metadata": {
        "id": "4nzgPXm1CM7d"
      },
      "execution_count": null,
      "outputs": []
    },
    {
      "cell_type": "markdown",
      "source": [
        "### Cross-Validation"
      ],
      "metadata": {
        "id": "OQS0sT8vCM7d"
      }
    },
    {
      "cell_type": "code",
      "source": [
        "X = df_ic.drop(columns=[\"ic_sbv_pob\"])\n",
        "y = df_ic[\"ic_sbv_pob\"]\n",
        "\n",
        "bayes_model = BayesianRidge()\n",
        "\n",
        "scoring = {'r2': 'r2', 'mse': 'neg_mean_squared_error'}\n",
        "\n",
        "cv_results = cross_validate(bayes_model, X, y, cv=10, scoring=scoring)\n",
        "\n",
        "mean_r2 = np.mean(cv_results['test_r2'])\n",
        "mean_mse = -np.mean(cv_results['test_mse'])\n",
        "\n",
        "print(\"Resultados de Validación Cruzada (K = 10 folds)\")\n",
        "print(\"R² Promedio:\", mean_r2)\n",
        "print(\"MSE Promedio:\", mean_mse)"
      ],
      "metadata": {
        "id": "6JWciuj8CM7d"
      },
      "execution_count": null,
      "outputs": []
    },
    {
      "cell_type": "markdown",
      "source": [
        "### Ajuste de hiperparámetros"
      ],
      "metadata": {
        "id": "ayMI8lFJCM7d"
      }
    },
    {
      "cell_type": "code",
      "source": [
        "from sklearn.model_selection import RandomizedSearchCV, GridSearchCV, KFold\n",
        "from sklearn.linear_model import BayesianRidge\n",
        "import numpy as np\n",
        "\n",
        "X = df_ic.drop(columns=[\"ic_sbv_pob\"])\n",
        "y = df_ic[\"ic_sbv_pob\"]\n",
        "\n",
        "cv = KFold(n_splits=10, shuffle=True, random_state=42)\n",
        "\n",
        "param_distributions = {\n",
        "    'alpha_1': np.linspace(1e-7, 1e-5, 50),\n",
        "    'alpha_2': np.linspace(1e-7, 1e-5, 50),\n",
        "    'lambda_1': np.linspace(1e-7, 1e-5, 50),\n",
        "    'lambda_2': np.linspace(1e-7, 1e-5, 50)\n",
        "}\n",
        "\n",
        "random_search = RandomizedSearchCV(\n",
        "    estimator=BayesianRidge(),\n",
        "    param_distributions=param_distributions,\n",
        "    n_iter=20,\n",
        "    scoring='neg_mean_squared_error',\n",
        "    cv=cv,\n",
        "    random_state=42,\n",
        "    n_jobs=-1\n",
        ")\n",
        "\n",
        "random_search.fit(X, y)\n",
        "\n",
        "print(\"=== Randomized Search ===\")\n",
        "print(\"Mejores hiperparámetros encontrados:\", random_search.best_params_)\n",
        "print(\"Mejor Score (MSE negativo):\", random_search.best_score_)\n",
        "\n",
        "best_params = random_search.best_params_\n",
        "alpha_1_best = best_params['alpha_1']\n",
        "alpha_2_best = best_params['alpha_2']\n",
        "lambda_1_best = best_params['lambda_1']\n",
        "lambda_2_best = best_params['lambda_2']\n",
        "\n",
        "param_grid = {\n",
        "    'alpha_1': [alpha_1_best * 0.5, alpha_1_best, alpha_1_best * 1.5],\n",
        "    'alpha_2': [alpha_2_best * 0.5, alpha_2_best, alpha_2_best * 1.5],\n",
        "    'lambda_1': [lambda_1_best * 0.5, lambda_1_best, lambda_1_best * 1.5],\n",
        "    'lambda_2': [lambda_2_best * 0.5, lambda_2_best, lambda_2_best * 1.5]\n",
        "}\n",
        "\n",
        "grid_search = GridSearchCV(\n",
        "    estimator=BayesianRidge(),\n",
        "    param_grid=param_grid,\n",
        "    scoring='neg_mean_squared_error',\n",
        "    cv=cv,\n",
        "    n_jobs=-1\n",
        ")\n",
        "\n",
        "grid_search.fit(X, y)\n",
        "\n",
        "print(\"\\n=== Grid Search ===\")\n",
        "print(\"Mejores hiperparámetros encontrados:\", grid_search.best_params_)\n",
        "print(\"Mejor Score (MSE negativo):\", grid_search.best_score_)\n"
      ],
      "metadata": {
        "id": "jZ9So3ImCM7d"
      },
      "execution_count": null,
      "outputs": []
    },
    {
      "cell_type": "markdown",
      "source": [
        "### Cross validation después del ajuste"
      ],
      "metadata": {
        "id": "EZsGOs5gCM7d"
      }
    },
    {
      "cell_type": "code",
      "source": [
        "best_model = grid_search.best_estimator_\n",
        "\n",
        "y_pred = cross_val_predict(best_model, X, y, cv=cv)\n",
        "\n",
        "final_r2 = r2_score(y, y_pred)\n",
        "final_mse = mean_squared_error(y, y_pred)\n",
        "\n",
        "print(\"\\n=== Evaluación Final del Modelo ===\")\n",
        "print(\"R²:\", final_r2)\n",
        "print(\"MSE:\", final_mse)\n"
      ],
      "metadata": {
        "id": "vZc1EP5bCM7d"
      },
      "execution_count": null,
      "outputs": []
    },
    {
      "cell_type": "markdown",
      "source": [
        "### Test-train después del ajuste"
      ],
      "metadata": {
        "id": "VDFJRTuRCM7d"
      }
    },
    {
      "cell_type": "code",
      "source": [
        "X = df_ic.drop(columns=[\"ic_sbv_pob\"])\n",
        "y = df_ic[\"ic_sbv_pob\"]\n",
        "\n",
        "X_train, X_test, y_train, y_test = train_test_split(X, y, test_size=0.2, random_state=42)\n",
        "\n",
        "bayes_model = BayesianRidge(\n",
        "    alpha_1=grid_search.best_params_['alpha_1'],\n",
        "    alpha_2=grid_search.best_params_['alpha_2'],\n",
        "    lambda_1=grid_search.best_params_['lambda_1'],\n",
        "    lambda_2=grid_search.best_params_['lambda_2']\n",
        ")\n",
        "\n",
        "bayes_model.fit(X_train, y_train)\n",
        "\n",
        "y_train_pred = bayes_model.predict(X_train)\n",
        "y_test_pred = bayes_model.predict(X_test)\n",
        "\n",
        "r2_train = r2_score(y_train, y_train_pred)\n",
        "mse_train = mean_squared_error(y_train, y_train_pred)\n",
        "r2_test = r2_score(y_test, y_test_pred)\n",
        "mse_test = mean_squared_error(y_test, y_test_pred)\n",
        "\n",
        "print(\"Métricas en el conjunto de entrenamiento:\")\n",
        "print(\"R²:\", r2_train)\n",
        "print(\"MSE:\", mse_train)\n",
        "print(\"\\nMétricas en el conjunto de test:\")\n",
        "print(\"R²:\", r2_test)\n",
        "print(\"MSE:\", mse_test)\n"
      ],
      "metadata": {
        "id": "hAgdD54tCM7d"
      },
      "execution_count": null,
      "outputs": []
    },
    {
      "cell_type": "markdown",
      "source": [
        "## XG Boost"
      ],
      "metadata": {
        "id": "_t6YYJpJCM7d"
      }
    },
    {
      "cell_type": "markdown",
      "source": [
        "### Test Train values"
      ],
      "metadata": {
        "id": "63WjjBZyCM7d"
      }
    },
    {
      "cell_type": "code",
      "source": [
        "X = df_ic.drop(columns=[\"ic_sbv_pob\"])\n",
        "y = df_ic[\"ic_sbv_pob\"]\n",
        "\n",
        "X_train, X_test, y_train, y_test = train_test_split(X, y, test_size=0.2, random_state=42)\n",
        "xgb_model = XGBRegressor(random_state=42)\n",
        "xgb_model.fit(X_train, y_train)\n",
        "\n",
        "y_train_pred = xgb_model.predict(X_train)\n",
        "y_test_pred = xgb_model.predict(X_test)\n",
        "\n",
        "r2_train = r2_score(y_train, y_train_pred)\n",
        "mse_train = mean_squared_error(y_train, y_train_pred)\n",
        "r2_test = r2_score(y_test, y_test_pred)\n",
        "mse_test = mean_squared_error(y_test, y_test_pred)\n",
        "\n",
        "print(\"Métricas en el conjunto de entrenamiento:\")\n",
        "print(\"R²:\", r2_train)\n",
        "print(\"MSE:\", mse_train)\n",
        "print(\"\\nMétricas en el conjunto de test:\")\n",
        "print(\"R²:\", r2_test)\n",
        "print(\"MSE:\", mse_test)\n"
      ],
      "metadata": {
        "id": "_fN4iRHmCM7d"
      },
      "execution_count": null,
      "outputs": []
    },
    {
      "cell_type": "markdown",
      "source": [
        "### Cross-Validation"
      ],
      "metadata": {
        "id": "RleYn44ECM7d"
      }
    },
    {
      "cell_type": "code",
      "source": [
        "X = df_ic.drop(columns=[\"ic_sbv_pob\"])\n",
        "y = df_ic[\"ic_sbv_pob\"]\n",
        "\n",
        "xgb_model = XGBRegressor(random_state=42)\n",
        "scoring = {'r2': 'r2', 'mse': 'neg_mean_squared_error'}\n",
        "cv_results = cross_validate(xgb_model, X, y, cv=10, scoring=scoring)\n",
        "\n",
        "mean_r2 = np.mean(cv_results['test_r2'])\n",
        "mean_mse = -np.mean(cv_results['test_mse'])\n",
        "\n",
        "print(\"Resultados de Validación Cruzada (K = 10 folds)\")\n",
        "print(\"R² Promedio:\", mean_r2)\n",
        "print(\"MSE Promedio:\", mean_mse)\n"
      ],
      "metadata": {
        "id": "0sZzkozpCM7d"
      },
      "execution_count": null,
      "outputs": []
    },
    {
      "cell_type": "markdown",
      "source": [
        "### Ajuste de hiperparámetros"
      ],
      "metadata": {
        "id": "0B4i0HwICM7e"
      }
    },
    {
      "cell_type": "code",
      "source": [
        "X = df_ic.drop(columns=[\"ic_sbv_pob\"])\n",
        "y = df_ic[\"ic_sbv_pob\"]\n",
        "\n",
        "cv = KFold(n_splits=10, shuffle=True, random_state=42)\n",
        "\n",
        "param_distributions = {\n",
        "    'n_estimators': np.arange(50, 501, 50),\n",
        "    'learning_rate': np.linspace(0.01, 0.3, 50),\n",
        "    'max_depth': np.arange(3, 11)\n",
        "}\n",
        "\n",
        "random_search = RandomizedSearchCV(\n",
        "    estimator=XGBRegressor(random_state=42),\n",
        "    param_distributions=param_distributions,\n",
        "    n_iter=20,\n",
        "    scoring='neg_mean_squared_error',\n",
        "    cv=cv,\n",
        "    random_state=42,\n",
        "    n_jobs=-1\n",
        ")\n",
        "random_search.fit(X, y)\n",
        "\n",
        "print(\"=== Randomized Search ===\")\n",
        "print(\"Mejores hiperparámetros encontrados:\", random_search.best_params_)\n",
        "print(\"Mejor Score (MSE negativo):\", random_search.best_score_)\n",
        "\n",
        "best_params = random_search.best_params_\n",
        "n_estimators_best = best_params['n_estimators']\n",
        "learning_rate_best = best_params['learning_rate']\n",
        "max_depth_best = best_params['max_depth']\n",
        "\n",
        "param_grid = {\n",
        "    'n_estimators': [int(n_estimators_best * 0.5), n_estimators_best, int(n_estimators_best * 1.5)],\n",
        "    'learning_rate': [learning_rate_best * 0.5, learning_rate_best, learning_rate_best * 1.5],\n",
        "    'max_depth': [max(1, max_depth_best - 1), max_depth_best, max_depth_best + 1]\n",
        "}\n",
        "\n",
        "grid_search = GridSearchCV(\n",
        "    estimator=XGBRegressor(random_state=42),\n",
        "    param_grid=param_grid,\n",
        "    scoring='neg_mean_squared_error',\n",
        "    cv=cv,\n",
        "    n_jobs=-1\n",
        ")\n",
        "grid_search.fit(X, y)\n",
        "\n",
        "print(\"\\n=== Grid Search ===\")\n",
        "print(\"Mejores hiperparámetros encontrados:\", grid_search.best_params_)\n",
        "print(\"Mejor Score (MSE negativo):\", grid_search.best_score_)\n"
      ],
      "metadata": {
        "id": "eCT-EEq0CM7e"
      },
      "execution_count": null,
      "outputs": []
    },
    {
      "cell_type": "markdown",
      "source": [
        "### Cross validation después del ajuste"
      ],
      "metadata": {
        "id": "bZmOTgsKCM7e"
      }
    },
    {
      "cell_type": "code",
      "source": [
        "best_model = grid_search.best_estimator_\n",
        "y_pred = cross_val_predict(best_model, X, y, cv=cv)\n",
        "final_r2 = r2_score(y, y_pred)\n",
        "final_mse = mean_squared_error(y, y_pred)\n",
        "\n",
        "print(\"\\n=== Evaluación Final del Modelo ===\")\n",
        "print(\"R²:\", final_r2)\n",
        "print(\"MSE:\", final_mse)\n"
      ],
      "metadata": {
        "id": "VOaYGJP1CM7e"
      },
      "execution_count": null,
      "outputs": []
    },
    {
      "cell_type": "markdown",
      "source": [
        "### Test-train después del ajuste"
      ],
      "metadata": {
        "id": "kyDPPRoSCM7e"
      }
    },
    {
      "cell_type": "code",
      "source": [
        "X = df_ic.drop(columns=[\"ic_sbv_pob\"])\n",
        "y = df_ic[\"ic_sbv_pob\"]\n",
        "\n",
        "X_train, X_test, y_train, y_test = train_test_split(X, y, test_size=0.2, random_state=42)\n",
        "xgb_model = XGBRegressor(\n",
        "    n_estimators=grid_search.best_params_['n_estimators'],\n",
        "    learning_rate=grid_search.best_params_['learning_rate'],\n",
        "    max_depth=grid_search.best_params_['max_depth'],\n",
        "    random_state=42\n",
        ")\n",
        "xgb_model.fit(X_train, y_train)\n",
        "\n",
        "y_train_pred = xgb_model.predict(X_train)\n",
        "y_test_pred = xgb_model.predict(X_test)\n",
        "\n",
        "r2_train = r2_score(y_train, y_train_pred)\n",
        "mse_train = mean_squared_error(y_train, y_train_pred)\n",
        "r2_test = r2_score(y_test, y_test_pred)\n",
        "mse_test = mean_squared_error(y_test, y_test_pred)\n",
        "\n",
        "print(\"Métricas en el conjunto de entrenamiento:\")\n",
        "print(\"R²:\", r2_train)\n",
        "print(\"MSE:\", mse_train)\n",
        "print(\"\\nMétricas en el conjunto de test:\")\n",
        "print(\"R²:\", r2_test)\n",
        "print(\"MSE:\", mse_test)\n"
      ],
      "metadata": {
        "id": "TDZlqYRECM7e"
      },
      "execution_count": null,
      "outputs": []
    },
    {
      "cell_type": "markdown",
      "source": [
        "## Neural Network"
      ],
      "metadata": {
        "id": "PkNdlLfkCM7e"
      }
    },
    {
      "cell_type": "markdown",
      "source": [
        "### Test Train values"
      ],
      "metadata": {
        "id": "9wxx6lQnCM7e"
      }
    },
    {
      "cell_type": "code",
      "source": [
        "X = df_ic.drop(columns=[\"ic_sbv_pob\"])\n",
        "y = df_ic[\"ic_sbv_pob\"]\n",
        "\n",
        "X_train, X_test, y_train, y_test = train_test_split(X, y, test_size=0.2, random_state=42)\n",
        "mlp_model = MLPRegressor(hidden_layer_sizes=(100,), activation='relu', solver='adam', max_iter=500, random_state=42)\n",
        "mlp_model.fit(X_train, y_train)\n",
        "\n",
        "y_train_pred = mlp_model.predict(X_train)\n",
        "y_test_pred = mlp_model.predict(X_test)\n",
        "\n",
        "r2_train = r2_score(y_train, y_train_pred)\n",
        "mse_train = mean_squared_error(y_train, y_train_pred)\n",
        "r2_test = r2_score(y_test, y_test_pred)\n",
        "mse_test = mean_squared_error(y_test, y_test_pred)\n",
        "\n",
        "print(\"Métricas en el conjunto de entrenamiento:\")\n",
        "print(\"R²:\", r2_train)\n",
        "print(\"MSE:\", mse_train)\n",
        "print(\"\\nMétricas en el conjunto de test:\")\n",
        "print(\"R²:\", r2_test)\n",
        "print(\"MSE:\", mse_test)\n"
      ],
      "metadata": {
        "id": "fgYOjNGiCM7e"
      },
      "execution_count": null,
      "outputs": []
    },
    {
      "cell_type": "markdown",
      "source": [
        "### Cross-Validation"
      ],
      "metadata": {
        "id": "bHW9jp3aCM7e"
      }
    },
    {
      "cell_type": "code",
      "source": [
        "X = df_ic.drop(columns=[\"ic_sbv_pob\"])\n",
        "y = df_ic[\"ic_sbv_pob\"]\n",
        "\n",
        "mlp_model = MLPRegressor(hidden_layer_sizes=(100,), activation='relu', solver='adam', max_iter=500, random_state=42)\n",
        "scoring = {'r2': 'r2', 'mse': 'neg_mean_squared_error'}\n",
        "cv_results = cross_validate(mlp_model, X, y, cv=10, scoring=scoring)\n",
        "\n",
        "mean_r2 = np.mean(cv_results['test_r2'])\n",
        "mean_mse = -np.mean(cv_results['test_mse'])\n",
        "\n",
        "print(\"Resultados de Validación Cruzada (K = 10 folds)\")\n",
        "print(\"R² Promedio:\", mean_r2)\n",
        "print(\"MSE Promedio:\", mean_mse)\n"
      ],
      "metadata": {
        "id": "pXqhBXrhCM7e"
      },
      "execution_count": null,
      "outputs": []
    },
    {
      "cell_type": "markdown",
      "source": [
        "### Ajuste de hiperparámetros"
      ],
      "metadata": {
        "id": "6DIO5cA_CM7e"
      }
    },
    {
      "cell_type": "code",
      "source": [
        "X = df_ic.drop(columns=[\"ic_sbv_pob\"])\n",
        "y = df_ic[\"ic_sbv_pob\"]\n",
        "\n",
        "cv = KFold(n_splits=10, shuffle=True, random_state=42)\n",
        "\n",
        "param_distributions = {\n",
        "    'hidden_layer_sizes': [(50,), (100,), (50,50), (100,50)],\n",
        "    'alpha': np.linspace(1e-5, 1e-1, 50),\n",
        "    'learning_rate_init': np.linspace(0.0001, 0.01, 50),\n",
        "    'activation': ['relu', 'tanh']\n",
        "}\n",
        "\n",
        "random_search = RandomizedSearchCV(\n",
        "    estimator=MLPRegressor(max_iter=500, solver='adam', random_state=42),\n",
        "    param_distributions=param_distributions,\n",
        "    n_iter=20,\n",
        "    scoring='neg_mean_squared_error',\n",
        "    cv=cv,\n",
        "    random_state=42,\n",
        "    n_jobs=-1\n",
        ")\n",
        "random_search.fit(X, y)\n",
        "\n",
        "print(\"=== Randomized Search ===\")\n",
        "print(\"Mejores hiperparámetros encontrados:\", random_search.best_params_)\n",
        "print(\"Mejor Score (MSE negativo):\", random_search.best_score_)\n",
        "\n",
        "best_params = random_search.best_params_\n",
        "hidden_layer = best_params['hidden_layer_sizes']\n",
        "alpha_best = best_params['alpha']\n",
        "lr_best = best_params['learning_rate_init']\n",
        "activation_best = best_params['activation']\n",
        "\n",
        "hl_scaled_down = tuple(max(1, int(x * 0.5)) for x in hidden_layer)\n",
        "hl_scaled_up = tuple(max(1, int(x * 1.5)) for x in hidden_layer)\n",
        "\n",
        "param_grid = {\n",
        "    'hidden_layer_sizes': [hl_scaled_down, hidden_layer, hl_scaled_up],\n",
        "    'alpha': [alpha_best * 0.5, alpha_best, alpha_best * 1.5],\n",
        "    'learning_rate_init': [lr_best * 0.5, lr_best, lr_best * 1.5],\n",
        "    'activation': [activation_best]\n",
        "}\n",
        "\n",
        "grid_search = GridSearchCV(\n",
        "    estimator=MLPRegressor(max_iter=500, solver='adam', random_state=42),\n",
        "    param_grid=param_grid,\n",
        "    scoring='neg_mean_squared_error',\n",
        "    cv=cv,\n",
        "    n_jobs=-1\n",
        ")\n",
        "grid_search.fit(X, y)\n",
        "\n",
        "print(\"\\n=== Grid Search ===\")\n",
        "print(\"Mejores hiperparámetros encontrados:\", grid_search.best_params_)\n",
        "print(\"Mejor Score (MSE negativo):\", grid_search.best_score_)\n"
      ],
      "metadata": {
        "id": "mA8B2-V8CM7e"
      },
      "execution_count": null,
      "outputs": []
    },
    {
      "cell_type": "markdown",
      "source": [
        "### Cross validation después del ajuste"
      ],
      "metadata": {
        "id": "JM6xLQ6xCM7e"
      }
    },
    {
      "cell_type": "code",
      "source": [
        "best_model = grid_search.best_estimator_\n",
        "y_pred = cross_val_predict(best_model, X, y, cv=cv)\n",
        "final_r2 = r2_score(y, y_pred)\n",
        "final_mse = mean_squared_error(y, y_pred)\n",
        "\n",
        "print(\"\\n=== Evaluación Final del Modelo ===\")\n",
        "print(\"R²:\", final_r2)\n",
        "print(\"MSE:\", final_mse)\n"
      ],
      "metadata": {
        "id": "gZ4K1VOJCM7e"
      },
      "execution_count": null,
      "outputs": []
    },
    {
      "cell_type": "markdown",
      "source": [
        "### Test-train después del ajuste"
      ],
      "metadata": {
        "id": "BnM4rdvdCM7e"
      }
    },
    {
      "cell_type": "code",
      "source": [
        "X = df_ic.drop(columns=[\"ic_sbv_pob\"])\n",
        "y = df_ic[\"ic_sbv_pob\"]\n",
        "\n",
        "X_train, X_test, y_train, y_test = train_test_split(X, y, test_size=0.2, random_state=42)\n",
        "mlp_model = MLPRegressor(\n",
        "    hidden_layer_sizes=grid_search.best_params_['hidden_layer_sizes'],\n",
        "    alpha=grid_search.best_params_['alpha'],\n",
        "    learning_rate_init=grid_search.best_params_['learning_rate_init'],\n",
        "    activation=grid_search.best_params_['activation'],\n",
        "    max_iter=500,\n",
        "    solver='adam',\n",
        "    random_state=42\n",
        ")\n",
        "mlp_model.fit(X_train, y_train)\n",
        "\n",
        "y_train_pred = mlp_model.predict(X_train)\n",
        "y_test_pred = mlp_model.predict(X_test)\n",
        "\n",
        "r2_train = r2_score(y_train, y_train_pred)\n",
        "mse_train = mean_squared_error(y_train, y_train_pred)\n",
        "r2_test = r2_score(y_test, y_test_pred)\n",
        "mse_test = mean_squared_error(y_test, y_test_pred)\n",
        "\n",
        "print(\"Métricas en el conjunto de entrenamiento:\")\n",
        "print(\"R²:\", r2_train)\n",
        "print(\"MSE:\", mse_train)\n",
        "print(\"\\nMétricas en el conjunto de test:\")\n",
        "print(\"R²:\", r2_test)\n",
        "print(\"MSE:\", mse_test)\n"
      ],
      "metadata": {
        "id": "FsN_5ZudCM7e"
      },
      "execution_count": null,
      "outputs": []
    },
    {
      "cell_type": "markdown",
      "source": [
        "## Ridge Regression"
      ],
      "metadata": {
        "id": "_xRsGzgsCM7e"
      }
    },
    {
      "cell_type": "markdown",
      "source": [
        "### Test Train values"
      ],
      "metadata": {
        "id": "Posl_9dFCM7f"
      }
    },
    {
      "cell_type": "code",
      "source": [
        "X = df_ic.drop(columns=[\"ic_sbv_pob\"])\n",
        "y = df_ic[\"ic_sbv_pob\"]\n",
        "\n",
        "X_train, X_test, y_train, y_test = train_test_split(X, y, test_size=0.2, random_state=42)\n",
        "ridge_model = Ridge(alpha=1.0, random_state=42)\n",
        "ridge_model.fit(X_train, y_train)\n",
        "\n",
        "y_train_pred = ridge_model.predict(X_train)\n",
        "y_test_pred = ridge_model.predict(X_test)\n",
        "\n",
        "r2_train = r2_score(y_train, y_train_pred)\n",
        "mse_train = mean_squared_error(y_train, y_train_pred)\n",
        "r2_test = r2_score(y_test, y_test_pred)\n",
        "mse_test = mean_squared_error(y_test, y_test_pred)\n",
        "\n",
        "print(\"Métricas en el conjunto de entrenamiento:\")\n",
        "print(\"R²:\", r2_train)\n",
        "print(\"MSE:\", mse_train)\n",
        "print(\"\\nMétricas en el conjunto de test:\")\n",
        "print(\"R²:\", r2_test)\n",
        "print(\"MSE:\", mse_test)\n"
      ],
      "metadata": {
        "id": "KGCMzpqbCM7f"
      },
      "execution_count": null,
      "outputs": []
    },
    {
      "cell_type": "markdown",
      "source": [
        "### Cross-Validation"
      ],
      "metadata": {
        "id": "Tt3JnNoHCM7f"
      }
    },
    {
      "cell_type": "code",
      "source": [
        "X = df_ic.drop(columns=[\"ic_sbv_pob\"])\n",
        "y = df_ic[\"ic_sbv_pob\"]\n",
        "\n",
        "ridge_model = Ridge(random_state=42)\n",
        "scoring = {'r2': 'r2', 'mse': 'neg_mean_squared_error'}\n",
        "cv_results = cross_validate(ridge_model, X, y, cv=10, scoring=scoring)\n",
        "\n",
        "mean_r2 = np.mean(cv_results['test_r2'])\n",
        "mean_mse = -np.mean(cv_results['test_mse'])\n",
        "\n",
        "print(\"Resultados de Validación Cruzada (K = 10 folds)\")\n",
        "print(\"R² Promedio:\", mean_r2)\n",
        "print(\"MSE Promedio:\", mean_mse)\n"
      ],
      "metadata": {
        "id": "H44dCvYWCM7f"
      },
      "execution_count": null,
      "outputs": []
    },
    {
      "cell_type": "markdown",
      "source": [
        "### Ajuste de hiperparámetros"
      ],
      "metadata": {
        "id": "vpd54vS0CM7f"
      }
    },
    {
      "cell_type": "code",
      "source": [
        "X = df_ic.drop(columns=[\"ic_sbv_pob\"])\n",
        "y = df_ic[\"ic_sbv_pob\"]\n",
        "\n",
        "cv = KFold(n_splits=10, shuffle=True, random_state=42)\n",
        "param_distributions = {\n",
        "    'alpha': np.logspace(-3, 3, 50),\n",
        "    'solver': ['auto', 'svd', 'cholesky', 'lsqr', 'sparse_cg', 'sag', 'saga']\n",
        "}\n",
        "\n",
        "random_search = RandomizedSearchCV(\n",
        "    estimator=Ridge(random_state=42),\n",
        "    param_distributions=param_distributions,\n",
        "    n_iter=20,\n",
        "    scoring='neg_mean_squared_error',\n",
        "    cv=cv,\n",
        "    random_state=42,\n",
        "    n_jobs=-1\n",
        ")\n",
        "random_search.fit(X, y)\n",
        "\n",
        "print(\"=== Randomized Search ===\")\n",
        "print(\"Mejores hiperparámetros encontrados:\", random_search.best_params_)\n",
        "print(\"Mejor Score (MSE negativo):\", random_search.best_score_)\n",
        "\n",
        "best_params = random_search.best_params_\n",
        "alpha_best = best_params['alpha']\n",
        "solver_best = best_params['solver']\n",
        "\n",
        "param_grid = {\n",
        "    'alpha': [alpha_best * 0.5, alpha_best, alpha_best * 1.5],\n",
        "    'solver': [solver_best]\n",
        "}\n",
        "\n",
        "grid_search = GridSearchCV(\n",
        "    estimator=Ridge(random_state=42),\n",
        "    param_grid=param_grid,\n",
        "    scoring='neg_mean_squared_error',\n",
        "    cv=cv,\n",
        "    n_jobs=-1\n",
        ")\n",
        "grid_search.fit(X, y)\n",
        "\n",
        "print(\"\\n=== Grid Search ===\")\n",
        "print(\"Mejores hiperparámetros encontrados:\", grid_search.best_params_)\n",
        "print(\"Mejor Score (MSE negativo):\", grid_search.best_score_)\n"
      ],
      "metadata": {
        "id": "q5dGI_FBCM7f"
      },
      "execution_count": null,
      "outputs": []
    },
    {
      "cell_type": "markdown",
      "source": [
        "### Cross validation después del ajuste"
      ],
      "metadata": {
        "id": "daPak62hCM7f"
      }
    },
    {
      "cell_type": "code",
      "source": [
        "from sklearn.model_selection import cross_val_predict\n",
        "from sklearn.metrics import r2_score, mean_squared_error\n",
        "\n",
        "best_model = grid_search.best_estimator_\n",
        "y_pred = cross_val_predict(best_model, X, y, cv=cv)\n",
        "final_r2 = r2_score(y, y_pred)\n",
        "final_mse = mean_squared_error(y, y_pred)\n",
        "\n",
        "print(\"\\n=== Evaluación Final del Modelo ===\")\n",
        "print(\"R²:\", final_r2)\n",
        "print(\"MSE:\", final_mse)\n"
      ],
      "metadata": {
        "id": "A02Ge_mgCM7f"
      },
      "execution_count": null,
      "outputs": []
    },
    {
      "cell_type": "markdown",
      "source": [
        "### Test-train después del ajuste"
      ],
      "metadata": {
        "id": "iKVjQGwFCM7f"
      }
    },
    {
      "cell_type": "code",
      "source": [
        "X = df_ic.drop(columns=[\"ic_sbv_pob\"])\n",
        "y = df_ic[\"ic_sbv_pob\"]\n",
        "\n",
        "X_train, X_test, y_train, y_test = train_test_split(X, y, test_size=0.2, random_state=42)\n",
        "ridge_model = Ridge(\n",
        "    alpha=grid_search.best_params_['alpha'],\n",
        "    solver=grid_search.best_params_['solver'],\n",
        "    random_state=42\n",
        ")\n",
        "ridge_model.fit(X_train, y_train)\n",
        "\n",
        "y_train_pred = ridge_model.predict(X_train)\n",
        "y_test_pred = ridge_model.predict(X_test)\n",
        "\n",
        "r2_train = r2_score(y_train, y_train_pred)\n",
        "mse_train = mean_squared_error(y_train, y_train_pred)\n",
        "r2_test = r2_score(y_test, y_test_pred)\n",
        "mse_test = mean_squared_error(y_test, y_test_pred)\n",
        "\n",
        "print(\"Métricas en el conjunto de entrenamiento:\")\n",
        "print(\"R²:\", r2_train)\n",
        "print(\"MSE:\", mse_train)\n",
        "print(\"\\nMétricas en el conjunto de test:\")\n",
        "print(\"R²:\", r2_test)\n",
        "print(\"MSE:\", mse_test)\n"
      ],
      "metadata": {
        "id": "jyRImGe9CM7f"
      },
      "execution_count": null,
      "outputs": []
    },
    {
      "cell_type": "markdown",
      "source": [
        "## Random Forest"
      ],
      "metadata": {
        "id": "wU19dozICM7f"
      }
    },
    {
      "cell_type": "markdown",
      "source": [
        "### Test Train values"
      ],
      "metadata": {
        "id": "aVecI6R8CM7f"
      }
    },
    {
      "cell_type": "code",
      "source": [
        "X = df_ic.drop(columns=[\"ic_sbv_pob\"])\n",
        "y = df_ic[\"ic_sbv_pob\"]\n",
        "\n",
        "X_train, X_test, y_train, y_test = train_test_split(X, y, test_size=0.2, random_state=42)\n",
        "rf_model = RandomForestRegressor(random_state=42)\n",
        "rf_model.fit(X_train, y_train)\n",
        "\n",
        "y_train_pred = rf_model.predict(X_train)\n",
        "y_test_pred = rf_model.predict(X_test)\n",
        "\n",
        "r2_train = r2_score(y_train, y_train_pred)\n",
        "mse_train = mean_squared_error(y_train, y_train_pred)\n",
        "r2_test = r2_score(y_test, y_test_pred)\n",
        "mse_test = mean_squared_error(y_test, y_test_pred)\n",
        "\n",
        "print(\"Métricas en el conjunto de entrenamiento:\")\n",
        "print(\"R²:\", r2_train)\n",
        "print(\"MSE:\", mse_train)\n",
        "print(\"\\nMétricas en el conjunto de test:\")\n",
        "print(\"R²:\", r2_test)\n",
        "print(\"MSE:\", mse_test)\n"
      ],
      "metadata": {
        "id": "uJUfCX5zCM7f"
      },
      "execution_count": null,
      "outputs": []
    },
    {
      "cell_type": "markdown",
      "source": [
        "### Cross-Validation"
      ],
      "metadata": {
        "id": "VNeRLGgjCM7f"
      }
    },
    {
      "cell_type": "code",
      "source": [
        "X = df_ic.drop(columns=[\"ic_sbv_pob\"])\n",
        "y = df_ic[\"ic_sbv_pob\"]\n",
        "\n",
        "rf_model = RandomForestRegressor(random_state=42)\n",
        "scoring = {'r2': 'r2', 'mse': 'neg_mean_squared_error'}\n",
        "cv_results = cross_validate(rf_model, X, y, cv=10, scoring=scoring)\n",
        "\n",
        "mean_r2 = np.mean(cv_results['test_r2'])\n",
        "mean_mse = -np.mean(cv_results['test_mse'])\n",
        "\n",
        "print(\"Resultados de Validación Cruzada (K = 10 folds)\")\n",
        "print(\"R² Promedio:\", mean_r2)\n",
        "print(\"MSE Promedio:\", mean_mse)\n"
      ],
      "metadata": {
        "id": "135gfJ3cCM7f"
      },
      "execution_count": null,
      "outputs": []
    },
    {
      "cell_type": "markdown",
      "source": [
        "### Ajuste de hiperparámetros"
      ],
      "metadata": {
        "id": "aiEe9JZQCM7f"
      }
    },
    {
      "cell_type": "code",
      "source": [
        "from sklearn.model_selection import RandomizedSearchCV, GridSearchCV, KFold\n",
        "from sklearn.ensemble import RandomForestRegressor\n",
        "import numpy as np\n",
        "\n",
        "X = df_ic.drop(columns=[\"ic_sbv_pob\"])\n",
        "y = df_ic[\"ic_sbv_pob\"]\n",
        "\n",
        "cv = KFold(n_splits=10, shuffle=True, random_state=42)\n",
        "param_distributions = {\n",
        "    'n_estimators': np.arange(50, 501, 50),\n",
        "    'max_depth': [None] + list(np.arange(5, 21, 5)),\n",
        "    'min_samples_split': np.arange(2, 11, 1),\n",
        "    'min_samples_leaf': np.arange(1, 11, 1)\n",
        "}\n",
        "\n",
        "random_search = RandomizedSearchCV(\n",
        "    estimator=RandomForestRegressor(random_state=42),\n",
        "    param_distributions=param_distributions,\n",
        "    n_iter=20,\n",
        "    scoring='neg_mean_squared_error',\n",
        "    cv=cv,\n",
        "    random_state=42,\n",
        "    n_jobs=-1\n",
        ")\n",
        "random_search.fit(X, y)\n",
        "\n",
        "print(\"=== Randomized Search ===\")\n",
        "print(\"Mejores hiperparámetros encontrados:\", random_search.best_params_)\n",
        "print(\"Mejor Score (MSE negativo):\", random_search.best_score_)\n",
        "\n",
        "best_params = random_search.best_params_\n",
        "n_estimators_best = best_params['n_estimators']\n",
        "max_depth_best = best_params['max_depth']\n",
        "min_samples_split_best = best_params['min_samples_split']\n",
        "min_samples_leaf_best = best_params['min_samples_leaf']\n",
        "\n",
        "param_grid = {\n",
        "    'n_estimators': [int(n_estimators_best * 0.5), n_estimators_best, int(n_estimators_best * 1.5)],\n",
        "    'max_depth': [max_depth_best, max_depth_best + 5] if max_depth_best is not None else [None],\n",
        "    'min_samples_split': [max(2, int(min_samples_split_best * 0.8)), min_samples_split_best, int(min_samples_split_best * 1.2)],\n",
        "    'min_samples_leaf': [max(1, int(min_samples_leaf_best * 0.8)), min_samples_leaf_best, int(min_samples_leaf_best * 1.2)]\n",
        "}\n",
        "\n",
        "grid_search = GridSearchCV(\n",
        "    estimator=RandomForestRegressor(random_state=42),\n",
        "    param_grid=param_grid,\n",
        "    scoring='neg_mean_squared_error',\n",
        "    cv=cv,\n",
        "    n_jobs=-1\n",
        ")\n",
        "grid_search.fit(X, y)\n",
        "\n",
        "print(\"\\n=== Grid Search ===\")\n",
        "print(\"Mejores hiperparámetros encontrados:\", grid_search.best_params_)\n",
        "print(\"Mejor Score (MSE negativo):\", grid_search.best_score_)\n"
      ],
      "metadata": {
        "id": "lbZ-PwX0CM7g"
      },
      "execution_count": null,
      "outputs": []
    },
    {
      "cell_type": "markdown",
      "source": [
        "### Cross validation después del ajuste"
      ],
      "metadata": {
        "id": "MllFtmfOCM7g"
      }
    },
    {
      "cell_type": "code",
      "source": [
        "from sklearn.model_selection import cross_val_predict\n",
        "from sklearn.metrics import r2_score, mean_squared_error\n",
        "\n",
        "best_model = grid_search.best_estimator_\n",
        "y_pred = cross_val_predict(best_model, X, y, cv=cv)\n",
        "final_r2 = r2_score(y, y_pred)\n",
        "final_mse = mean_squared_error(y, y_pred)\n",
        "\n",
        "print(\"\\n=== Evaluación Final del Modelo ===\")\n",
        "print(\"R²:\", final_r2)\n",
        "print(\"MSE:\", final_mse)\n"
      ],
      "metadata": {
        "id": "WdQLFwEyCM7g"
      },
      "execution_count": null,
      "outputs": []
    },
    {
      "cell_type": "markdown",
      "source": [
        "### Test-train después del ajuste"
      ],
      "metadata": {
        "id": "klWdF2azCM7g"
      }
    },
    {
      "cell_type": "code",
      "source": [
        "from sklearn.model_selection import train_test_split\n",
        "from sklearn.metrics import r2_score, mean_squared_error\n",
        "\n",
        "X = df_ic.drop(columns=[\"ic_sbv_pob\"])\n",
        "y = df_ic[\"ic_sbv_pob\"]\n",
        "\n",
        "X_train, X_test, y_train, y_test = train_test_split(X, y, test_size=0.2, random_state=42)\n",
        "rf_model = RandomForestRegressor(\n",
        "    n_estimators=grid_search.best_params_['n_estimators'],\n",
        "    max_depth=grid_search.best_params_['max_depth'],\n",
        "    min_samples_split=grid_search.best_params_['min_samples_split'],\n",
        "    min_samples_leaf=grid_search.best_params_['min_samples_leaf'],\n",
        "    random_state=42\n",
        ")\n",
        "rf_model.fit(X_train, y_train)\n",
        "\n",
        "y_train_pred = rf_model.predict(X_train)\n",
        "y_test_pred = rf_model.predict(X_test)\n",
        "\n",
        "r2_train = r2_score(y_train, y_train_pred)\n",
        "mse_train = mean_squared_error(y_train, y_train_pred)\n",
        "r2_test = r2_score(y_test, y_test_pred)\n",
        "mse_test = mean_squared_error(y_test, y_test_pred)\n",
        "\n",
        "print(\"Métricas en el conjunto de entrenamiento:\")\n",
        "print(\"R²:\", r2_train)\n",
        "print(\"MSE:\", mse_train)\n",
        "print(\"\\nMétricas en el conjunto de test:\")\n",
        "print(\"R²:\", r2_test)\n",
        "print(\"MSE:\", mse_test)\n"
      ],
      "metadata": {
        "id": "zjWVfjHzCM7g"
      },
      "execution_count": null,
      "outputs": []
    },
    {
      "cell_type": "code",
      "source": [
        "from sklearn.model_selection import train_test_split\n",
        "from sklearn.metrics import r2_score, mean_squared_error\n",
        "\n",
        "X = df_ic.drop(columns=[\"ic_sbv_pob\"])\n",
        "y = df_ic[\"ic_sbv_pob\"]\n",
        "\n",
        "X_train, X_test, y_train, y_test = train_test_split(X, y, test_size=0.2, random_state=42)\n",
        "rf_model = RandomForestRegressor(\n",
        "    n_estimators=grid_search.best_params_['n_estimators'],\n",
        "    max_depth=grid_search.best_params_['max_depth'],\n",
        "    min_samples_split=grid_search.best_params_['min_samples_split'],\n",
        "    min_samples_leaf=grid_search.best_params_['min_samples_leaf'],\n",
        "    random_state=42\n",
        ")\n",
        "rf_model.fit(X_train, y_train)\n",
        "\n",
        "y_train_pred = rf_model.predict(X_train)\n",
        "y_test_pred = rf_model.predict(X_test)\n",
        "\n",
        "r2_train = r2_score(y_train, y_train_pred)\n",
        "mse_train = mean_squared_error(y_train, y_train_pred)\n",
        "r2_test = r2_score(y_test, y_test_pred)\n",
        "mse_test = mean_squared_error(y_test, y_test_pred)\n",
        "\n",
        "print(\"Métricas en el conjunto de entrenamiento:\")\n",
        "print(\"R²:\", r2_train)\n",
        "print(\"MSE:\", mse_train)\n",
        "print(\"\\nMétricas en el conjunto de test:\")\n",
        "print(\"R²:\", r2_test)\n",
        "print(\"MSE:\", mse_test)\n"
      ],
      "metadata": {
        "id": "aGqkMM05Bo1i"
      },
      "execution_count": null,
      "outputs": []
    }
  ]
}